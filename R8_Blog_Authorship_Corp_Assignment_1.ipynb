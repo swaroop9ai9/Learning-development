{
 "cells": [
  {
   "cell_type": "code",
   "execution_count": 1,
   "metadata": {
    "colab": {
     "base_uri": "https://localhost:8080/",
     "height": 122
    },
    "colab_type": "code",
    "id": "REAT3H4WIvMM",
    "outputId": "47739075-a9a4-4d26-c6e4-1508b96e41d3"
   },
   "outputs": [
    {
     "name": "stdout",
     "output_type": "stream",
     "text": [
      "Go to this URL in a browser: https://accounts.google.com/o/oauth2/auth?client_id=947318989803-6bn6qk8qdgf4n4g3pfee6491hc0brc4i.apps.googleusercontent.com&redirect_uri=urn%3aietf%3awg%3aoauth%3a2.0%3aoob&response_type=code&scope=email%20https%3a%2f%2fwww.googleapis.com%2fauth%2fdocs.test%20https%3a%2f%2fwww.googleapis.com%2fauth%2fdrive%20https%3a%2f%2fwww.googleapis.com%2fauth%2fdrive.photos.readonly%20https%3a%2f%2fwww.googleapis.com%2fauth%2fpeopleapi.readonly\n",
      "\n",
      "Enter your authorization code:\n",
      "··········\n",
      "Mounted at /content/gdrive\n"
     ]
    }
   ],
   "source": [
    "from google.colab import drive\n",
    "drive.mount('/content/gdrive')"
   ]
  },
  {
   "cell_type": "code",
   "execution_count": 0,
   "metadata": {
    "colab": {},
    "colab_type": "code",
    "id": "TO8-LrpFL_Ky"
   },
   "outputs": [],
   "source": [
    "from zipfile import ZipFile\n",
    "import pandas as pd\n",
    "from sklearn.utils import shuffle\n",
    "from sklearn.feature_extraction.text import ENGLISH_STOP_WORDS\n",
    "from sklearn.model_selection import train_test_split\n",
    "from sklearn.feature_extraction.text import CountVectorizer\n",
    "from sklearn.preprocessing import MultiLabelBinarizer\n",
    "from sklearn.linear_model import LogisticRegression\n",
    "from sklearn.svm import SVC, LinearSVC\n",
    "from sklearn.naive_bayes import MultinomialNB\n",
    "from sklearn.multiclass import OneVsRestClassifier\n",
    "from sklearn.metrics import accuracy_score, recall_score, precision_score, f1_score\n",
    "from sklearn.metrics import average_precision_score, roc_auc_score, precision_recall_fscore_support\n",
    "from sklearn.metrics import multilabel_confusion_matrix,classification_report"
   ]
  },
  {
   "cell_type": "code",
   "execution_count": 0,
   "metadata": {
    "colab": {},
    "colab_type": "code",
    "id": "q3ZkRnetJyu5"
   },
   "outputs": [],
   "source": [
    "# Change the path of the data file\n",
    "zip_ref = ZipFile(\"/content/gdrive/My Drive/Co_lab/Blog/blog-authorship-corpus.zip\", 'r')\n",
    "zip_ref.extractall(\"/tmp\")\n",
    "zip_ref.close()"
   ]
  },
  {
   "cell_type": "code",
   "execution_count": 4,
   "metadata": {
    "colab": {
     "base_uri": "https://localhost:8080/",
     "height": 102
    },
    "colab_type": "code",
    "id": "6eE6FXLULcvl",
    "outputId": "e4c7ce89-07bd-43da-d202-fc7f69c6458c"
   },
   "outputs": [
    {
     "name": "stdout",
     "output_type": "stream",
     "text": [
      "total 781668\n",
      "-rw-r--r-- 1 root root 800419647 Apr  1 15:46 blogtext.csv\n",
      "srw------- 1 root root         0 Apr  1 15:45 drivefs_ipc.0\n",
      "srw------- 1 root root         0 Apr  1 15:45 drivefs_ipc.0_shell\n",
      "drwx------ 2 root root      4096 Apr  1 15:45 tmp80dzot4f\n"
     ]
    }
   ],
   "source": [
    "!ls -l /tmp"
   ]
  },
  {
   "cell_type": "code",
   "execution_count": 0,
   "metadata": {
    "colab": {},
    "colab_type": "code",
    "id": "eDEVWNuCNCSn"
   },
   "outputs": [],
   "source": []
  },
  {
   "cell_type": "code",
   "execution_count": 0,
   "metadata": {
    "colab": {},
    "colab_type": "code",
    "id": "csuEf3RDMzqK"
   },
   "outputs": [],
   "source": [
    "df = pd.read_csv('/tmp/blogtext.csv')"
   ]
  },
  {
   "cell_type": "code",
   "execution_count": 6,
   "metadata": {
    "colab": {
     "base_uri": "https://localhost:8080/",
     "height": 34
    },
    "colab_type": "code",
    "id": "ampdfhwQNAoe",
    "outputId": "f1faeb13-bf36-4807-e3fc-7f9142f9c65f"
   },
   "outputs": [
    {
     "data": {
      "text/plain": [
       "(681284, 7)"
      ]
     },
     "execution_count": 6,
     "metadata": {
      "tags": []
     },
     "output_type": "execute_result"
    }
   ],
   "source": [
    "df.shape"
   ]
  },
  {
   "cell_type": "code",
   "execution_count": 7,
   "metadata": {
    "colab": {
     "base_uri": "https://localhost:8080/",
     "height": 204
    },
    "colab_type": "code",
    "id": "zCy_ydIuNMJG",
    "outputId": "21bfa4b2-6dd9-4e37-d2be-f0e2d11123dd"
   },
   "outputs": [
    {
     "data": {
      "text/html": [
       "<div>\n",
       "<style scoped>\n",
       "    .dataframe tbody tr th:only-of-type {\n",
       "        vertical-align: middle;\n",
       "    }\n",
       "\n",
       "    .dataframe tbody tr th {\n",
       "        vertical-align: top;\n",
       "    }\n",
       "\n",
       "    .dataframe thead th {\n",
       "        text-align: right;\n",
       "    }\n",
       "</style>\n",
       "<table border=\"1\" class=\"dataframe\">\n",
       "  <thead>\n",
       "    <tr style=\"text-align: right;\">\n",
       "      <th></th>\n",
       "      <th>id</th>\n",
       "      <th>gender</th>\n",
       "      <th>age</th>\n",
       "      <th>topic</th>\n",
       "      <th>sign</th>\n",
       "      <th>date</th>\n",
       "      <th>text</th>\n",
       "    </tr>\n",
       "  </thead>\n",
       "  <tbody>\n",
       "    <tr>\n",
       "      <th>0</th>\n",
       "      <td>2059027</td>\n",
       "      <td>male</td>\n",
       "      <td>15</td>\n",
       "      <td>Student</td>\n",
       "      <td>Leo</td>\n",
       "      <td>14,May,2004</td>\n",
       "      <td>Info has been found (+/- 100 pages,...</td>\n",
       "    </tr>\n",
       "    <tr>\n",
       "      <th>1</th>\n",
       "      <td>2059027</td>\n",
       "      <td>male</td>\n",
       "      <td>15</td>\n",
       "      <td>Student</td>\n",
       "      <td>Leo</td>\n",
       "      <td>13,May,2004</td>\n",
       "      <td>These are the team members:   Drewe...</td>\n",
       "    </tr>\n",
       "    <tr>\n",
       "      <th>2</th>\n",
       "      <td>2059027</td>\n",
       "      <td>male</td>\n",
       "      <td>15</td>\n",
       "      <td>Student</td>\n",
       "      <td>Leo</td>\n",
       "      <td>12,May,2004</td>\n",
       "      <td>In het kader van kernfusie op aarde...</td>\n",
       "    </tr>\n",
       "    <tr>\n",
       "      <th>3</th>\n",
       "      <td>2059027</td>\n",
       "      <td>male</td>\n",
       "      <td>15</td>\n",
       "      <td>Student</td>\n",
       "      <td>Leo</td>\n",
       "      <td>12,May,2004</td>\n",
       "      <td>testing!!!  testing!!!</td>\n",
       "    </tr>\n",
       "    <tr>\n",
       "      <th>4</th>\n",
       "      <td>3581210</td>\n",
       "      <td>male</td>\n",
       "      <td>33</td>\n",
       "      <td>InvestmentBanking</td>\n",
       "      <td>Aquarius</td>\n",
       "      <td>11,June,2004</td>\n",
       "      <td>Thanks to Yahoo!'s Toolbar I can ...</td>\n",
       "    </tr>\n",
       "  </tbody>\n",
       "</table>\n",
       "</div>"
      ],
      "text/plain": [
       "        id  ...                                               text\n",
       "0  2059027  ...             Info has been found (+/- 100 pages,...\n",
       "1  2059027  ...             These are the team members:   Drewe...\n",
       "2  2059027  ...             In het kader van kernfusie op aarde...\n",
       "3  2059027  ...                   testing!!!  testing!!!          \n",
       "4  3581210  ...               Thanks to Yahoo!'s Toolbar I can ...\n",
       "\n",
       "[5 rows x 7 columns]"
      ]
     },
     "execution_count": 7,
     "metadata": {
      "tags": []
     },
     "output_type": "execute_result"
    }
   ],
   "source": [
    "df.head(5)"
   ]
  },
  {
   "cell_type": "code",
   "execution_count": 0,
   "metadata": {
    "colab": {},
    "colab_type": "code",
    "id": "KALH_8EeNRxZ"
   },
   "outputs": [],
   "source": [
    "from sklearn.utils import resample\n",
    "blog = resample(df,replace=True,n_samples=50000,random_state=7) # with replacement"
   ]
  },
  {
   "cell_type": "code",
   "execution_count": 9,
   "metadata": {
    "colab": {
     "base_uri": "https://localhost:8080/",
     "height": 34
    },
    "colab_type": "code",
    "id": "GVdILDK4RuqJ",
    "outputId": "6a7f6cca-17ad-4ce9-a8f9-b20bb105b02b"
   },
   "outputs": [
    {
     "data": {
      "text/plain": [
       "(50000, 7)"
      ]
     },
     "execution_count": 9,
     "metadata": {
      "tags": []
     },
     "output_type": "execute_result"
    }
   ],
   "source": [
    "blog.shape"
   ]
  },
  {
   "cell_type": "code",
   "execution_count": 10,
   "metadata": {
    "colab": {
     "base_uri": "https://localhost:8080/",
     "height": 204
    },
    "colab_type": "code",
    "id": "-9qPUZeBRyA_",
    "outputId": "d4997201-bbc8-4a96-fc02-6bb83f94481a"
   },
   "outputs": [
    {
     "data": {
      "text/html": [
       "<div>\n",
       "<style scoped>\n",
       "    .dataframe tbody tr th:only-of-type {\n",
       "        vertical-align: middle;\n",
       "    }\n",
       "\n",
       "    .dataframe tbody tr th {\n",
       "        vertical-align: top;\n",
       "    }\n",
       "\n",
       "    .dataframe thead th {\n",
       "        text-align: right;\n",
       "    }\n",
       "</style>\n",
       "<table border=\"1\" class=\"dataframe\">\n",
       "  <thead>\n",
       "    <tr style=\"text-align: right;\">\n",
       "      <th></th>\n",
       "      <th>id</th>\n",
       "      <th>gender</th>\n",
       "      <th>age</th>\n",
       "      <th>topic</th>\n",
       "      <th>sign</th>\n",
       "      <th>date</th>\n",
       "      <th>text</th>\n",
       "    </tr>\n",
       "  </thead>\n",
       "  <tbody>\n",
       "    <tr>\n",
       "      <th>585903</th>\n",
       "      <td>944569</td>\n",
       "      <td>female</td>\n",
       "      <td>14</td>\n",
       "      <td>Student</td>\n",
       "      <td>Leo</td>\n",
       "      <td>02,February,2003</td>\n",
       "      <td>fine, Nini (hehe omg, i called u th...</td>\n",
       "    </tr>\n",
       "    <tr>\n",
       "      <th>189636</th>\n",
       "      <td>1862467</td>\n",
       "      <td>female</td>\n",
       "      <td>27</td>\n",
       "      <td>indUnk</td>\n",
       "      <td>Cancer</td>\n",
       "      <td>17,July,2004</td>\n",
       "      <td>How to tell Nepal's Maoist rebels from...</td>\n",
       "    </tr>\n",
       "    <tr>\n",
       "      <th>573977</th>\n",
       "      <td>1386800</td>\n",
       "      <td>female</td>\n",
       "      <td>45</td>\n",
       "      <td>Non-Profit</td>\n",
       "      <td>Pisces</td>\n",
       "      <td>29,June,2004</td>\n",
       "      <td>Quotes on Friendship    'Each frie...</td>\n",
       "    </tr>\n",
       "    <tr>\n",
       "      <th>535030</th>\n",
       "      <td>3093428</td>\n",
       "      <td>female</td>\n",
       "      <td>17</td>\n",
       "      <td>Student</td>\n",
       "      <td>Taurus</td>\n",
       "      <td>03,June,2004</td>\n",
       "      <td>Ben!!! Welcome to da club! No...</td>\n",
       "    </tr>\n",
       "    <tr>\n",
       "      <th>328599</th>\n",
       "      <td>240089</td>\n",
       "      <td>male</td>\n",
       "      <td>24</td>\n",
       "      <td>indUnk</td>\n",
       "      <td>Taurus</td>\n",
       "      <td>04,May,2003</td>\n",
       "      <td>Happy Drinko De Mayo... Let us cele...</td>\n",
       "    </tr>\n",
       "  </tbody>\n",
       "</table>\n",
       "</div>"
      ],
      "text/plain": [
       "             id  ...                                               text\n",
       "585903   944569  ...             fine, Nini (hehe omg, i called u th...\n",
       "189636  1862467  ...          How to tell Nepal's Maoist rebels from...\n",
       "573977  1386800  ...              Quotes on Friendship    'Each frie...\n",
       "535030  3093428  ...                   Ben!!! Welcome to da club! No...\n",
       "328599   240089  ...             Happy Drinko De Mayo... Let us cele...\n",
       "\n",
       "[5 rows x 7 columns]"
      ]
     },
     "execution_count": 10,
     "metadata": {
      "tags": []
     },
     "output_type": "execute_result"
    }
   ],
   "source": [
    "blog.head(5)"
   ]
  },
  {
   "cell_type": "code",
   "execution_count": 0,
   "metadata": {
    "colab": {},
    "colab_type": "code",
    "id": "XqltcaOKSyfv"
   },
   "outputs": [],
   "source": [
    "#Preprocessing"
   ]
  },
  {
   "cell_type": "code",
   "execution_count": 0,
   "metadata": {
    "colab": {},
    "colab_type": "code",
    "id": "LTUN2eJUboYO"
   },
   "outputs": [],
   "source": [
    "import re"
   ]
  },
  {
   "cell_type": "code",
   "execution_count": 0,
   "metadata": {
    "colab": {},
    "colab_type": "code",
    "id": "MITyJnAAc6vU"
   },
   "outputs": [],
   "source": [
    "#converting text into lowercase"
   ]
  },
  {
   "cell_type": "code",
   "execution_count": 14,
   "metadata": {
    "colab": {
     "base_uri": "https://localhost:8080/",
     "height": 119
    },
    "colab_type": "code",
    "id": "AmBgvYr2al3o",
    "outputId": "5b9293a7-5c21-4cbe-802f-dda17180ced2"
   },
   "outputs": [
    {
     "name": "stderr",
     "output_type": "stream",
     "text": [
      "/usr/local/lib/python3.6/dist-packages/ipykernel_launcher.py:1: SettingWithCopyWarning: \n",
      "A value is trying to be set on a copy of a slice from a DataFrame.\n",
      "Try using .loc[row_indexer,col_indexer] = value instead\n",
      "\n",
      "See the caveats in the documentation: https://pandas.pydata.org/pandas-docs/stable/user_guide/indexing.html#returning-a-view-versus-a-copy\n",
      "  \"\"\"Entry point for launching an IPython kernel.\n"
     ]
    }
   ],
   "source": [
    "blog['text'] = [text.lower() for text in blog['text']]"
   ]
  },
  {
   "cell_type": "code",
   "execution_count": 15,
   "metadata": {
    "colab": {
     "base_uri": "https://localhost:8080/",
     "height": 119
    },
    "colab_type": "code",
    "id": "dR43FBfKa5CM",
    "outputId": "7e1251b1-547d-48a1-e258-33c8e3b6b9ab"
   },
   "outputs": [
    {
     "data": {
      "text/plain": [
       "585903               fine, nini (hehe omg, i called u th...\n",
       "189636            how to tell nepal's maoist rebels from...\n",
       "573977                quotes on friendship    'each frie...\n",
       "535030                     ben!!! welcome to da club! no...\n",
       "328599               happy drinko de mayo... let us cele...\n",
       "Name: text, dtype: object"
      ]
     },
     "execution_count": 15,
     "metadata": {
      "tags": []
     },
     "output_type": "execute_result"
    }
   ],
   "source": [
    "blog['text'][0:5]"
   ]
  },
  {
   "cell_type": "code",
   "execution_count": 0,
   "metadata": {
    "colab": {},
    "colab_type": "code",
    "id": "naV4VPZnczz2"
   },
   "outputs": [],
   "source": [
    "#Removing unwanted charecters"
   ]
  },
  {
   "cell_type": "code",
   "execution_count": 17,
   "metadata": {
    "colab": {
     "base_uri": "https://localhost:8080/",
     "height": 119
    },
    "colab_type": "code",
    "id": "np5MMDlMTgsj",
    "outputId": "dfb316d6-b97f-455e-c8ea-d4f8cb0eb54a"
   },
   "outputs": [
    {
     "name": "stderr",
     "output_type": "stream",
     "text": [
      "/usr/local/lib/python3.6/dist-packages/ipykernel_launcher.py:1: SettingWithCopyWarning: \n",
      "A value is trying to be set on a copy of a slice from a DataFrame.\n",
      "Try using .loc[row_indexer,col_indexer] = value instead\n",
      "\n",
      "See the caveats in the documentation: https://pandas.pydata.org/pandas-docs/stable/user_guide/indexing.html#returning-a-view-versus-a-copy\n",
      "  \"\"\"Entry point for launching an IPython kernel.\n"
     ]
    }
   ],
   "source": [
    "blog['text'] = [re.sub(\"[^a-z0-9 ]+\",\"\", text) for text in blog['text']]"
   ]
  },
  {
   "cell_type": "code",
   "execution_count": 18,
   "metadata": {
    "colab": {
     "base_uri": "https://localhost:8080/",
     "height": 119
    },
    "colab_type": "code",
    "id": "g9hTHm-va5pE",
    "outputId": "cc9f503d-e999-470c-e629-3d6c6eee6fd1"
   },
   "outputs": [
    {
     "data": {
      "text/plain": [
       "585903               fine nini hehe omg i called u that ...\n",
       "189636            how to tell nepals maoist rebels from ...\n",
       "573977                quotes on friendship    each frien...\n",
       "535030                     ben welcome to da club now to...\n",
       "328599               happy drinko de mayo let us celebra...\n",
       "Name: text, dtype: object"
      ]
     },
     "execution_count": 18,
     "metadata": {
      "tags": []
     },
     "output_type": "execute_result"
    }
   ],
   "source": [
    "blog['text'][0:5]"
   ]
  },
  {
   "cell_type": "code",
   "execution_count": 0,
   "metadata": {
    "colab": {},
    "colab_type": "code",
    "id": "-KssDtAgctRL"
   },
   "outputs": [],
   "source": [
    "#Removing Unwanted spaces"
   ]
  },
  {
   "cell_type": "code",
   "execution_count": 20,
   "metadata": {
    "colab": {
     "base_uri": "https://localhost:8080/",
     "height": 119
    },
    "colab_type": "code",
    "id": "lsbIwgJlZ4yL",
    "outputId": "cd675de9-cd0d-455c-e07b-658dd631d3a9"
   },
   "outputs": [
    {
     "name": "stderr",
     "output_type": "stream",
     "text": [
      "/usr/local/lib/python3.6/dist-packages/ipykernel_launcher.py:1: SettingWithCopyWarning: \n",
      "A value is trying to be set on a copy of a slice from a DataFrame.\n",
      "Try using .loc[row_indexer,col_indexer] = value instead\n",
      "\n",
      "See the caveats in the documentation: https://pandas.pydata.org/pandas-docs/stable/user_guide/indexing.html#returning-a-view-versus-a-copy\n",
      "  \"\"\"Entry point for launching an IPython kernel.\n"
     ]
    }
   ],
   "source": [
    "blog['text'] = [re.sub(\"\\s+\",\" \", text).strip() for text in blog['text']]"
   ]
  },
  {
   "cell_type": "code",
   "execution_count": 21,
   "metadata": {
    "colab": {
     "base_uri": "https://localhost:8080/",
     "height": 119
    },
    "colab_type": "code",
    "id": "yN2Cb66cbtGg",
    "outputId": "bf5f4e22-b1e3-4d0f-b645-436b8c8745cd"
   },
   "outputs": [
    {
     "data": {
      "text/plain": [
       "585903    fine nini hehe omg i called u that i wont put ...\n",
       "189636    how to tell nepals maoist rebels from gardenva...\n",
       "573977    quotes on friendship each friend represents a ...\n",
       "535030    ben welcome to da club now to just get others ...\n",
       "328599    happy drinko de mayo let us celebrate the inde...\n",
       "Name: text, dtype: object"
      ]
     },
     "execution_count": 21,
     "metadata": {
      "tags": []
     },
     "output_type": "execute_result"
    }
   ],
   "source": [
    "blog['text'][0:5]"
   ]
  },
  {
   "cell_type": "code",
   "execution_count": 22,
   "metadata": {
    "colab": {
     "base_uri": "https://localhost:8080/",
     "height": 119
    },
    "colab_type": "code",
    "id": "inEqSYLm7_k_",
    "outputId": "54a6526c-8f60-4ad6-cece-46cc3f33228d"
   },
   "outputs": [
    {
     "name": "stdout",
     "output_type": "stream",
     "text": [
      "[nltk_data] Downloading package wordnet to /root/nltk_data...\n",
      "[nltk_data]   Unzipping corpora/wordnet.zip.\n",
      "[nltk_data] Downloading package stopwords to /root/nltk_data...\n",
      "[nltk_data]   Unzipping corpora/stopwords.zip.\n",
      "[nltk_data] Downloading package punkt to /root/nltk_data...\n",
      "[nltk_data]   Unzipping tokenizers/punkt.zip.\n"
     ]
    }
   ],
   "source": [
    "import nltk\n",
    "from nltk import word_tokenize, pos_tag\n",
    "nltk.download('wordnet')\n",
    "from nltk.stem import PorterStemmer, WordNetLemmatizer\n",
    "nltk.download('stopwords')\n",
    "from nltk.corpus import stopwords\n",
    "nltk.download('punkt')\n",
    "from nltk import punkt"
   ]
  },
  {
   "cell_type": "code",
   "execution_count": 0,
   "metadata": {
    "colab": {},
    "colab_type": "code",
    "id": "BYR-Sjk_b8NM"
   },
   "outputs": [],
   "source": [
    "#removing stop words"
   ]
  },
  {
   "cell_type": "code",
   "execution_count": 24,
   "metadata": {
    "colab": {
     "base_uri": "https://localhost:8080/",
     "height": 119
    },
    "colab_type": "code",
    "id": "9Zj4Vw9i6a_i",
    "outputId": "d5302826-711d-454a-c1b7-fe452bd7e1b8"
   },
   "outputs": [
    {
     "name": "stderr",
     "output_type": "stream",
     "text": [
      "/usr/local/lib/python3.6/dist-packages/ipykernel_launcher.py:2: SettingWithCopyWarning: \n",
      "A value is trying to be set on a copy of a slice from a DataFrame.\n",
      "Try using .loc[row_indexer,col_indexer] = value instead\n",
      "\n",
      "See the caveats in the documentation: https://pandas.pydata.org/pandas-docs/stable/user_guide/indexing.html#returning-a-view-versus-a-copy\n",
      "  \n"
     ]
    }
   ],
   "source": [
    "stop = stopwords.words('english')\n",
    "blog['text'] = blog['text'].apply( lambda t : \" \".join( word for word in t.split() \n",
    "                                                       if len(word)>2 if word not in stop ) )"
   ]
  },
  {
   "cell_type": "code",
   "execution_count": 25,
   "metadata": {
    "colab": {
     "base_uri": "https://localhost:8080/",
     "height": 119
    },
    "colab_type": "code",
    "id": "SW-Tgyii6idj",
    "outputId": "eb7376d2-48ff-476f-9703-62e2ed663b20"
   },
   "outputs": [
    {
     "data": {
      "text/plain": [
       "585903    fine nini hehe omg called wont put test scores...\n",
       "189636    tell nepals maoist rebels gardenvariety commun...\n",
       "573977    quotes friendship friend represents world worl...\n",
       "535030    ben welcome club get others insomeones gotta h...\n",
       "328599    happy drinko mayo let celebrate independence 6...\n",
       "Name: text, dtype: object"
      ]
     },
     "execution_count": 25,
     "metadata": {
      "tags": []
     },
     "output_type": "execute_result"
    }
   ],
   "source": [
    "blog['text'][0:5]"
   ]
  },
  {
   "cell_type": "code",
   "execution_count": 26,
   "metadata": {
    "colab": {
     "base_uri": "https://localhost:8080/",
     "height": 119
    },
    "colab_type": "code",
    "id": "iXbQc3bH8TkK",
    "outputId": "fafc0786-ccae-40e1-eaa4-ed4b5e039f61"
   },
   "outputs": [
    {
     "name": "stderr",
     "output_type": "stream",
     "text": [
      "/usr/local/lib/python3.6/dist-packages/ipykernel_launcher.py:3: SettingWithCopyWarning: \n",
      "A value is trying to be set on a copy of a slice from a DataFrame.\n",
      "Try using .loc[row_indexer,col_indexer] = value instead\n",
      "\n",
      "See the caveats in the documentation: https://pandas.pydata.org/pandas-docs/stable/user_guide/indexing.html#returning-a-view-versus-a-copy\n",
      "  This is separate from the ipykernel package so we can avoid doing imports until\n"
     ]
    }
   ],
   "source": [
    "#### Lemmatize the text\n",
    "\n",
    "#Lemmatization\n",
    "lemmatizer = WordNetLemmatizer()\n",
    "# perform lemmatization on the title\n",
    "blog['text'] = blog['text'].apply( lambda t : \" \".join( [lemmatizer.lemmatize(word) for word in t.split()  ]) )"
   ]
  },
  {
   "cell_type": "code",
   "execution_count": 27,
   "metadata": {
    "colab": {
     "base_uri": "https://localhost:8080/",
     "height": 136
    },
    "colab_type": "code",
    "id": "HtZ_p41b6kY4",
    "outputId": "b12bcbf1-209c-4fa4-e74e-7b55525d6c87"
   },
   "outputs": [
    {
     "data": {
      "text/plain": [
       "585903    fine nini hehe omg called wont put test score ...\n",
       "189636    tell nepal maoist rebel gardenvariety communis...\n",
       "573977    quote friendship friend represents world world...\n",
       "535030    ben welcome club get others insomeones gotta h...\n",
       "328599    happy drinko mayo let celebrate independence 6...\n",
       "79463     lady ilene lived distilled kerosene started ab...\n",
       "Name: text, dtype: object"
      ]
     },
     "execution_count": 27,
     "metadata": {
      "tags": []
     },
     "output_type": "execute_result"
    }
   ],
   "source": [
    "blog['text'][0:6]"
   ]
  },
  {
   "cell_type": "code",
   "execution_count": 28,
   "metadata": {
    "colab": {
     "base_uri": "https://localhost:8080/",
     "height": 34
    },
    "colab_type": "code",
    "id": "-wKDKWbG8hAS",
    "outputId": "fd5ca804-e339-4cd2-ddf0-fa9cf069231f"
   },
   "outputs": [
    {
     "data": {
      "text/plain": [
       "Index(['id', 'gender', 'age', 'topic', 'sign', 'date', 'text'], dtype='object')"
      ]
     },
     "execution_count": 28,
     "metadata": {
      "tags": []
     },
     "output_type": "execute_result"
    }
   ],
   "source": [
    "#As we want to make this into a multi-label classification problem, you are required to merge all the label columns together, so that we have all the labels together for a particular sentence\n",
    "blog.columns"
   ]
  },
  {
   "cell_type": "code",
   "execution_count": 29,
   "metadata": {
    "colab": {
     "base_uri": "https://localhost:8080/",
     "height": 111
    },
    "colab_type": "code",
    "id": "qipIoDiu8wXx",
    "outputId": "b6419922-bea5-4ad5-9644-3d398a24e50b"
   },
   "outputs": [
    {
     "data": {
      "text/html": [
       "<div>\n",
       "<style scoped>\n",
       "    .dataframe tbody tr th:only-of-type {\n",
       "        vertical-align: middle;\n",
       "    }\n",
       "\n",
       "    .dataframe tbody tr th {\n",
       "        vertical-align: top;\n",
       "    }\n",
       "\n",
       "    .dataframe thead th {\n",
       "        text-align: right;\n",
       "    }\n",
       "</style>\n",
       "<table border=\"1\" class=\"dataframe\">\n",
       "  <thead>\n",
       "    <tr style=\"text-align: right;\">\n",
       "      <th></th>\n",
       "      <th>id</th>\n",
       "      <th>gender</th>\n",
       "      <th>age</th>\n",
       "      <th>topic</th>\n",
       "      <th>sign</th>\n",
       "      <th>date</th>\n",
       "      <th>text</th>\n",
       "    </tr>\n",
       "  </thead>\n",
       "  <tbody>\n",
       "    <tr>\n",
       "      <th>585903</th>\n",
       "      <td>944569</td>\n",
       "      <td>female</td>\n",
       "      <td>14</td>\n",
       "      <td>Student</td>\n",
       "      <td>Leo</td>\n",
       "      <td>02,February,2003</td>\n",
       "      <td>fine nini hehe omg called wont put test score ...</td>\n",
       "    </tr>\n",
       "    <tr>\n",
       "      <th>189636</th>\n",
       "      <td>1862467</td>\n",
       "      <td>female</td>\n",
       "      <td>27</td>\n",
       "      <td>indUnk</td>\n",
       "      <td>Cancer</td>\n",
       "      <td>17,July,2004</td>\n",
       "      <td>tell nepal maoist rebel gardenvariety communis...</td>\n",
       "    </tr>\n",
       "  </tbody>\n",
       "</table>\n",
       "</div>"
      ],
      "text/plain": [
       "             id  ...                                               text\n",
       "585903   944569  ...  fine nini hehe omg called wont put test score ...\n",
       "189636  1862467  ...  tell nepal maoist rebel gardenvariety communis...\n",
       "\n",
       "[2 rows x 7 columns]"
      ]
     },
     "execution_count": 29,
     "metadata": {
      "tags": []
     },
     "output_type": "execute_result"
    }
   ],
   "source": [
    "blog.head(2)"
   ]
  },
  {
   "cell_type": "code",
   "execution_count": 30,
   "metadata": {
    "colab": {
     "base_uri": "https://localhost:8080/",
     "height": 119
    },
    "colab_type": "code",
    "id": "b-hKyBnm88aI",
    "outputId": "42005cf8-8b58-4d69-f965-78cb3286c1ba"
   },
   "outputs": [
    {
     "name": "stderr",
     "output_type": "stream",
     "text": [
      "/usr/local/lib/python3.6/dist-packages/ipykernel_launcher.py:2: SettingWithCopyWarning: \n",
      "A value is trying to be set on a copy of a slice from a DataFrame.\n",
      "Try using .loc[row_indexer,col_indexer] = value instead\n",
      "\n",
      "See the caveats in the documentation: https://pandas.pydata.org/pandas-docs/stable/user_guide/indexing.html#returning-a-view-versus-a-copy\n",
      "  \n"
     ]
    }
   ],
   "source": [
    "#### a. Label columns to merge: “gender”, “age”, “topic”, “sign”\n",
    "\n",
    "#Merge all four labels into one label\n",
    "\n",
    "blog['labels'] = blog.apply(lambda x : [x['gender'], str(x['age']), x['topic'], x['sign']], axis=1)"
   ]
  },
  {
   "cell_type": "code",
   "execution_count": 31,
   "metadata": {
    "colab": {
     "base_uri": "https://localhost:8080/",
     "height": 111
    },
    "colab_type": "code",
    "id": "iBWYD6A_9IHP",
    "outputId": "21672850-1f0f-49e5-cecd-94626603b249"
   },
   "outputs": [
    {
     "data": {
      "text/html": [
       "<div>\n",
       "<style scoped>\n",
       "    .dataframe tbody tr th:only-of-type {\n",
       "        vertical-align: middle;\n",
       "    }\n",
       "\n",
       "    .dataframe tbody tr th {\n",
       "        vertical-align: top;\n",
       "    }\n",
       "\n",
       "    .dataframe thead th {\n",
       "        text-align: right;\n",
       "    }\n",
       "</style>\n",
       "<table border=\"1\" class=\"dataframe\">\n",
       "  <thead>\n",
       "    <tr style=\"text-align: right;\">\n",
       "      <th></th>\n",
       "      <th>text</th>\n",
       "      <th>labels</th>\n",
       "    </tr>\n",
       "  </thead>\n",
       "  <tbody>\n",
       "    <tr>\n",
       "      <th>585903</th>\n",
       "      <td>fine nini hehe omg called wont put test score ...</td>\n",
       "      <td>[female, 14, Student, Leo]</td>\n",
       "    </tr>\n",
       "    <tr>\n",
       "      <th>189636</th>\n",
       "      <td>tell nepal maoist rebel gardenvariety communis...</td>\n",
       "      <td>[female, 27, indUnk, Cancer]</td>\n",
       "    </tr>\n",
       "  </tbody>\n",
       "</table>\n",
       "</div>"
      ],
      "text/plain": [
       "                                                     text                        labels\n",
       "585903  fine nini hehe omg called wont put test score ...    [female, 14, Student, Leo]\n",
       "189636  tell nepal maoist rebel gardenvariety communis...  [female, 27, indUnk, Cancer]"
      ]
     },
     "execution_count": 31,
     "metadata": {
      "tags": []
     },
     "output_type": "execute_result"
    }
   ],
   "source": [
    "blog[['text','labels']][0:2]"
   ]
  },
  {
   "cell_type": "code",
   "execution_count": 0,
   "metadata": {
    "colab": {},
    "colab_type": "code",
    "id": "xLuokTt7-vEt"
   },
   "outputs": [],
   "source": [
    "#### b. After completing the previous step, there should be only two columns in your dataframe i.e. “text” and “labels”\n",
    "\n",
    "#Create a DataFrame with two columns text and length\n",
    "\n",
    "blog_df = pd.DataFrame()\n",
    "blog_df['text'] = blog['text']\n",
    "blog_df['labels'] = blog['labels']"
   ]
  },
  {
   "cell_type": "code",
   "execution_count": 34,
   "metadata": {
    "colab": {
     "base_uri": "https://localhost:8080/",
     "height": 204
    },
    "colab_type": "code",
    "id": "86ZGTgry_DCf",
    "outputId": "fe1b0a61-dc01-4e16-c3c4-1a7a06429a96"
   },
   "outputs": [
    {
     "data": {
      "text/html": [
       "<div>\n",
       "<style scoped>\n",
       "    .dataframe tbody tr th:only-of-type {\n",
       "        vertical-align: middle;\n",
       "    }\n",
       "\n",
       "    .dataframe tbody tr th {\n",
       "        vertical-align: top;\n",
       "    }\n",
       "\n",
       "    .dataframe thead th {\n",
       "        text-align: right;\n",
       "    }\n",
       "</style>\n",
       "<table border=\"1\" class=\"dataframe\">\n",
       "  <thead>\n",
       "    <tr style=\"text-align: right;\">\n",
       "      <th></th>\n",
       "      <th>text</th>\n",
       "      <th>labels</th>\n",
       "    </tr>\n",
       "  </thead>\n",
       "  <tbody>\n",
       "    <tr>\n",
       "      <th>585903</th>\n",
       "      <td>fine nini hehe omg called wont put test score ...</td>\n",
       "      <td>[female, 14, Student, Leo]</td>\n",
       "    </tr>\n",
       "    <tr>\n",
       "      <th>189636</th>\n",
       "      <td>tell nepal maoist rebel gardenvariety communis...</td>\n",
       "      <td>[female, 27, indUnk, Cancer]</td>\n",
       "    </tr>\n",
       "    <tr>\n",
       "      <th>573977</th>\n",
       "      <td>quote friendship friend represents world world...</td>\n",
       "      <td>[female, 45, Non-Profit, Pisces]</td>\n",
       "    </tr>\n",
       "    <tr>\n",
       "      <th>535030</th>\n",
       "      <td>ben welcome club get others insomeones gotta h...</td>\n",
       "      <td>[female, 17, Student, Taurus]</td>\n",
       "    </tr>\n",
       "    <tr>\n",
       "      <th>328599</th>\n",
       "      <td>happy drinko mayo let celebrate independence 6...</td>\n",
       "      <td>[male, 24, indUnk, Taurus]</td>\n",
       "    </tr>\n",
       "  </tbody>\n",
       "</table>\n",
       "</div>"
      ],
      "text/plain": [
       "                                                     text                            labels\n",
       "585903  fine nini hehe omg called wont put test score ...        [female, 14, Student, Leo]\n",
       "189636  tell nepal maoist rebel gardenvariety communis...      [female, 27, indUnk, Cancer]\n",
       "573977  quote friendship friend represents world world...  [female, 45, Non-Profit, Pisces]\n",
       "535030  ben welcome club get others insomeones gotta h...     [female, 17, Student, Taurus]\n",
       "328599  happy drinko mayo let celebrate independence 6...        [male, 24, indUnk, Taurus]"
      ]
     },
     "execution_count": 34,
     "metadata": {
      "tags": []
     },
     "output_type": "execute_result"
    }
   ],
   "source": [
    "blog_df.shape\n",
    "\n",
    "blog_df.columns\n",
    "\n",
    "blog_df.head()"
   ]
  },
  {
   "cell_type": "code",
   "execution_count": 0,
   "metadata": {
    "colab": {},
    "colab_type": "code",
    "id": "Z41yu4k_AYom"
   },
   "outputs": [],
   "source": [
    "### 4. Separate features and labels, and split the data into training and testing (5 points)\n",
    "\n",
    "#Features\n",
    "X = blog_df['text']"
   ]
  },
  {
   "cell_type": "code",
   "execution_count": 0,
   "metadata": {
    "colab": {},
    "colab_type": "code",
    "id": "RE3SZYpGAgO1"
   },
   "outputs": [],
   "source": [
    "#labels\n",
    "y = blog_df['labels']"
   ]
  },
  {
   "cell_type": "code",
   "execution_count": 0,
   "metadata": {
    "colab": {},
    "colab_type": "code",
    "id": "T0FH12tdAnqa"
   },
   "outputs": [],
   "source": [
    "#Split Features and labels into training set and test set\n",
    "\n",
    "X_train, X_test, y_train, y_test = train_test_split(X, y, test_size=0.20, random_state=7)\n"
   ]
  },
  {
   "cell_type": "code",
   "execution_count": 44,
   "metadata": {
    "colab": {
     "base_uri": "https://localhost:8080/",
     "height": 34
    },
    "colab_type": "code",
    "id": "m2VWoDoiA2mR",
    "outputId": "0a93878c-0bd7-49c7-ea91-6a9b75ae8fe1"
   },
   "outputs": [
    {
     "data": {
      "text/plain": [
       "((40000,), (40000,))"
      ]
     },
     "execution_count": 44,
     "metadata": {
      "tags": []
     },
     "output_type": "execute_result"
    }
   ],
   "source": [
    "#Shape of X_train and y_train\n",
    "\n",
    "X_train.shape, y_train.shape\n"
   ]
  },
  {
   "cell_type": "code",
   "execution_count": 45,
   "metadata": {
    "colab": {
     "base_uri": "https://localhost:8080/",
     "height": 34
    },
    "colab_type": "code",
    "id": "DXiZhZCyA8CR",
    "outputId": "0aa06f75-6bc9-4c65-fc8c-a9bb7b361061"
   },
   "outputs": [
    {
     "data": {
      "text/plain": [
       "((10000,), (10000,))"
      ]
     },
     "execution_count": 45,
     "metadata": {
      "tags": []
     },
     "output_type": "execute_result"
    }
   ],
   "source": [
    "#Shape of X_test and y_test\n",
    "\n",
    "X_test.shape, y_test.shape"
   ]
  },
  {
   "cell_type": "code",
   "execution_count": 0,
   "metadata": {
    "colab": {},
    "colab_type": "code",
    "id": "RCNcDHx-BMfM"
   },
   "outputs": [],
   "source": [
    "### 5. Vectorize the features (5 points)\n",
    "\n",
    "#### a. Create a Bag of Words using count vectorizer\n",
    "#### i. Use ngram_range=(1, 2)\n",
    "#### ii. Vectorize training and testing features\n",
    "\n",
    "#Create an instance of CountVectorizer\n",
    "\n",
    "countvect = CountVectorizer(ngram_range=(1,2), max_features=8000)"
   ]
  },
  {
   "cell_type": "code",
   "execution_count": 47,
   "metadata": {
    "colab": {
     "base_uri": "https://localhost:8080/",
     "height": 119
    },
    "colab_type": "code",
    "id": "jFg3aVrFBT8I",
    "outputId": "ef7d44ca-fdc1-4734-d107-8b376ce4e33b"
   },
   "outputs": [
    {
     "data": {
      "text/plain": [
       "CountVectorizer(analyzer='word', binary=False, decode_error='strict',\n",
       "                dtype=<class 'numpy.int64'>, encoding='utf-8', input='content',\n",
       "                lowercase=True, max_df=1.0, max_features=8000, min_df=1,\n",
       "                ngram_range=(1, 2), preprocessor=None, stop_words=None,\n",
       "                strip_accents=None, token_pattern='(?u)\\\\b\\\\w\\\\w+\\\\b',\n",
       "                tokenizer=None, vocabulary=None)"
      ]
     },
     "execution_count": 47,
     "metadata": {
      "tags": []
     },
     "output_type": "execute_result"
    }
   ],
   "source": [
    "#Fit the CountVectorizer on Feature set\n",
    "\n",
    "countvect.fit(X)"
   ]
  },
  {
   "cell_type": "code",
   "execution_count": 0,
   "metadata": {
    "colab": {},
    "colab_type": "code",
    "id": "Qrem47bTBbWT"
   },
   "outputs": [],
   "source": [
    "#Transform training set and test set into count vectors (BoW)\n",
    "\n",
    "X_bow_train = countvect.transform(X_train)\n",
    "X_bow_test = countvect.transform(X_test)"
   ]
  },
  {
   "cell_type": "code",
   "execution_count": 49,
   "metadata": {
    "colab": {
     "base_uri": "https://localhost:8080/",
     "height": 34
    },
    "colab_type": "code",
    "id": "-Xl9B3-kBgzC",
    "outputId": "28092c6a-e036-477e-d6b6-deaea0b7ecf4"
   },
   "outputs": [
    {
     "data": {
      "text/plain": [
       "((40000, 8000), (10000, 8000))"
      ]
     },
     "execution_count": 49,
     "metadata": {
      "tags": []
     },
     "output_type": "execute_result"
    }
   ],
   "source": [
    "#Shape of sparse csr matrices with count vectors of training set and test set\n",
    "\n",
    "X_bow_train.shape, X_bow_test.shape"
   ]
  },
  {
   "cell_type": "code",
   "execution_count": 0,
   "metadata": {
    "colab": {},
    "colab_type": "code",
    "id": "IGBK8PofBmbU"
   },
   "outputs": [],
   "source": [
    "#### b. Print the term-document matrix\n",
    "\n",
    "#Function to create term-document matrix by chunking the sparse csr matrix\n",
    "\n",
    "def get_dtm_using_chunks(sparce_csr_matrix, size, chunk_size):\n",
    "    #size=countvect.max_features\n",
    "    #chunk_size=100\n",
    "    dtm = pd.DataFrame()\n",
    "    if size < chunk_size:\n",
    "        dtm = pd.concat([dtm, pd.DataFrame(sparce_csr_matrix[:,0:size].toarray())], axis=1)\n",
    "        gc.collect()\n",
    "    chunks_nb = int(size/chunk_size)\n",
    "    print(\"Max. Number of Features : \", size)\n",
    "    print(\"Number of chunks used : \", chunks_nb)\n",
    "    iter_ints = range(0, chunks_nb)\n",
    "    print(\"Started creating DTM matrix by chunking....\")\n",
    "    for i in iter_ints:\n",
    "        j = i * chunk_size\n",
    "        if i+1 < chunks_nb:\n",
    "            k = j + chunk_size\n",
    "            #print(\"k loop\",i,j,k,\"\\t\")\n",
    "            dtm = pd.concat([dtm, pd.DataFrame(sparce_csr_matrix[:,j:k].toarray())], axis=1)\n",
    "            gc.collect()\n",
    "        else:\n",
    "            #print(\"j loop\",i,j,\"\\t\")\n",
    "            dtm = pd.concat([dtm, pd.DataFrame(sparce_csr_matrix[:,j:].toarray())], axis=1)\n",
    "            gc.collect()\n",
    "    print(\"...Done\")\n",
    "    return dtm"
   ]
  },
  {
   "cell_type": "code",
   "execution_count": 0,
   "metadata": {
    "colab": {},
    "colab_type": "code",
    "id": "-d0CcRSwb6zI"
   },
   "outputs": [],
   "source": [
    "import gc"
   ]
  },
  {
   "cell_type": "code",
   "execution_count": 54,
   "metadata": {
    "colab": {
     "base_uri": "https://localhost:8080/",
     "height": 102
    },
    "colab_type": "code",
    "id": "opQ0Q0ZRBtB7",
    "outputId": "3d122d26-ef6a-4d6c-c468-ced1f0d9b023"
   },
   "outputs": [
    {
     "name": "stdout",
     "output_type": "stream",
     "text": [
      "Term-Document Matrix for Training-set count vector:\n",
      "Max. Number of Features :  8000\n",
      "Number of chunks used :  80\n",
      "Started creating DTM matrix by chunking....\n",
      "...Done\n"
     ]
    }
   ],
   "source": [
    "print(\"Term-Document Matrix for Training-set count vector:\")\n",
    "dtm_train = get_dtm_using_chunks(X_bow_train, countvect.max_features, 100)"
   ]
  },
  {
   "cell_type": "code",
   "execution_count": 55,
   "metadata": {
    "colab": {
     "base_uri": "https://localhost:8080/",
     "height": 102
    },
    "colab_type": "code",
    "id": "RPCzYc7dBy4x",
    "outputId": "f6a3cc91-eafe-487c-8f8e-e06f6c7d87dd"
   },
   "outputs": [
    {
     "name": "stdout",
     "output_type": "stream",
     "text": [
      "Term-Document Matrix for Test-set count vector:\n",
      "Max. Number of Features :  8000\n",
      "Number of chunks used :  80\n",
      "Started creating DTM matrix by chunking....\n",
      "...Done\n"
     ]
    }
   ],
   "source": [
    "print(\"Term-Document Matrix for Test-set count vector:\")\n",
    "dtm_test = get_dtm_using_chunks(X_bow_test, countvect.max_features, 100)"
   ]
  },
  {
   "cell_type": "code",
   "execution_count": 56,
   "metadata": {
    "colab": {
     "base_uri": "https://localhost:8080/",
     "height": 34
    },
    "colab_type": "code",
    "id": "HPYUqiQLB3Qw",
    "outputId": "5825efe2-57d7-4fd4-dc84-64136f9a11d0"
   },
   "outputs": [
    {
     "data": {
      "text/plain": [
       "(40000, 8000)"
      ]
     },
     "execution_count": 56,
     "metadata": {
      "tags": []
     },
     "output_type": "execute_result"
    }
   ],
   "source": [
    "##### Term-Document Matrix for training set\n",
    "\n",
    "dtm_train.columns = countvect.get_feature_names()\n",
    "dtm_train.shape"
   ]
  },
  {
   "cell_type": "code",
   "execution_count": 57,
   "metadata": {
    "colab": {
     "base_uri": "https://localhost:8080/",
     "height": 34
    },
    "colab_type": "code",
    "id": "_BxMgIslB80S",
    "outputId": "e42472af-e1ea-4b72-b4af-7acd3871bcfd"
   },
   "outputs": [
    {
     "data": {
      "text/plain": [
       "(10000, 8000)"
      ]
     },
     "execution_count": 57,
     "metadata": {
      "tags": []
     },
     "output_type": "execute_result"
    }
   ],
   "source": [
    "dtm_train.columns\n",
    "\n",
    "dtm_train.head()\n",
    "\n",
    "##### Term-Document Matrix for test set\n",
    "\n",
    "dtm_test.columns = countvect.get_feature_names()\n",
    "dtm_test.shape"
   ]
  },
  {
   "cell_type": "code",
   "execution_count": 58,
   "metadata": {
    "colab": {
     "base_uri": "https://localhost:8080/",
     "height": 270
    },
    "colab_type": "code",
    "id": "JgFaQ4URCI7Y",
    "outputId": "6005e02f-38d8-4e79-e0da-f885fb2e71bf"
   },
   "outputs": [
    {
     "data": {
      "text/html": [
       "<div>\n",
       "<style scoped>\n",
       "    .dataframe tbody tr th:only-of-type {\n",
       "        vertical-align: middle;\n",
       "    }\n",
       "\n",
       "    .dataframe tbody tr th {\n",
       "        vertical-align: top;\n",
       "    }\n",
       "\n",
       "    .dataframe thead th {\n",
       "        text-align: right;\n",
       "    }\n",
       "</style>\n",
       "<table border=\"1\" class=\"dataframe\">\n",
       "  <thead>\n",
       "    <tr style=\"text-align: right;\">\n",
       "      <th></th>\n",
       "      <th>100</th>\n",
       "      <th>1000</th>\n",
       "      <th>101</th>\n",
       "      <th>1030</th>\n",
       "      <th>10th</th>\n",
       "      <th>1100</th>\n",
       "      <th>1130</th>\n",
       "      <th>11th</th>\n",
       "      <th>120</th>\n",
       "      <th>1230</th>\n",
       "      <th>130</th>\n",
       "      <th>13th</th>\n",
       "      <th>14th</th>\n",
       "      <th>150</th>\n",
       "      <th>151</th>\n",
       "      <th>15th</th>\n",
       "      <th>17th</th>\n",
       "      <th>18th</th>\n",
       "      <th>1996</th>\n",
       "      <th>1998</th>\n",
       "      <th>1999</th>\n",
       "      <th>1st</th>\n",
       "      <th>200</th>\n",
       "      <th>2000</th>\n",
       "      <th>2001</th>\n",
       "      <th>2002</th>\n",
       "      <th>2003</th>\n",
       "      <th>2004</th>\n",
       "      <th>2005</th>\n",
       "      <th>20th</th>\n",
       "      <th>21st</th>\n",
       "      <th>230</th>\n",
       "      <th>2day</th>\n",
       "      <th>2nd</th>\n",
       "      <th>300</th>\n",
       "      <th>3000</th>\n",
       "      <th>316</th>\n",
       "      <th>316 finisher</th>\n",
       "      <th>330</th>\n",
       "      <th>3am</th>\n",
       "      <th>...</th>\n",
       "      <th>yoga</th>\n",
       "      <th>york</th>\n",
       "      <th>york city</th>\n",
       "      <th>york time</th>\n",
       "      <th>youd</th>\n",
       "      <th>youd like</th>\n",
       "      <th>youd think</th>\n",
       "      <th>youll</th>\n",
       "      <th>youll find</th>\n",
       "      <th>youll never</th>\n",
       "      <th>youll see</th>\n",
       "      <th>younbsp</th>\n",
       "      <th>young</th>\n",
       "      <th>young man</th>\n",
       "      <th>young people</th>\n",
       "      <th>young woman</th>\n",
       "      <th>younger</th>\n",
       "      <th>youngest</th>\n",
       "      <th>youre</th>\n",
       "      <th>youre going</th>\n",
       "      <th>youre gonna</th>\n",
       "      <th>youre one</th>\n",
       "      <th>youth</th>\n",
       "      <th>youth group</th>\n",
       "      <th>youve</th>\n",
       "      <th>youve ever</th>\n",
       "      <th>youve got</th>\n",
       "      <th>yr</th>\n",
       "      <th>yuck</th>\n",
       "      <th>yum</th>\n",
       "      <th>yummy</th>\n",
       "      <th>yun</th>\n",
       "      <th>yung</th>\n",
       "      <th>yup</th>\n",
       "      <th>zach</th>\n",
       "      <th>zealand</th>\n",
       "      <th>zero</th>\n",
       "      <th>zombie</th>\n",
       "      <th>zone</th>\n",
       "      <th>zoo</th>\n",
       "    </tr>\n",
       "  </thead>\n",
       "  <tbody>\n",
       "    <tr>\n",
       "      <th>0</th>\n",
       "      <td>1</td>\n",
       "      <td>0</td>\n",
       "      <td>0</td>\n",
       "      <td>0</td>\n",
       "      <td>0</td>\n",
       "      <td>0</td>\n",
       "      <td>0</td>\n",
       "      <td>0</td>\n",
       "      <td>0</td>\n",
       "      <td>0</td>\n",
       "      <td>0</td>\n",
       "      <td>0</td>\n",
       "      <td>0</td>\n",
       "      <td>0</td>\n",
       "      <td>0</td>\n",
       "      <td>0</td>\n",
       "      <td>0</td>\n",
       "      <td>0</td>\n",
       "      <td>0</td>\n",
       "      <td>0</td>\n",
       "      <td>0</td>\n",
       "      <td>0</td>\n",
       "      <td>0</td>\n",
       "      <td>0</td>\n",
       "      <td>0</td>\n",
       "      <td>0</td>\n",
       "      <td>0</td>\n",
       "      <td>0</td>\n",
       "      <td>0</td>\n",
       "      <td>0</td>\n",
       "      <td>0</td>\n",
       "      <td>0</td>\n",
       "      <td>0</td>\n",
       "      <td>0</td>\n",
       "      <td>1</td>\n",
       "      <td>0</td>\n",
       "      <td>0</td>\n",
       "      <td>0</td>\n",
       "      <td>0</td>\n",
       "      <td>0</td>\n",
       "      <td>...</td>\n",
       "      <td>0</td>\n",
       "      <td>0</td>\n",
       "      <td>0</td>\n",
       "      <td>0</td>\n",
       "      <td>0</td>\n",
       "      <td>0</td>\n",
       "      <td>0</td>\n",
       "      <td>0</td>\n",
       "      <td>0</td>\n",
       "      <td>0</td>\n",
       "      <td>0</td>\n",
       "      <td>0</td>\n",
       "      <td>0</td>\n",
       "      <td>0</td>\n",
       "      <td>0</td>\n",
       "      <td>0</td>\n",
       "      <td>0</td>\n",
       "      <td>0</td>\n",
       "      <td>0</td>\n",
       "      <td>0</td>\n",
       "      <td>0</td>\n",
       "      <td>0</td>\n",
       "      <td>0</td>\n",
       "      <td>0</td>\n",
       "      <td>0</td>\n",
       "      <td>0</td>\n",
       "      <td>0</td>\n",
       "      <td>0</td>\n",
       "      <td>0</td>\n",
       "      <td>0</td>\n",
       "      <td>0</td>\n",
       "      <td>0</td>\n",
       "      <td>0</td>\n",
       "      <td>0</td>\n",
       "      <td>0</td>\n",
       "      <td>0</td>\n",
       "      <td>0</td>\n",
       "      <td>0</td>\n",
       "      <td>0</td>\n",
       "      <td>0</td>\n",
       "    </tr>\n",
       "    <tr>\n",
       "      <th>1</th>\n",
       "      <td>0</td>\n",
       "      <td>0</td>\n",
       "      <td>0</td>\n",
       "      <td>0</td>\n",
       "      <td>0</td>\n",
       "      <td>0</td>\n",
       "      <td>0</td>\n",
       "      <td>0</td>\n",
       "      <td>0</td>\n",
       "      <td>0</td>\n",
       "      <td>0</td>\n",
       "      <td>0</td>\n",
       "      <td>0</td>\n",
       "      <td>0</td>\n",
       "      <td>0</td>\n",
       "      <td>0</td>\n",
       "      <td>0</td>\n",
       "      <td>0</td>\n",
       "      <td>0</td>\n",
       "      <td>0</td>\n",
       "      <td>0</td>\n",
       "      <td>0</td>\n",
       "      <td>0</td>\n",
       "      <td>0</td>\n",
       "      <td>0</td>\n",
       "      <td>0</td>\n",
       "      <td>0</td>\n",
       "      <td>0</td>\n",
       "      <td>0</td>\n",
       "      <td>0</td>\n",
       "      <td>0</td>\n",
       "      <td>0</td>\n",
       "      <td>0</td>\n",
       "      <td>0</td>\n",
       "      <td>0</td>\n",
       "      <td>0</td>\n",
       "      <td>0</td>\n",
       "      <td>0</td>\n",
       "      <td>0</td>\n",
       "      <td>0</td>\n",
       "      <td>...</td>\n",
       "      <td>0</td>\n",
       "      <td>0</td>\n",
       "      <td>0</td>\n",
       "      <td>0</td>\n",
       "      <td>0</td>\n",
       "      <td>0</td>\n",
       "      <td>0</td>\n",
       "      <td>0</td>\n",
       "      <td>0</td>\n",
       "      <td>0</td>\n",
       "      <td>0</td>\n",
       "      <td>0</td>\n",
       "      <td>0</td>\n",
       "      <td>0</td>\n",
       "      <td>0</td>\n",
       "      <td>0</td>\n",
       "      <td>0</td>\n",
       "      <td>0</td>\n",
       "      <td>0</td>\n",
       "      <td>0</td>\n",
       "      <td>0</td>\n",
       "      <td>0</td>\n",
       "      <td>0</td>\n",
       "      <td>0</td>\n",
       "      <td>1</td>\n",
       "      <td>0</td>\n",
       "      <td>0</td>\n",
       "      <td>0</td>\n",
       "      <td>0</td>\n",
       "      <td>0</td>\n",
       "      <td>0</td>\n",
       "      <td>0</td>\n",
       "      <td>0</td>\n",
       "      <td>0</td>\n",
       "      <td>0</td>\n",
       "      <td>0</td>\n",
       "      <td>0</td>\n",
       "      <td>0</td>\n",
       "      <td>0</td>\n",
       "      <td>0</td>\n",
       "    </tr>\n",
       "    <tr>\n",
       "      <th>2</th>\n",
       "      <td>0</td>\n",
       "      <td>0</td>\n",
       "      <td>0</td>\n",
       "      <td>0</td>\n",
       "      <td>0</td>\n",
       "      <td>0</td>\n",
       "      <td>0</td>\n",
       "      <td>0</td>\n",
       "      <td>0</td>\n",
       "      <td>0</td>\n",
       "      <td>0</td>\n",
       "      <td>0</td>\n",
       "      <td>0</td>\n",
       "      <td>0</td>\n",
       "      <td>0</td>\n",
       "      <td>0</td>\n",
       "      <td>0</td>\n",
       "      <td>0</td>\n",
       "      <td>0</td>\n",
       "      <td>0</td>\n",
       "      <td>0</td>\n",
       "      <td>0</td>\n",
       "      <td>0</td>\n",
       "      <td>0</td>\n",
       "      <td>0</td>\n",
       "      <td>0</td>\n",
       "      <td>0</td>\n",
       "      <td>0</td>\n",
       "      <td>0</td>\n",
       "      <td>0</td>\n",
       "      <td>0</td>\n",
       "      <td>0</td>\n",
       "      <td>0</td>\n",
       "      <td>0</td>\n",
       "      <td>0</td>\n",
       "      <td>0</td>\n",
       "      <td>0</td>\n",
       "      <td>0</td>\n",
       "      <td>0</td>\n",
       "      <td>0</td>\n",
       "      <td>...</td>\n",
       "      <td>0</td>\n",
       "      <td>0</td>\n",
       "      <td>0</td>\n",
       "      <td>0</td>\n",
       "      <td>0</td>\n",
       "      <td>0</td>\n",
       "      <td>0</td>\n",
       "      <td>0</td>\n",
       "      <td>0</td>\n",
       "      <td>0</td>\n",
       "      <td>0</td>\n",
       "      <td>0</td>\n",
       "      <td>0</td>\n",
       "      <td>0</td>\n",
       "      <td>0</td>\n",
       "      <td>0</td>\n",
       "      <td>0</td>\n",
       "      <td>0</td>\n",
       "      <td>0</td>\n",
       "      <td>0</td>\n",
       "      <td>0</td>\n",
       "      <td>0</td>\n",
       "      <td>0</td>\n",
       "      <td>0</td>\n",
       "      <td>0</td>\n",
       "      <td>0</td>\n",
       "      <td>0</td>\n",
       "      <td>0</td>\n",
       "      <td>0</td>\n",
       "      <td>0</td>\n",
       "      <td>0</td>\n",
       "      <td>0</td>\n",
       "      <td>0</td>\n",
       "      <td>0</td>\n",
       "      <td>0</td>\n",
       "      <td>0</td>\n",
       "      <td>0</td>\n",
       "      <td>0</td>\n",
       "      <td>0</td>\n",
       "      <td>0</td>\n",
       "    </tr>\n",
       "    <tr>\n",
       "      <th>3</th>\n",
       "      <td>0</td>\n",
       "      <td>0</td>\n",
       "      <td>0</td>\n",
       "      <td>0</td>\n",
       "      <td>0</td>\n",
       "      <td>0</td>\n",
       "      <td>0</td>\n",
       "      <td>0</td>\n",
       "      <td>0</td>\n",
       "      <td>0</td>\n",
       "      <td>0</td>\n",
       "      <td>0</td>\n",
       "      <td>0</td>\n",
       "      <td>0</td>\n",
       "      <td>0</td>\n",
       "      <td>0</td>\n",
       "      <td>0</td>\n",
       "      <td>0</td>\n",
       "      <td>0</td>\n",
       "      <td>0</td>\n",
       "      <td>0</td>\n",
       "      <td>0</td>\n",
       "      <td>0</td>\n",
       "      <td>0</td>\n",
       "      <td>0</td>\n",
       "      <td>0</td>\n",
       "      <td>0</td>\n",
       "      <td>0</td>\n",
       "      <td>0</td>\n",
       "      <td>0</td>\n",
       "      <td>0</td>\n",
       "      <td>0</td>\n",
       "      <td>0</td>\n",
       "      <td>0</td>\n",
       "      <td>0</td>\n",
       "      <td>0</td>\n",
       "      <td>0</td>\n",
       "      <td>0</td>\n",
       "      <td>0</td>\n",
       "      <td>0</td>\n",
       "      <td>...</td>\n",
       "      <td>0</td>\n",
       "      <td>0</td>\n",
       "      <td>0</td>\n",
       "      <td>0</td>\n",
       "      <td>0</td>\n",
       "      <td>0</td>\n",
       "      <td>0</td>\n",
       "      <td>0</td>\n",
       "      <td>0</td>\n",
       "      <td>0</td>\n",
       "      <td>0</td>\n",
       "      <td>0</td>\n",
       "      <td>0</td>\n",
       "      <td>0</td>\n",
       "      <td>0</td>\n",
       "      <td>0</td>\n",
       "      <td>0</td>\n",
       "      <td>0</td>\n",
       "      <td>0</td>\n",
       "      <td>0</td>\n",
       "      <td>0</td>\n",
       "      <td>0</td>\n",
       "      <td>0</td>\n",
       "      <td>0</td>\n",
       "      <td>0</td>\n",
       "      <td>0</td>\n",
       "      <td>0</td>\n",
       "      <td>0</td>\n",
       "      <td>0</td>\n",
       "      <td>0</td>\n",
       "      <td>0</td>\n",
       "      <td>0</td>\n",
       "      <td>0</td>\n",
       "      <td>0</td>\n",
       "      <td>0</td>\n",
       "      <td>0</td>\n",
       "      <td>0</td>\n",
       "      <td>0</td>\n",
       "      <td>0</td>\n",
       "      <td>0</td>\n",
       "    </tr>\n",
       "    <tr>\n",
       "      <th>4</th>\n",
       "      <td>0</td>\n",
       "      <td>0</td>\n",
       "      <td>0</td>\n",
       "      <td>0</td>\n",
       "      <td>0</td>\n",
       "      <td>0</td>\n",
       "      <td>0</td>\n",
       "      <td>0</td>\n",
       "      <td>0</td>\n",
       "      <td>0</td>\n",
       "      <td>0</td>\n",
       "      <td>0</td>\n",
       "      <td>0</td>\n",
       "      <td>0</td>\n",
       "      <td>0</td>\n",
       "      <td>0</td>\n",
       "      <td>0</td>\n",
       "      <td>0</td>\n",
       "      <td>0</td>\n",
       "      <td>0</td>\n",
       "      <td>0</td>\n",
       "      <td>0</td>\n",
       "      <td>0</td>\n",
       "      <td>0</td>\n",
       "      <td>0</td>\n",
       "      <td>0</td>\n",
       "      <td>0</td>\n",
       "      <td>0</td>\n",
       "      <td>0</td>\n",
       "      <td>0</td>\n",
       "      <td>0</td>\n",
       "      <td>0</td>\n",
       "      <td>0</td>\n",
       "      <td>0</td>\n",
       "      <td>0</td>\n",
       "      <td>0</td>\n",
       "      <td>0</td>\n",
       "      <td>0</td>\n",
       "      <td>0</td>\n",
       "      <td>0</td>\n",
       "      <td>...</td>\n",
       "      <td>0</td>\n",
       "      <td>0</td>\n",
       "      <td>0</td>\n",
       "      <td>0</td>\n",
       "      <td>0</td>\n",
       "      <td>0</td>\n",
       "      <td>0</td>\n",
       "      <td>0</td>\n",
       "      <td>0</td>\n",
       "      <td>0</td>\n",
       "      <td>0</td>\n",
       "      <td>0</td>\n",
       "      <td>0</td>\n",
       "      <td>0</td>\n",
       "      <td>0</td>\n",
       "      <td>0</td>\n",
       "      <td>0</td>\n",
       "      <td>0</td>\n",
       "      <td>0</td>\n",
       "      <td>0</td>\n",
       "      <td>0</td>\n",
       "      <td>0</td>\n",
       "      <td>0</td>\n",
       "      <td>0</td>\n",
       "      <td>0</td>\n",
       "      <td>0</td>\n",
       "      <td>0</td>\n",
       "      <td>1</td>\n",
       "      <td>0</td>\n",
       "      <td>0</td>\n",
       "      <td>0</td>\n",
       "      <td>0</td>\n",
       "      <td>0</td>\n",
       "      <td>0</td>\n",
       "      <td>0</td>\n",
       "      <td>0</td>\n",
       "      <td>0</td>\n",
       "      <td>0</td>\n",
       "      <td>0</td>\n",
       "      <td>0</td>\n",
       "    </tr>\n",
       "  </tbody>\n",
       "</table>\n",
       "<p>5 rows × 8000 columns</p>\n",
       "</div>"
      ],
      "text/plain": [
       "   100  1000  101  1030  10th  1100  ...  zach  zealand  zero  zombie  zone  zoo\n",
       "0    1     0    0     0     0     0  ...     0        0     0       0     0    0\n",
       "1    0     0    0     0     0     0  ...     0        0     0       0     0    0\n",
       "2    0     0    0     0     0     0  ...     0        0     0       0     0    0\n",
       "3    0     0    0     0     0     0  ...     0        0     0       0     0    0\n",
       "4    0     0    0     0     0     0  ...     0        0     0       0     0    0\n",
       "\n",
       "[5 rows x 8000 columns]"
      ]
     },
     "execution_count": 58,
     "metadata": {
      "tags": []
     },
     "output_type": "execute_result"
    }
   ],
   "source": [
    "dtm_test.columns\n",
    "\n",
    "dtm_test.head()"
   ]
  },
  {
   "cell_type": "code",
   "execution_count": 59,
   "metadata": {
    "colab": {
     "base_uri": "https://localhost:8080/",
     "height": 119
    },
    "colab_type": "code",
    "id": "19KtlV2iCNp1",
    "outputId": "21e900d1-e22c-487f-a6c0-f04d73e5684d"
   },
   "outputs": [
    {
     "data": {
      "text/plain": [
       "276269             [female, 25, Arts, Virgo]\n",
       "471190      [male, 14, Student, Sagittarius]\n",
       "526347    [female, 17, Consulting, Aquarius]\n",
       "129326            [male, 24, indUnk, Pisces]\n",
       "648084         [female, 16, Fashion, Pisces]\n",
       "Name: labels, dtype: object"
      ]
     },
     "execution_count": 59,
     "metadata": {
      "tags": []
     },
     "output_type": "execute_result"
    }
   ],
   "source": [
    "### 6. Create a dictionary to get the count of every label i.e. the key will be label name and value will be the total count of the label. (5 points)\n",
    "\n",
    "y_train.head()\n",
    "\n",
    "y_test.head()"
   ]
  },
  {
   "cell_type": "code",
   "execution_count": 60,
   "metadata": {
    "colab": {
     "base_uri": "https://localhost:8080/",
     "height": 34
    },
    "colab_type": "code",
    "id": "dYFlxkUVCvWw",
    "outputId": "bba56482-450c-41cb-f9b0-bae2f2a5a442"
   },
   "outputs": [
    {
     "data": {
      "text/plain": [
       "(50000,)"
      ]
     },
     "execution_count": 60,
     "metadata": {
      "tags": []
     },
     "output_type": "execute_result"
    }
   ],
   "source": [
    "(y_train.append(y_test)).shape\n"
   ]
  },
  {
   "cell_type": "code",
   "execution_count": 61,
   "metadata": {
    "colab": {
     "base_uri": "https://localhost:8080/",
     "height": 1000
    },
    "colab_type": "code",
    "id": "-I3ZrVBSCzdc",
    "outputId": "e76155e1-0e92-44a9-d0fd-85f3106b7f37"
   },
   "outputs": [
    {
     "name": "stdout",
     "output_type": "stream",
     "text": [
      "female : 24619\n",
      "23 : 5325\n",
      "indUnk : 18672\n",
      "Capricorn : 3659\n",
      "male : 25381\n",
      "17 : 5986\n",
      "Student : 11352\n",
      "Aquarius : 3723\n",
      "16 : 5437\n",
      "Sagittarius : 3649\n",
      "24 : 5850\n",
      "Aries : 4688\n",
      "34 : 1552\n",
      "Cancer : 4726\n",
      "37 : 665\n",
      "Leo : 3885\n",
      "13 : 941\n",
      "Technology : 3113\n",
      "Gemini : 3786\n",
      "33 : 1260\n",
      "Non-Profit : 1053\n",
      "Pisces : 3943\n",
      "35 : 1228\n",
      "Education : 2125\n",
      "15 : 3034\n",
      "14 : 2002\n",
      "Libra : 4654\n",
      "26 : 4116\n",
      "Religion : 371\n",
      "27 : 3442\n",
      "Communications-Media : 1423\n",
      "Arts : 2338\n",
      "Science : 544\n",
      "Scorpio : 4176\n",
      "25 : 4929\n",
      "Taurus : 4610\n",
      "45 : 314\n",
      "Internet : 1162\n",
      "Virgo : 4501\n",
      "Government : 504\n",
      "Marketing : 351\n",
      "36 : 1019\n",
      "Fashion : 363\n",
      "Telecommunications : 281\n",
      "Law : 641\n",
      "Engineering : 826\n",
      "39 : 371\n",
      "BusinessServices : 341\n",
      "46 : 214\n",
      "Consulting : 450\n",
      "42 : 220\n",
      "48 : 285\n",
      "Accounting : 292\n",
      "RealEstate : 193\n",
      "Sports-Recreation : 212\n",
      "Transportation : 176\n",
      "Agriculture : 84\n",
      "Publishing : 535\n",
      "Advertising : 348\n",
      "Chemicals : 293\n",
      "43 : 295\n",
      "40 : 378\n",
      "38 : 557\n",
      "Manufacturing : 167\n",
      "47 : 160\n",
      "Banking : 297\n",
      "Museums-Libraries : 229\n",
      "Automotive : 94\n",
      "41 : 262\n",
      "Military : 205\n",
      "Biotech : 170\n",
      "44 : 158\n",
      "Architecture : 108\n",
      "Tourism : 122\n",
      "HumanResources : 199\n",
      "Construction : 92\n",
      "Environment : 45\n",
      "Maritime : 21\n",
      "InvestmentBanking : 89\n",
      "LawEnforcement-Security : 119\n"
     ]
    },
    {
     "data": {
      "text/plain": [
       "dict_keys(['female', '23', 'indUnk', 'Capricorn', 'male', '17', 'Student', 'Aquarius', '16', 'Sagittarius', '24', 'Aries', '34', 'Cancer', '37', 'Leo', '13', 'Technology', 'Gemini', '33', 'Non-Profit', 'Pisces', '35', 'Education', '15', '14', 'Libra', '26', 'Religion', '27', 'Communications-Media', 'Arts', 'Science', 'Scorpio', '25', 'Taurus', '45', 'Internet', 'Virgo', 'Government', 'Marketing', '36', 'Fashion', 'Telecommunications', 'Law', 'Engineering', '39', 'BusinessServices', '46', 'Consulting', '42', '48', 'Accounting', 'RealEstate', 'Sports-Recreation', 'Transportation', 'Agriculture', 'Publishing', 'Advertising', 'Chemicals', '43', '40', '38', 'Manufacturing', '47', 'Banking', 'Museums-Libraries', 'Automotive', '41', 'Military', 'Biotech', '44', 'Architecture', 'Tourism', 'HumanResources', 'Construction', 'Environment', 'Maritime', 'InvestmentBanking', 'LawEnforcement-Security'])"
      ]
     },
     "execution_count": 61,
     "metadata": {
      "tags": []
     },
     "output_type": "execute_result"
    }
   ],
   "source": [
    "#Dictionary to find count of each label in the multiclass label \n",
    "\n",
    "from collections import defaultdict\n",
    "label_counts = defaultdict(int)\n",
    "for label in y_train.append(y_test):\n",
    "    for item in label:\n",
    "        label_counts[item]+= 1\n",
    "\n",
    "for key in label_counts:\n",
    "    print(\"{} : {}\".format(key, label_counts.get(key)))\n",
    "\n",
    "label_counts.keys()"
   ]
  },
  {
   "cell_type": "markdown",
   "metadata": {
    "colab_type": "text",
    "id": "yqJUyMn1c_1d"
   },
   "source": [
    "### 7. Transform the labels - (7.5 points)\n",
    "\n",
    "- As we have noticed before, in this task each example can have multiple tags. To deal with\n",
    "such kind of prediction, we need to transform labels in a binary form and the prediction will be\n",
    "a mask of 0s and 1s. For this purpose, it is convenient to use MultiLabelBinarizer from sklearn"
   ]
  },
  {
   "cell_type": "code",
   "execution_count": 0,
   "metadata": {
    "colab": {},
    "colab_type": "code",
    "id": "LEbkb1lkC3xv"
   },
   "outputs": [],
   "source": [
    "\n",
    "#### a. Convert your train and test labels using MultiLabelBinarizer\n",
    "\n",
    "mlb = MultiLabelBinarizer(classes = sorted(label_counts.keys()))\n",
    "\n",
    "y_train_mlb = mlb.fit_transform(y_train)\n",
    "\n",
    "y_test_mlb = mlb.fit_transform(y_test)\n",
    "\n"
   ]
  },
  {
   "cell_type": "code",
   "execution_count": 66,
   "metadata": {
    "colab": {
     "base_uri": "https://localhost:8080/",
     "height": 272
    },
    "colab_type": "code",
    "id": "N0HcGwLuDYgf",
    "outputId": "a1af148d-c7a6-43f4-c791-e9776345f9f5"
   },
   "outputs": [
    {
     "data": {
      "text/plain": [
       "array(['13', '14', '15', '16', '17', '23', '24', '25', '26', '27', '33',\n",
       "       '34', '35', '36', '37', '38', '39', '40', '41', '42', '43', '44',\n",
       "       '45', '46', '47', '48', 'Accounting', 'Advertising', 'Agriculture',\n",
       "       'Aquarius', 'Architecture', 'Aries', 'Arts', 'Automotive',\n",
       "       'Banking', 'Biotech', 'BusinessServices', 'Cancer', 'Capricorn',\n",
       "       'Chemicals', 'Communications-Media', 'Construction', 'Consulting',\n",
       "       'Education', 'Engineering', 'Environment', 'Fashion', 'Gemini',\n",
       "       'Government', 'HumanResources', 'Internet', 'InvestmentBanking',\n",
       "       'Law', 'LawEnforcement-Security', 'Leo', 'Libra', 'Manufacturing',\n",
       "       'Maritime', 'Marketing', 'Military', 'Museums-Libraries',\n",
       "       'Non-Profit', 'Pisces', 'Publishing', 'RealEstate', 'Religion',\n",
       "       'Sagittarius', 'Science', 'Scorpio', 'Sports-Recreation',\n",
       "       'Student', 'Taurus', 'Technology', 'Telecommunications', 'Tourism',\n",
       "       'Transportation', 'Virgo', 'female', 'indUnk', 'male'],\n",
       "      dtype=object)"
      ]
     },
     "execution_count": 66,
     "metadata": {
      "tags": []
     },
     "output_type": "execute_result"
    }
   ],
   "source": [
    "mlb.classes_\n"
   ]
  },
  {
   "cell_type": "code",
   "execution_count": 67,
   "metadata": {
    "colab": {
     "base_uri": "https://localhost:8080/",
     "height": 153
    },
    "colab_type": "code",
    "id": "uy6LQbKGcS6S",
    "outputId": "813446a9-f666-49f8-c37a-41774f3f7445"
   },
   "outputs": [
    {
     "data": {
      "text/plain": [
       "array([[0, 0, 0, 0, 0, 1, 0, 0, 0, 0, 0, 0, 0, 0, 0, 0, 0, 0, 0, 0, 0, 0,\n",
       "        0, 0, 0, 0, 0, 0, 0, 0, 0, 0, 0, 0, 0, 0, 0, 0, 1, 0, 0, 0, 0, 0,\n",
       "        0, 0, 0, 0, 0, 0, 0, 0, 0, 0, 0, 0, 0, 0, 0, 0, 0, 0, 0, 0, 0, 0,\n",
       "        0, 0, 0, 0, 0, 0, 0, 0, 0, 0, 0, 1, 1, 0],\n",
       "       [0, 0, 0, 0, 1, 0, 0, 0, 0, 0, 0, 0, 0, 0, 0, 0, 0, 0, 0, 0, 0, 0,\n",
       "        0, 0, 0, 0, 0, 0, 0, 1, 0, 0, 0, 0, 0, 0, 0, 0, 0, 0, 0, 0, 0, 0,\n",
       "        0, 0, 0, 0, 0, 0, 0, 0, 0, 0, 0, 0, 0, 0, 0, 0, 0, 0, 0, 0, 0, 0,\n",
       "        0, 0, 0, 0, 1, 0, 0, 0, 0, 0, 0, 0, 0, 1]])"
      ]
     },
     "execution_count": 67,
     "metadata": {
      "tags": []
     },
     "output_type": "execute_result"
    }
   ],
   "source": [
    "y_train_mlb[0:2]\n"
   ]
  },
  {
   "cell_type": "code",
   "execution_count": 68,
   "metadata": {
    "colab": {
     "base_uri": "https://localhost:8080/",
     "height": 153
    },
    "colab_type": "code",
    "id": "zV3Zcu9qcU2x",
    "outputId": "14a9b1b3-e76f-4901-e4c2-1340a5de372d"
   },
   "outputs": [
    {
     "data": {
      "text/plain": [
       "array([[0, 0, 0, 0, 0, 0, 0, 1, 0, 0, 0, 0, 0, 0, 0, 0, 0, 0, 0, 0, 0, 0,\n",
       "        0, 0, 0, 0, 0, 0, 0, 0, 0, 0, 1, 0, 0, 0, 0, 0, 0, 0, 0, 0, 0, 0,\n",
       "        0, 0, 0, 0, 0, 0, 0, 0, 0, 0, 0, 0, 0, 0, 0, 0, 0, 0, 0, 0, 0, 0,\n",
       "        0, 0, 0, 0, 0, 0, 0, 0, 0, 0, 1, 1, 0, 0],\n",
       "       [0, 1, 0, 0, 0, 0, 0, 0, 0, 0, 0, 0, 0, 0, 0, 0, 0, 0, 0, 0, 0, 0,\n",
       "        0, 0, 0, 0, 0, 0, 0, 0, 0, 0, 0, 0, 0, 0, 0, 0, 0, 0, 0, 0, 0, 0,\n",
       "        0, 0, 0, 0, 0, 0, 0, 0, 0, 0, 0, 0, 0, 0, 0, 0, 0, 0, 0, 0, 0, 0,\n",
       "        1, 0, 0, 0, 1, 0, 0, 0, 0, 0, 0, 0, 0, 1]])"
      ]
     },
     "execution_count": 68,
     "metadata": {
      "tags": []
     },
     "output_type": "execute_result"
    }
   ],
   "source": [
    "y_test_mlb[0:2]"
   ]
  },
  {
   "cell_type": "code",
   "execution_count": 0,
   "metadata": {
    "colab": {},
    "colab_type": "code",
    "id": "B9gDVeRvC9S_"
   },
   "outputs": [],
   "source": [
    "## 8. Choose a classifier - (5 points)\n",
    "\n",
    "# In this task, we suggest using the One-vs-Rest approach, which is implemented in OneVsRestClassifier class. In this approach k classifiers (= number of tags) are trained. As a\n",
    "# basic classifier, use LogisticRegression . It is one of the simplest methods, but often it performs good enough in text classification tasks. It might take some time because the\n",
    "# number of classifiers to train is large."
   ]
  },
  {
   "cell_type": "code",
   "execution_count": 0,
   "metadata": {
    "colab": {},
    "colab_type": "code",
    "id": "wZdJE04dE5za"
   },
   "outputs": [],
   "source": [
    "#### a. Use a linear classifier of your choice, wrap it up in OneVsRestClassifier to train it on every label\n",
    "\n",
    "logreg_clf = LogisticRegression(solver='lbfgs', max_iter=1000, random_state=42)"
   ]
  },
  {
   "cell_type": "code",
   "execution_count": 0,
   "metadata": {
    "colab": {},
    "colab_type": "code",
    "id": "3Y3C9wGCE-tL"
   },
   "outputs": [],
   "source": [
    "#### b. One-vs-Rest approach \n",
    "\n",
    "OnevsRest_clf = OneVsRestClassifier(estimator=logreg_clf)"
   ]
  },
  {
   "cell_type": "code",
   "execution_count": 72,
   "metadata": {
    "colab": {
     "base_uri": "https://localhost:8080/",
     "height": 187
    },
    "colab_type": "code",
    "id": "uX-lkFODFCtI",
    "outputId": "5c9f17df-b6a3-4c36-b522-e801b40cf858"
   },
   "outputs": [
    {
     "data": {
      "text/plain": [
       "OneVsRestClassifier(estimator=LogisticRegression(C=1.0, class_weight=None,\n",
       "                                                 dual=False, fit_intercept=True,\n",
       "                                                 intercept_scaling=1,\n",
       "                                                 l1_ratio=None, max_iter=1000,\n",
       "                                                 multi_class='auto',\n",
       "                                                 n_jobs=None, penalty='l2',\n",
       "                                                 random_state=42,\n",
       "                                                 solver='lbfgs', tol=0.0001,\n",
       "                                                 verbose=0, warm_start=False),\n",
       "                    n_jobs=None)"
      ]
     },
     "execution_count": 72,
     "metadata": {
      "tags": []
     },
     "output_type": "execute_result"
    }
   ],
   "source": [
    "### 9. Fit the classifier, make predictions and get the accuracy (5 points)\n",
    "\n",
    "#Fit the Classifier on on count vectors for Training dataset\n",
    "\n",
    "OnevsRest_clf.fit(X_bow_train, y_train_mlb)"
   ]
  },
  {
   "cell_type": "code",
   "execution_count": 73,
   "metadata": {
    "colab": {
     "base_uri": "https://localhost:8080/",
     "height": 34
    },
    "colab_type": "code",
    "id": "a_7UYS4PFGvh",
    "outputId": "70b44430-d80d-4d08-d96a-700c107a8744"
   },
   "outputs": [
    {
     "data": {
      "text/plain": [
       "0.21295"
      ]
     },
     "execution_count": 73,
     "metadata": {
      "tags": []
     },
     "output_type": "execute_result"
    }
   ],
   "source": [
    "#classifier's score for training data\n",
    "\n",
    "OnevsRest_clf.score(X_bow_train, y_train_mlb)"
   ]
  },
  {
   "cell_type": "code",
   "execution_count": 74,
   "metadata": {
    "colab": {
     "base_uri": "https://localhost:8080/",
     "height": 102
    },
    "colab_type": "code",
    "id": "IJwojrvZFKnK",
    "outputId": "a48a810a-b185-4807-fee7-312d5fb10649"
   },
   "outputs": [
    {
     "data": {
      "text/plain": [
       "array([ 0,  1,  2,  3,  4,  5,  6,  7,  8,  9, 10, 11, 12, 13, 14, 15, 16,\n",
       "       17, 18, 19, 20, 21, 22, 23, 24, 25, 26, 27, 28, 29, 30, 31, 32, 33,\n",
       "       34, 35, 36, 37, 38, 39, 40, 41, 42, 43, 44, 45, 46, 47, 48, 49, 50,\n",
       "       51, 52, 53, 54, 55, 56, 57, 58, 59, 60, 61, 62, 63, 64, 65, 66, 67,\n",
       "       68, 69, 70, 71, 72, 73, 74, 75, 76, 77, 78, 79])"
      ]
     },
     "execution_count": 74,
     "metadata": {
      "tags": []
     },
     "output_type": "execute_result"
    }
   ],
   "source": [
    "#classes present in the multiclass classification\n",
    "\n",
    "OnevsRest_clf.classes_"
   ]
  },
  {
   "cell_type": "code",
   "execution_count": 75,
   "metadata": {
    "colab": {
     "base_uri": "https://localhost:8080/",
     "height": 136
    },
    "colab_type": "code",
    "id": "dC7KLESNFYVP",
    "outputId": "0fde3b8d-2dd7-438e-ce90-49ca3f632264"
   },
   "outputs": [
    {
     "data": {
      "text/plain": [
       "array([[0, 0, 0, ..., 1, 0, 0],\n",
       "       [0, 0, 0, ..., 0, 0, 1],\n",
       "       [0, 0, 0, ..., 1, 0, 0],\n",
       "       ...,\n",
       "       [0, 0, 0, ..., 0, 0, 1],\n",
       "       [0, 0, 0, ..., 1, 0, 0],\n",
       "       [0, 0, 0, ..., 0, 0, 1]])"
      ]
     },
     "execution_count": 75,
     "metadata": {
      "tags": []
     },
     "output_type": "execute_result"
    }
   ],
   "source": [
    "#Predicted values on count vectors for Test dataset\n",
    "\n",
    "y_pred = OnevsRest_clf.predict(X_bow_test)\n",
    "\n",
    "y_pred"
   ]
  },
  {
   "cell_type": "markdown",
   "metadata": {
    "colab_type": "text",
    "id": "2ANjKVUnZ1Y4"
   },
   "source": [
    "#### a. Print the following\n",
    "- i. Accuracy score\n",
    "- ii. F1 score\n",
    "- iii. Average precision score\n",
    "- iv. Average recall score\n",
    "-  v. Tip: Make sure you are familiar with all of them. How would you expect the\n",
    "things to work for the multi-label scenario? Read about micro/macro/weighted\n",
    "averaging\n",
    "\n",
    "- Three metrics are aavilable for evaluation in multiclass classification - macro, micro and weigted.Here, we are using weighted as the parameter\n",
    "\n",
    "\"macro\" simply calculates the mean of the binary metrics, giving equal weight to each class. In problems where infrequent classes are nonetheless important, macro-averaging may be a means of highlighting their performance. On the other hand, the assumption that all classes are equally important is often untrue, such that macro-averaging will over-emphasize the typically low performance on an infrequent class.\n",
    "\n",
    "\"weighted\" accounts for class imbalance by computing the average of binary metrics in which each class’s score is weighted by its presence in the true data sample.\n",
    "\n",
    "\"micro\" gives each sample-class pair an equal contribution to the overall metric (except as a result of sample-weight). Rather than summing the metric per class, this sums the dividends and divisors that make up the per-class metrics to calculate an overall quotient. Micro-averaging may be preferred in multilabel settings, including multiclass classification where a majority class is to be ignored.\n"
   ]
  },
  {
   "cell_type": "code",
   "execution_count": 76,
   "metadata": {
    "colab": {
     "base_uri": "https://localhost:8080/",
     "height": 1000
    },
    "colab_type": "code",
    "id": "wtZL2mF0Zhdd",
    "outputId": "f3011b94-8474-4402-a531-6de14e01784c"
   },
   "outputs": [
    {
     "name": "stdout",
     "output_type": "stream",
     "text": [
      "[[[9766   58]\n",
      "  [ 167    9]]\n",
      "\n",
      " [[9443  162]\n",
      "  [ 339   56]]\n",
      "\n",
      " [[9089  291]\n",
      "  [ 534   86]]\n",
      "\n",
      " [[8446  480]\n",
      "  [ 878  196]]\n",
      "\n",
      " [[8277  509]\n",
      "  [ 998  216]]\n",
      "\n",
      " [[8447  516]\n",
      "  [ 922  115]]\n",
      "\n",
      " [[8322  544]\n",
      "  [ 987  147]]\n",
      "\n",
      " [[8498  477]\n",
      "  [ 919  106]]\n",
      "\n",
      " [[8806  358]\n",
      "  [ 774   62]]\n",
      "\n",
      " [[9003  313]\n",
      "  [ 614   70]]\n",
      "\n",
      " [[9624  103]\n",
      "  [ 251   22]]\n",
      "\n",
      " [[9596  107]\n",
      "  [ 266   31]]\n",
      "\n",
      " [[9673   73]\n",
      "  [ 225   29]]\n",
      "\n",
      " [[9702   74]\n",
      "  [ 220    4]]\n",
      "\n",
      " [[9838   27]\n",
      "  [ 125   10]]\n",
      "\n",
      " [[9869   22]\n",
      "  [ 105    4]]\n",
      "\n",
      " [[9908   21]\n",
      "  [  70    1]]\n",
      "\n",
      " [[9902   20]\n",
      "  [  58   20]]\n",
      "\n",
      " [[9952    7]\n",
      "  [  39    2]]\n",
      "\n",
      " [[9947   15]\n",
      "  [  35    3]]\n",
      "\n",
      " [[9924   24]\n",
      "  [  49    3]]\n",
      "\n",
      " [[9959    6]\n",
      "  [  33    2]]\n",
      "\n",
      " [[9922   19]\n",
      "  [  55    4]]\n",
      "\n",
      " [[9953    5]\n",
      "  [  39    3]]\n",
      "\n",
      " [[9959    9]\n",
      "  [  26    6]]\n",
      "\n",
      " [[9920   15]\n",
      "  [  59    6]]\n",
      "\n",
      " [[9925   15]\n",
      "  [  56    4]]\n",
      "\n",
      " [[9918   13]\n",
      "  [  68    1]]\n",
      "\n",
      " [[9981    6]\n",
      "  [  13    0]]\n",
      "\n",
      " [[8894  356]\n",
      "  [ 675   75]]\n",
      "\n",
      " [[9971    8]\n",
      "  [  21    0]]\n",
      "\n",
      " [[8614  400]\n",
      "  [ 910   76]]\n",
      "\n",
      " [[9357  201]\n",
      "  [ 402   40]]\n",
      "\n",
      " [[9980    3]\n",
      "  [  16    1]]\n",
      "\n",
      " [[9937   11]\n",
      "  [  52    0]]\n",
      "\n",
      " [[9956    3]\n",
      "  [  40    1]]\n",
      "\n",
      " [[9914   11]\n",
      "  [  69    6]]\n",
      "\n",
      " [[8631  420]\n",
      "  [ 848  101]]\n",
      "\n",
      " [[8935  358]\n",
      "  [ 658   49]]\n",
      "\n",
      " [[9927   11]\n",
      "  [  57    5]]\n",
      "\n",
      " [[9629   94]\n",
      "  [ 261   16]]\n",
      "\n",
      " [[9984    2]\n",
      "  [  13    1]]\n",
      "\n",
      " [[9901   24]\n",
      "  [  71    4]]\n",
      "\n",
      " [[9369  212]\n",
      "  [ 375   44]]\n",
      "\n",
      " [[9784   42]\n",
      "  [ 165    9]]\n",
      "\n",
      " [[9990    1]\n",
      "  [   9    0]]\n",
      "\n",
      " [[9905   12]\n",
      "  [  81    2]]\n",
      "\n",
      " [[8899  350]\n",
      "  [ 692   59]]\n",
      "\n",
      " [[9882   24]\n",
      "  [  88    6]]\n",
      "\n",
      " [[9958    5]\n",
      "  [  36    1]]\n",
      "\n",
      " [[9663   91]\n",
      "  [ 230   16]]\n",
      "\n",
      " [[9983    4]\n",
      "  [  13    0]]\n",
      "\n",
      " [[9815   49]\n",
      "  [ 120   16]]\n",
      "\n",
      " [[9977    5]\n",
      "  [  18    0]]\n",
      "\n",
      " [[8849  383]\n",
      "  [ 708   60]]\n",
      "\n",
      " [[8615  427]\n",
      "  [ 870   88]]\n",
      "\n",
      " [[9965    9]\n",
      "  [  22    4]]\n",
      "\n",
      " [[9996    2]\n",
      "  [   2    0]]\n",
      "\n",
      " [[9924   12]\n",
      "  [  60    4]]\n",
      "\n",
      " [[9948    6]\n",
      "  [  42    4]]\n",
      "\n",
      " [[9934   15]\n",
      "  [  50    1]]\n",
      "\n",
      " [[9720   69]\n",
      "  [ 203    8]]\n",
      "\n",
      " [[8832  363]\n",
      "  [ 746   59]]\n",
      "\n",
      " [[9836   47]\n",
      "  [ 109    8]]\n",
      "\n",
      " [[9946    8]\n",
      "  [  46    0]]\n",
      "\n",
      " [[9911   15]\n",
      "  [  70    4]]\n",
      "\n",
      " [[8948  322]\n",
      "  [ 670   60]]\n",
      "\n",
      " [[9857   29]\n",
      "  [ 110    4]]\n",
      "\n",
      " [[8774  400]\n",
      "  [ 756   70]]\n",
      "\n",
      " [[9948    3]\n",
      "  [  46    3]]\n",
      "\n",
      " [[6873  866]\n",
      "  [1696  565]]\n",
      "\n",
      " [[8693  439]\n",
      "  [ 792   76]]\n",
      "\n",
      " [[9139  229]\n",
      "  [ 580   52]]\n",
      "\n",
      " [[9934   12]\n",
      "  [  53    1]]\n",
      "\n",
      " [[9964    7]\n",
      "  [  28    1]]\n",
      "\n",
      " [[9952    4]\n",
      "  [  37    7]]\n",
      "\n",
      " [[8668  430]\n",
      "  [ 828   74]]\n",
      "\n",
      " [[3340 1659]\n",
      "  [2158 2843]]\n",
      "\n",
      " [[4702 1565]\n",
      "  [2629 1104]]\n",
      "\n",
      " [[2843 2158]\n",
      "  [1659 3340]]]\n"
     ]
    }
   ],
   "source": [
    "\n",
    "#Multilabel Confusion Matrix\n",
    "\n",
    "print(multilabel_confusion_matrix(y_test_mlb, y_pred))"
   ]
  },
  {
   "cell_type": "code",
   "execution_count": 0,
   "metadata": {
    "colab": {},
    "colab_type": "code",
    "id": "UB1CScw1Zkx2"
   },
   "outputs": [],
   "source": [
    "#Classification Report\n",
    "\n",
    "report = classification_report(y_test_mlb, y_pred, output_dict=True, zero_division=1)"
   ]
  },
  {
   "cell_type": "code",
   "execution_count": 78,
   "metadata": {
    "colab": {
     "base_uri": "https://localhost:8080/",
     "height": 359
    },
    "colab_type": "code",
    "id": "3iTQM_VrZocC",
    "outputId": "c8a78b70-a7a4-4bdf-86c9-ba83f88d94b9"
   },
   "outputs": [
    {
     "data": {
      "text/html": [
       "<div>\n",
       "<style scoped>\n",
       "    .dataframe tbody tr th:only-of-type {\n",
       "        vertical-align: middle;\n",
       "    }\n",
       "\n",
       "    .dataframe tbody tr th {\n",
       "        vertical-align: top;\n",
       "    }\n",
       "\n",
       "    .dataframe thead th {\n",
       "        text-align: right;\n",
       "    }\n",
       "</style>\n",
       "<table border=\"1\" class=\"dataframe\">\n",
       "  <thead>\n",
       "    <tr style=\"text-align: right;\">\n",
       "      <th></th>\n",
       "      <th>precision</th>\n",
       "      <th>recall</th>\n",
       "      <th>f1-score</th>\n",
       "      <th>support</th>\n",
       "    </tr>\n",
       "  </thead>\n",
       "  <tbody>\n",
       "    <tr>\n",
       "      <th>0</th>\n",
       "      <td>0.134328</td>\n",
       "      <td>0.051136</td>\n",
       "      <td>0.074074</td>\n",
       "      <td>176.0</td>\n",
       "    </tr>\n",
       "    <tr>\n",
       "      <th>1</th>\n",
       "      <td>0.256881</td>\n",
       "      <td>0.141772</td>\n",
       "      <td>0.182708</td>\n",
       "      <td>395.0</td>\n",
       "    </tr>\n",
       "    <tr>\n",
       "      <th>2</th>\n",
       "      <td>0.228117</td>\n",
       "      <td>0.138710</td>\n",
       "      <td>0.172518</td>\n",
       "      <td>620.0</td>\n",
       "    </tr>\n",
       "    <tr>\n",
       "      <th>3</th>\n",
       "      <td>0.289941</td>\n",
       "      <td>0.182495</td>\n",
       "      <td>0.224000</td>\n",
       "      <td>1074.0</td>\n",
       "    </tr>\n",
       "    <tr>\n",
       "      <th>4</th>\n",
       "      <td>0.297931</td>\n",
       "      <td>0.177924</td>\n",
       "      <td>0.222795</td>\n",
       "      <td>1214.0</td>\n",
       "    </tr>\n",
       "    <tr>\n",
       "      <th>5</th>\n",
       "      <td>0.182250</td>\n",
       "      <td>0.110897</td>\n",
       "      <td>0.137890</td>\n",
       "      <td>1037.0</td>\n",
       "    </tr>\n",
       "    <tr>\n",
       "      <th>6</th>\n",
       "      <td>0.212735</td>\n",
       "      <td>0.129630</td>\n",
       "      <td>0.161096</td>\n",
       "      <td>1134.0</td>\n",
       "    </tr>\n",
       "    <tr>\n",
       "      <th>7</th>\n",
       "      <td>0.181818</td>\n",
       "      <td>0.103415</td>\n",
       "      <td>0.131841</td>\n",
       "      <td>1025.0</td>\n",
       "    </tr>\n",
       "    <tr>\n",
       "      <th>8</th>\n",
       "      <td>0.147619</td>\n",
       "      <td>0.074163</td>\n",
       "      <td>0.098726</td>\n",
       "      <td>836.0</td>\n",
       "    </tr>\n",
       "    <tr>\n",
       "      <th>9</th>\n",
       "      <td>0.182768</td>\n",
       "      <td>0.102339</td>\n",
       "      <td>0.131209</td>\n",
       "      <td>684.0</td>\n",
       "    </tr>\n",
       "  </tbody>\n",
       "</table>\n",
       "</div>"
      ],
      "text/plain": [
       "   precision    recall  f1-score  support\n",
       "0   0.134328  0.051136  0.074074    176.0\n",
       "1   0.256881  0.141772  0.182708    395.0\n",
       "2   0.228117  0.138710  0.172518    620.0\n",
       "3   0.289941  0.182495  0.224000   1074.0\n",
       "4   0.297931  0.177924  0.222795   1214.0\n",
       "5   0.182250  0.110897  0.137890   1037.0\n",
       "6   0.212735  0.129630  0.161096   1134.0\n",
       "7   0.181818  0.103415  0.131841   1025.0\n",
       "8   0.147619  0.074163  0.098726    836.0\n",
       "9   0.182768  0.102339  0.131209    684.0"
      ]
     },
     "execution_count": 78,
     "metadata": {
      "tags": []
     },
     "output_type": "execute_result"
    }
   ],
   "source": [
    "#DataFrame to store Classification Report\n",
    "\n",
    "cr_df = pd.DataFrame(report).transpose()\n",
    "\n",
    "cr_df.head(10)"
   ]
  },
  {
   "cell_type": "code",
   "execution_count": 79,
   "metadata": {
    "colab": {
     "base_uri": "https://localhost:8080/",
     "height": 34
    },
    "colab_type": "code",
    "id": "PjyQnhrIZrl2",
    "outputId": "48342edf-0ae9-48bb-f996-f8370fc2c7b6"
   },
   "outputs": [
    {
     "name": "stdout",
     "output_type": "stream",
     "text": [
      "0.0161\n"
     ]
    }
   ],
   "source": [
    "#Accuracy score\n",
    "\n",
    "print(accuracy_score(y_test_mlb, y_pred))"
   ]
  },
  {
   "cell_type": "code",
   "execution_count": 80,
   "metadata": {
    "colab": {
     "base_uri": "https://localhost:8080/",
     "height": 34
    },
    "colab_type": "code",
    "id": "ODq3JesJZutz",
    "outputId": "331b1d7b-a7a2-4efa-c5df-ce5d7a5b798b"
   },
   "outputs": [
    {
     "name": "stdout",
     "output_type": "stream",
     "text": [
      "0.2794871220803784\n"
     ]
    }
   ],
   "source": [
    "\n",
    "#F1 score\n",
    "\n",
    "print(f1_score(y_test_mlb, y_pred, average='weighted'))"
   ]
  },
  {
   "cell_type": "code",
   "execution_count": 81,
   "metadata": {
    "colab": {
     "base_uri": "https://localhost:8080/",
     "height": 34
    },
    "colab_type": "code",
    "id": "64ZnlgVSZygl",
    "outputId": "468f296f-54e0-4610-fee6-5f21c079032f"
   },
   "outputs": [
    {
     "name": "stdout",
     "output_type": "stream",
     "text": [
      "0.3267372578367911\n"
     ]
    }
   ],
   "source": [
    "\n",
    "#Precision score\n",
    "\n",
    "print(precision_score(y_test_mlb, y_pred, average='weighted', zero_division=1))"
   ]
  },
  {
   "cell_type": "code",
   "execution_count": 82,
   "metadata": {
    "colab": {
     "base_uri": "https://localhost:8080/",
     "height": 34
    },
    "colab_type": "code",
    "id": "kayREZ-uZ0H4",
    "outputId": "4a43806b-f66f-4524-d14d-2774fdff21a2"
   },
   "outputs": [
    {
     "name": "stdout",
     "output_type": "stream",
     "text": [
      "0.25465\n"
     ]
    }
   ],
   "source": [
    "# Recall score\n",
    "\n",
    "print(recall_score(y_test_mlb, y_pred, average='weighted'))"
   ]
  },
  {
   "cell_type": "code",
   "execution_count": 83,
   "metadata": {
    "colab": {
     "base_uri": "https://localhost:8080/",
     "height": 34
    },
    "colab_type": "code",
    "id": "6xlX6Zk9aBXK",
    "outputId": "52d643cc-2b52-4f8a-bedf-7e4553dfa0fb"
   },
   "outputs": [
    {
     "name": "stdout",
     "output_type": "stream",
     "text": [
      "0.24581260895544724\n"
     ]
    }
   ],
   "source": [
    "#Average Precision score\n",
    "\n",
    "print(average_precision_score(y_test_mlb, y_pred, average='weighted'))"
   ]
  },
  {
   "cell_type": "code",
   "execution_count": 84,
   "metadata": {
    "colab": {
     "base_uri": "https://localhost:8080/",
     "height": 34
    },
    "colab_type": "code",
    "id": "JtNMQG-KaE4A",
    "outputId": "f989f771-2309-443d-ac25-4686f16cdab7"
   },
   "outputs": [
    {
     "data": {
      "text/plain": [
       "0.25465"
      ]
     },
     "execution_count": 84,
     "metadata": {
      "tags": []
     },
     "output_type": "execute_result"
    }
   ],
   "source": [
    "#Average Recall score\n",
    "#support is the number of samples of the true positives that lie in that class.\n",
    "#avearge of the recall for each calss for the suport for the class weighted by total support for all classes\n",
    "\n",
    "sum((cr_df.iloc[0:80]['recall']) * (cr_df.iloc[0:80]['support']))/ sum(cr_df.iloc[0:80]['support'])"
   ]
  },
  {
   "cell_type": "code",
   "execution_count": 85,
   "metadata": {
    "colab": {
     "base_uri": "https://localhost:8080/",
     "height": 34
    },
    "colab_type": "code",
    "id": "h6so1SRYaIJV",
    "outputId": "b68a3b71-0656-4145-9fef-8876ffb8ff76"
   },
   "outputs": [
    {
     "name": "stdout",
     "output_type": "stream",
     "text": [
      "0.55384035850559\n"
     ]
    }
   ],
   "source": [
    "#ROC-AUC score\n",
    "\n",
    "print(roc_auc_score(y_test_mlb, y_pred, average='weighted'))"
   ]
  },
  {
   "cell_type": "code",
   "execution_count": 86,
   "metadata": {
    "colab": {
     "base_uri": "https://localhost:8080/",
     "height": 136
    },
    "colab_type": "code",
    "id": "XUVwfp-4Ffhg",
    "outputId": "f9ce3d8a-6a37-473d-ece1-71ebf29eeb35"
   },
   "outputs": [
    {
     "data": {
      "text/plain": [
       "array([[0, 0, 0, ..., 1, 0, 0],\n",
       "       [0, 1, 0, ..., 0, 0, 1],\n",
       "       [0, 0, 0, ..., 1, 0, 0],\n",
       "       ...,\n",
       "       [0, 0, 0, ..., 0, 0, 1],\n",
       "       [0, 0, 0, ..., 1, 1, 0],\n",
       "       [0, 0, 0, ..., 0, 1, 1]])"
      ]
     },
     "execution_count": 86,
     "metadata": {
      "tags": []
     },
     "output_type": "execute_result"
    }
   ],
   "source": [
    "### 10. Print true label and predicted label for any five examples (7.5 points)\n",
    "\n",
    "##### True labels for five examples\n",
    "\n",
    "y_test_mlb\n",
    "\n"
   ]
  },
  {
   "cell_type": "code",
   "execution_count": 87,
   "metadata": {
    "colab": {
     "base_uri": "https://localhost:8080/",
     "height": 102
    },
    "colab_type": "code",
    "id": "aMFTeCBvZwpA",
    "outputId": "68a63fd1-c5b5-4b70-9e48-f82788ef905c"
   },
   "outputs": [
    {
     "data": {
      "text/plain": [
       "[('25', 'Arts', 'Virgo', 'female'),\n",
       " ('14', 'Sagittarius', 'Student', 'male'),\n",
       " ('17', 'Aquarius', 'Consulting', 'female'),\n",
       " ('24', 'Pisces', 'indUnk', 'male'),\n",
       " ('16', 'Fashion', 'Pisces', 'female')]"
      ]
     },
     "execution_count": 87,
     "metadata": {
      "tags": []
     },
     "output_type": "execute_result"
    }
   ],
   "source": [
    "#Inverse Transform multiclass masked labels to true labels\n",
    "\n",
    "y_test_labels = mlb.inverse_transform(y_test_mlb)\n",
    "\n",
    "y_test_labels[0:5]"
   ]
  },
  {
   "cell_type": "code",
   "execution_count": 88,
   "metadata": {
    "colab": {
     "base_uri": "https://localhost:8080/",
     "height": 119
    },
    "colab_type": "code",
    "id": "aeXsXoKhaRtB",
    "outputId": "2eac363d-b688-4627-a281-7ea80fa7ca2e"
   },
   "outputs": [
    {
     "data": {
      "text/plain": [
       "276269             [female, 25, Arts, Virgo]\n",
       "471190      [male, 14, Student, Sagittarius]\n",
       "526347    [female, 17, Consulting, Aquarius]\n",
       "129326            [male, 24, indUnk, Pisces]\n",
       "648084         [female, 16, Fashion, Pisces]\n",
       "Name: labels, dtype: object"
      ]
     },
     "execution_count": 88,
     "metadata": {
      "tags": []
     },
     "output_type": "execute_result"
    }
   ],
   "source": [
    "y_test[0:5]"
   ]
  },
  {
   "cell_type": "code",
   "execution_count": 89,
   "metadata": {
    "colab": {
     "base_uri": "https://localhost:8080/",
     "height": 136
    },
    "colab_type": "code",
    "id": "cGNxMuXxaO57",
    "outputId": "c0e05009-ed94-4a19-9a1d-811cda50cca2"
   },
   "outputs": [
    {
     "data": {
      "text/plain": [
       "array([[0, 0, 0, ..., 1, 0, 0],\n",
       "       [0, 0, 0, ..., 0, 0, 1],\n",
       "       [0, 0, 0, ..., 1, 0, 0],\n",
       "       ...,\n",
       "       [0, 0, 0, ..., 0, 0, 1],\n",
       "       [0, 0, 0, ..., 1, 0, 0],\n",
       "       [0, 0, 0, ..., 0, 0, 1]])"
      ]
     },
     "execution_count": 89,
     "metadata": {
      "tags": []
     },
     "output_type": "execute_result"
    }
   ],
   "source": [
    "##### Predicted labels for five examples\n",
    "\n",
    "y_pred"
   ]
  },
  {
   "cell_type": "code",
   "execution_count": 90,
   "metadata": {
    "colab": {
     "base_uri": "https://localhost:8080/",
     "height": 357
    },
    "colab_type": "code",
    "id": "Zf7iNNwEaVNS",
    "outputId": "6fd8e2ec-4ad0-41d0-815b-0ea52ff69f94"
   },
   "outputs": [
    {
     "data": {
      "text/plain": [
       "array([1.82999683e-04, 7.69099186e-07, 3.55843915e-04, 3.48091585e-03,\n",
       "       5.49494507e-03, 1.45039820e-04, 1.78768703e-02, 1.68893720e-01,\n",
       "       8.01066441e-03, 1.57072969e-04, 8.64253605e-01, 1.71406022e-06,\n",
       "       5.92054999e-04, 6.74191498e-02, 8.82206173e-06, 1.04312709e-05,\n",
       "       1.53901374e-03, 1.63749274e-06, 8.10767708e-02, 7.87973470e-06,\n",
       "       4.67997622e-06, 9.75646617e-06, 8.92934542e-04, 1.48575860e-04,\n",
       "       4.77815866e-05, 3.33550504e-07, 4.22964715e-06, 5.44264639e-07,\n",
       "       1.89728319e-08, 7.32164083e-02, 7.52576093e-08, 3.23757360e-02,\n",
       "       1.03686476e-01, 1.32384240e-07, 5.46154795e-07, 1.06761354e-05,\n",
       "       7.58037988e-07, 2.38999896e-03, 5.47390237e-04, 7.26169603e-05,\n",
       "       4.66796740e-06, 3.53334622e-06, 3.61107110e-05, 1.03806662e-03,\n",
       "       2.35665145e-03, 1.39624325e-06, 6.84651424e-06, 3.26331396e-04,\n",
       "       5.01048539e-06, 2.97268675e-06, 5.09418403e-01, 6.90094046e-05,\n",
       "       5.35474323e-06, 3.65286065e-03, 2.53370262e-02, 1.74661041e-02,\n",
       "       4.27651459e-06, 1.68972216e-08, 1.02936646e-06, 2.36870580e-04,\n",
       "       1.40024884e-04, 1.95685715e-05, 6.47958876e-01, 1.57879731e-03,\n",
       "       4.74054148e-04, 7.82509826e-07, 1.15770868e-02, 2.31285007e-05,\n",
       "       1.63121602e-02, 1.86855436e-04, 3.95201458e-03, 3.96541138e-04,\n",
       "       3.16712015e-01, 1.20082360e-03, 2.24341015e-06, 2.77762070e-06,\n",
       "       2.16703163e-02, 9.27778655e-01, 1.70507164e-01, 7.22213447e-02])"
      ]
     },
     "execution_count": 90,
     "metadata": {
      "tags": []
     },
     "output_type": "execute_result"
    }
   ],
   "source": [
    "#Predicted Probabilities for test dataset\n",
    "\n",
    "proba = OnevsRest_clf.predict_proba(X_bow_test)\n",
    "\n",
    "proba[0]"
   ]
  },
  {
   "cell_type": "code",
   "execution_count": 91,
   "metadata": {
    "colab": {
     "base_uri": "https://localhost:8080/",
     "height": 119
    },
    "colab_type": "code",
    "id": "hUy5hfTjaX54",
    "outputId": "d5121f99-d846-4ff4-a155-c0bdfab019a0"
   },
   "outputs": [
    {
     "data": {
      "text/plain": [
       "[('33', 'Internet', 'Pisces', 'female'),\n",
       " ('male',),\n",
       " ('Cancer', 'female'),\n",
       " ('female',),\n",
       " ('15', 'Student', 'female'),\n",
       " ('25', 'Student', 'male')]"
      ]
     },
     "execution_count": 91,
     "metadata": {
      "tags": []
     },
     "output_type": "execute_result"
    }
   ],
   "source": [
    "#Inverse Transform multiclass probabilities to predicted labels usingig the probabilities above 0.5 threshold\n",
    "\n",
    "bitarray = OnevsRest_clf.label_binarizer_.inverse_transform(proba, threshold=0.5)\n",
    "classnames = mlb.inverse_transform(bitarray)\n",
    "\n",
    "classnames[0:6]"
   ]
  },
  {
   "cell_type": "code",
   "execution_count": 92,
   "metadata": {
    "colab": {
     "base_uri": "https://localhost:8080/",
     "height": 119
    },
    "colab_type": "code",
    "id": "5Vb6B2uFabfY",
    "outputId": "965369aa-d9a1-40df-9e5d-2473b9fcbf2f"
   },
   "outputs": [
    {
     "data": {
      "text/plain": [
       "[('33', 'Internet', 'Pisces', 'female'),\n",
       " ('male',),\n",
       " ('Cancer', 'female'),\n",
       " ('female',),\n",
       " ('15', 'Student', 'female'),\n",
       " ('25', 'Student', 'male')]"
      ]
     },
     "execution_count": 92,
     "metadata": {
      "tags": []
     },
     "output_type": "execute_result"
    }
   ],
   "source": [
    "#Inverse Transform multiclass masked labels to predicted labels\n",
    "\n",
    "y_pred_labels = mlb.inverse_transform(y_pred)\n",
    "\n",
    "y_pred_labels[0:6]"
   ]
  },
  {
   "cell_type": "markdown",
   "metadata": {
    "colab_type": "text",
    "id": "1Ak0pb5Qad5N"
   },
   "source": [
    "#### Observation:\n",
    " - Train accuracy is 21.2% and Test accuracy is 16.1%\n",
    " - We are not able to get good accuracy when we are applying Bag Of Words model using count vectorizer to extract features\n",
    " - When we are combining four different target columns having mutiple classes, the classifier is not able to predict the classes accurately"
   ]
  }
 ],
 "metadata": {
  "accelerator": "GPU",
  "colab": {
   "name": "R8_Blog-Authorship-Corp_Assignment_2.ipynb",
   "provenance": []
  },
  "kernelspec": {
   "display_name": "Python 3",
   "language": "python",
   "name": "python3"
  },
  "language_info": {
   "codemirror_mode": {
    "name": "ipython",
    "version": 3
   },
   "file_extension": ".py",
   "mimetype": "text/x-python",
   "name": "python",
   "nbconvert_exporter": "python",
   "pygments_lexer": "ipython3",
   "version": "3.7.3"
  }
 },
 "nbformat": 4,
 "nbformat_minor": 1
}

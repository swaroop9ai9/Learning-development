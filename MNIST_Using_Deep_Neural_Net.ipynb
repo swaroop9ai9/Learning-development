{
 "cells": [
  {
   "cell_type": "markdown",
   "metadata": {
    "colab_type": "text",
    "id": "YYk8NG3yOIT9"
   },
   "source": [
    "### A MNIST-like fashion product database\n",
    "\n",
    "In this, we classify the images into respective classes given in the dataset. We use a Neural Net and a Deep Neural Net in Keras to solve this and check the accuracy scores."
   ]
  },
  {
   "cell_type": "markdown",
   "metadata": {
    "colab_type": "text",
    "id": "tFO6PuxzOIT_"
   },
   "source": [
    "### Load tensorflow"
   ]
  },
  {
   "cell_type": "code",
   "execution_count": 0,
   "metadata": {
    "colab": {},
    "colab_type": "code",
    "id": "efNjNImfOIUC"
   },
   "outputs": [],
   "source": [
    "import tensorflow as tf\n",
    "import numpy as np\n",
    "tf.set_random_seed(42)"
   ]
  },
  {
   "cell_type": "code",
   "execution_count": 27,
   "metadata": {
    "colab": {
     "base_uri": "https://localhost:8080/",
     "height": 34
    },
    "colab_type": "code",
    "executionInfo": {
     "elapsed": 3194,
     "status": "ok",
     "timestamp": 1579416126169,
     "user": {
      "displayName": "Dinakar K.B.N",
      "photoUrl": "https://lh3.googleusercontent.com/a-/AAuE7mB6BhFIFQ26CUaEhDl16HhXxqj4NbZegPsO2xKMDQ=s64",
      "userId": "06643686747511876348"
     },
     "user_tz": -330
    },
    "id": "l9C4aAIGOIUH",
    "outputId": "a7e469c6-173a-4ec8-f5fc-8b41c1213bc0"
   },
   "outputs": [
    {
     "data": {
      "text/plain": [
       "'1.15.0'"
      ]
     },
     "execution_count": 27,
     "metadata": {
      "tags": []
     },
     "output_type": "execute_result"
    }
   ],
   "source": [
    "tf.__version__"
   ]
  },
  {
   "cell_type": "markdown",
   "metadata": {
    "colab_type": "text",
    "id": "HcoZBStrOIUQ"
   },
   "source": [
    "### Collect Data"
   ]
  },
  {
   "cell_type": "code",
   "execution_count": 0,
   "metadata": {
    "colab": {},
    "colab_type": "code",
    "id": "XA1WsFSeOIUS"
   },
   "outputs": [],
   "source": [
    "import keras"
   ]
  },
  {
   "cell_type": "code",
   "execution_count": 0,
   "metadata": {
    "colab": {},
    "colab_type": "code",
    "id": "qnbx7TyQOIUY"
   },
   "outputs": [],
   "source": [
    "(trainX, trainY), (testX, testY) = keras.datasets.fashion_mnist.load_data()"
   ]
  },
  {
   "cell_type": "code",
   "execution_count": 30,
   "metadata": {
    "colab": {
     "base_uri": "https://localhost:8080/",
     "height": 85
    },
    "colab_type": "code",
    "executionInfo": {
     "elapsed": 3105,
     "status": "ok",
     "timestamp": 1579416126172,
     "user": {
      "displayName": "Dinakar K.B.N",
      "photoUrl": "https://lh3.googleusercontent.com/a-/AAuE7mB6BhFIFQ26CUaEhDl16HhXxqj4NbZegPsO2xKMDQ=s64",
      "userId": "06643686747511876348"
     },
     "user_tz": -330
    },
    "id": "tmOnjVEYWhJi",
    "outputId": "01c85b4b-ebe1-45ee-fb22-559d2eb4eb99"
   },
   "outputs": [
    {
     "name": "stdout",
     "output_type": "stream",
     "text": [
      "Shape of trainX : (60000, 28, 28)\n",
      "Shape of trainY: (60000,)\n",
      "Shape of testX : (10000, 28, 28)\n",
      "Shape of testY: (10000,)\n"
     ]
    }
   ],
   "source": [
    "print('Shape of trainX : {}\\nShape of trainY: {}'.format(trainX.shape, trainY.shape))\n",
    "print('Shape of testX : {}\\nShape of testY: {}'.format(testX.shape, testY.shape))"
   ]
  },
  {
   "cell_type": "code",
   "execution_count": 31,
   "metadata": {
    "colab": {
     "base_uri": "https://localhost:8080/",
     "height": 85
    },
    "colab_type": "code",
    "executionInfo": {
     "elapsed": 3074,
     "status": "ok",
     "timestamp": 1579416126172,
     "user": {
      "displayName": "Dinakar K.B.N",
      "photoUrl": "https://lh3.googleusercontent.com/a-/AAuE7mB6BhFIFQ26CUaEhDl16HhXxqj4NbZegPsO2xKMDQ=s64",
      "userId": "06643686747511876348"
     },
     "user_tz": -330
    },
    "id": "oYxVFm1sLUcB",
    "outputId": "9a552e8e-8c7f-4d62-c0c9-5f7912aaea1f"
   },
   "outputs": [
    {
     "name": "stdout",
     "output_type": "stream",
     "text": [
      "dtype of trainX : uint8\n",
      "dtype of trainY: uint8\n",
      "dtype of testX : uint8\n",
      "dtype of testY: uint8\n"
     ]
    }
   ],
   "source": [
    "print('dtype of trainX : {}\\ndtype of trainY: {}'.format(trainX.dtype, trainY.dtype))\n",
    "print('dtype of testX : {}\\ndtype of testY: {}'.format(testX.dtype, testY.dtype))"
   ]
  },
  {
   "cell_type": "code",
   "execution_count": 32,
   "metadata": {
    "colab": {
     "base_uri": "https://localhost:8080/",
     "height": 34
    },
    "colab_type": "code",
    "executionInfo": {
     "elapsed": 3047,
     "status": "ok",
     "timestamp": 1579416126173,
     "user": {
      "displayName": "Dinakar K.B.N",
      "photoUrl": "https://lh3.googleusercontent.com/a-/AAuE7mB6BhFIFQ26CUaEhDl16HhXxqj4NbZegPsO2xKMDQ=s64",
      "userId": "06643686747511876348"
     },
     "user_tz": -330
    },
    "id": "ZzdZKBbYW6uI",
    "outputId": "372f7082-7a3a-4c93-8534-d1c740f1f7b4"
   },
   "outputs": [
    {
     "name": "stdout",
     "output_type": "stream",
     "text": [
      "[9 0 0 3 0]\n"
     ]
    }
   ],
   "source": [
    "print(trainY[0:5])"
   ]
  },
  {
   "cell_type": "code",
   "execution_count": 33,
   "metadata": {
    "colab": {
     "base_uri": "https://localhost:8080/",
     "height": 34
    },
    "colab_type": "code",
    "executionInfo": {
     "elapsed": 3027,
     "status": "ok",
     "timestamp": 1579416126174,
     "user": {
      "displayName": "Dinakar K.B.N",
      "photoUrl": "https://lh3.googleusercontent.com/a-/AAuE7mB6BhFIFQ26CUaEhDl16HhXxqj4NbZegPsO2xKMDQ=s64",
      "userId": "06643686747511876348"
     },
     "user_tz": -330
    },
    "id": "UbiHj5YPOIUc",
    "outputId": "a34c2d52-a7ba-49e5-a4af-3d0858a36251"
   },
   "outputs": [
    {
     "name": "stdout",
     "output_type": "stream",
     "text": [
      "[9 2 1 1 6]\n"
     ]
    }
   ],
   "source": [
    "print(testY[0:5])"
   ]
  },
  {
   "cell_type": "code",
   "execution_count": 34,
   "metadata": {
    "colab": {
     "base_uri": "https://localhost:8080/",
     "height": 34
    },
    "colab_type": "code",
    "executionInfo": {
     "elapsed": 3003,
     "status": "ok",
     "timestamp": 1579416126174,
     "user": {
      "displayName": "Dinakar K.B.N",
      "photoUrl": "https://lh3.googleusercontent.com/a-/AAuE7mB6BhFIFQ26CUaEhDl16HhXxqj4NbZegPsO2xKMDQ=s64",
      "userId": "06643686747511876348"
     },
     "user_tz": -330
    },
    "id": "eq6KYMbnOtDj",
    "outputId": "0d312277-8ed9-4e0c-d8eb-2486a07c61a9"
   },
   "outputs": [
    {
     "name": "stdout",
     "output_type": "stream",
     "text": [
      "[0 1 2 3 4 5 6 7 8 9]\n"
     ]
    }
   ],
   "source": [
    "print(np.unique(testY))"
   ]
  },
  {
   "cell_type": "markdown",
   "metadata": {
    "colab_type": "text",
    "id": "lDAYzkwyOIUj"
   },
   "source": [
    "### Convert both training and testing labels into one-hot vectors.\n",
    "\n",
    "**Hint:** check **tf.keras.utils.to_categorical()**"
   ]
  },
  {
   "cell_type": "code",
   "execution_count": 0,
   "metadata": {
    "colab": {},
    "colab_type": "code",
    "id": "fdKNg_okjuWe"
   },
   "outputs": [],
   "source": [
    "trainlabelsY = trainY\n",
    "testlabelsY = testY"
   ]
  },
  {
   "cell_type": "code",
   "execution_count": 0,
   "metadata": {
    "colab": {},
    "colab_type": "code",
    "id": "vBlfYlANOIUk"
   },
   "outputs": [],
   "source": [
    "trainY = tf.keras.utils.to_categorical(trainY, num_classes=10)\n",
    "testY = tf.keras.utils.to_categorical(testY, num_classes=10)"
   ]
  },
  {
   "cell_type": "code",
   "execution_count": 37,
   "metadata": {
    "colab": {
     "base_uri": "https://localhost:8080/",
     "height": 153
    },
    "colab_type": "code",
    "executionInfo": {
     "elapsed": 2960,
     "status": "ok",
     "timestamp": 1579416126176,
     "user": {
      "displayName": "Dinakar K.B.N",
      "photoUrl": "https://lh3.googleusercontent.com/a-/AAuE7mB6BhFIFQ26CUaEhDl16HhXxqj4NbZegPsO2xKMDQ=s64",
      "userId": "06643686747511876348"
     },
     "user_tz": -330
    },
    "id": "RHV3b9mzOIUq",
    "outputId": "ee035238-05ae-4297-9b88-524657c9c46a",
    "scrolled": true
   },
   "outputs": [
    {
     "name": "stdout",
     "output_type": "stream",
     "text": [
      "Shape of trainY: (60000, 10)\n",
      "dtype of trainY: float32\n",
      "First 5 examples in trainY now are: \n",
      " [[0. 0. 0. 0. 0. 0. 0. 0. 0. 1.]\n",
      " [1. 0. 0. 0. 0. 0. 0. 0. 0. 0.]\n",
      " [1. 0. 0. 0. 0. 0. 0. 0. 0. 0.]\n",
      " [0. 0. 0. 1. 0. 0. 0. 0. 0. 0.]\n",
      " [1. 0. 0. 0. 0. 0. 0. 0. 0. 0.]]\n"
     ]
    }
   ],
   "source": [
    "print('Shape of trainY:', trainY.shape)\n",
    "print('dtype of trainY:', trainY.dtype)\n",
    "print('First 5 examples in trainY now are: \\n', trainY[0:5])"
   ]
  },
  {
   "cell_type": "code",
   "execution_count": 38,
   "metadata": {
    "colab": {
     "base_uri": "https://localhost:8080/",
     "height": 153
    },
    "colab_type": "code",
    "executionInfo": {
     "elapsed": 2940,
     "status": "ok",
     "timestamp": 1579416126177,
     "user": {
      "displayName": "Dinakar K.B.N",
      "photoUrl": "https://lh3.googleusercontent.com/a-/AAuE7mB6BhFIFQ26CUaEhDl16HhXxqj4NbZegPsO2xKMDQ=s64",
      "userId": "06643686747511876348"
     },
     "user_tz": -330
    },
    "id": "RNNXoui8aQ3w",
    "outputId": "7ed8e7ba-b35d-4443-d480-a20a578b7cf5"
   },
   "outputs": [
    {
     "name": "stdout",
     "output_type": "stream",
     "text": [
      "Shape of testY: (10000, 10)\n",
      "dtype of testY: float32\n",
      "First 5 examples in testY now are:\n",
      " [[0. 0. 0. 0. 0. 0. 0. 0. 0. 1.]\n",
      " [0. 0. 1. 0. 0. 0. 0. 0. 0. 0.]\n",
      " [0. 1. 0. 0. 0. 0. 0. 0. 0. 0.]\n",
      " [0. 1. 0. 0. 0. 0. 0. 0. 0. 0.]\n",
      " [0. 0. 0. 0. 0. 0. 1. 0. 0. 0.]]\n"
     ]
    }
   ],
   "source": [
    "print('Shape of testY:', testY.shape)\n",
    "print('dtype of testY:', testY.dtype)\n",
    "print('First 5 examples in testY now are:\\n', testY[0:5])"
   ]
  },
  {
   "cell_type": "markdown",
   "metadata": {
    "colab_type": "text",
    "id": "FwhQ8e7VOIUw"
   },
   "source": [
    "### Visualize the data\n",
    "\n",
    "Plot first 10 images in the triaining set and their labels."
   ]
  },
  {
   "cell_type": "code",
   "execution_count": 0,
   "metadata": {
    "colab": {},
    "colab_type": "code",
    "id": "AvDML2OoOIUx"
   },
   "outputs": [],
   "source": [
    "import matplotlib.image as mpimg\n",
    "import matplotlib.pyplot as plt\n",
    "%matplotlib inline"
   ]
  },
  {
   "cell_type": "code",
   "execution_count": 40,
   "metadata": {
    "colab": {
     "base_uri": "https://localhost:8080/",
     "height": 106
    },
    "colab_type": "code",
    "executionInfo": {
     "elapsed": 3725,
     "status": "ok",
     "timestamp": 1579416126991,
     "user": {
      "displayName": "Dinakar K.B.N",
      "photoUrl": "https://lh3.googleusercontent.com/a-/AAuE7mB6BhFIFQ26CUaEhDl16HhXxqj4NbZegPsO2xKMDQ=s64",
      "userId": "06643686747511876348"
     },
     "user_tz": -330
    },
    "id": "3AsLFYvDpnjC",
    "outputId": "b645911d-6552-4a5b-883d-889f7f9f0384"
   },
   "outputs": [
    {
     "data": {
      "image/png": "[encoded data removed]",
      "text/plain": [
       "<Figure size 576x576 with 10 Axes>"
      ]
     },
     "metadata": {
      "tags": []
     },
     "output_type": "display_data"
    },
    {
     "name": "stdout",
     "output_type": "stream",
     "text": [
      "[9 0 0 3 0 2 7 2 5]\n"
     ]
    }
   ],
   "source": [
    "\n",
    "plt.figure(figsize=(8, 8))\n",
    "for i in range(10):    \n",
    "    plt.subplot(2, 10, i + 1)    \n",
    "    plt.imshow(trainX[i,:].reshape([28,28]), cmap='gray')\n",
    "plt.show()\n",
    "print(trainlabelsY[0:9])"
   ]
  },
  {
   "cell_type": "markdown",
   "metadata": {
    "colab_type": "text",
    "id": "l4TbJGeSOIU4"
   },
   "source": [
    "### Build a neural Network with a cross entropy loss function and sgd optimizer in Keras. The output layer with 10 neurons as we have 10 classes."
   ]
  },
  {
   "cell_type": "code",
   "execution_count": 0,
   "metadata": {
    "colab": {},
    "colab_type": "code",
    "id": "Ac06XZZTOIU6"
   },
   "outputs": [],
   "source": [
    "#Building a Neural Network without Batch Normalization\n",
    "\n",
    "#Initialize Sequential model\n",
    "model1 = tf.keras.models.Sequential()\n",
    "\n",
    "#Reshape input data from 2D to 1D -> 28x28 to 784\n",
    "model1.add(tf.keras.layers.Reshape((784,),input_shape=(28,28,)))\n",
    "\n",
    "#Add Dense Layer which provides 10 Outputs after applying softmax as we have 10 classes\n",
    "model1.add(tf.keras.layers.Dense(10, activation='softmax'))\n",
    "\n",
    "#Compile the model with a cross entropy loss function and sgd optimizer\n",
    "model1.compile(optimizer='sgd', loss='categorical_crossentropy', metrics=['accuracy'])\n"
   ]
  },
  {
   "cell_type": "markdown",
   "metadata": {
    "colab_type": "text",
    "id": "3hQpLv3aOIU_"
   },
   "source": [
    "### Execute the model using model.fit()"
   ]
  },
  {
   "cell_type": "code",
   "execution_count": 42,
   "metadata": {
    "colab": {
     "base_uri": "https://localhost:8080/",
     "height": 1000
    },
    "colab_type": "code",
    "executionInfo": {
     "elapsed": 87559,
     "status": "ok",
     "timestamp": 1579416210862,
     "user": {
      "displayName": "Dinakar K.B.N",
      "photoUrl": "https://lh3.googleusercontent.com/a-/AAuE7mB6BhFIFQ26CUaEhDl16HhXxqj4NbZegPsO2xKMDQ=s64",
      "userId": "06643686747511876348"
     },
     "user_tz": -330
    },
    "id": "O59C_-IgOIVB",
    "outputId": "cf5ec337-b3c3-4bec-8dfb-5b7bd53056c9"
   },
   "outputs": [
    {
     "name": "stdout",
     "output_type": "stream",
     "text": [
      "Train on 60000 samples, validate on 10000 samples\n",
      "Epoch 1/30\n",
      "60000/60000 [==============================] - 3s 48us/sample - loss: 2055.6271 - acc: 0.7393 - val_loss: 2854.6495 - val_acc: 0.6892\n",
      "Epoch 2/30\n",
      "60000/60000 [==============================] - 3s 46us/sample - loss: 1625.1838 - acc: 0.7768 - val_loss: 1316.2704 - val_acc: 0.7890\n",
      "Epoch 3/30\n",
      "60000/60000 [==============================] - 3s 47us/sample - loss: 1555.1421 - acc: 0.7862 - val_loss: 1648.6645 - val_acc: 0.7349\n",
      "Epoch 4/30\n",
      "60000/60000 [==============================] - 3s 46us/sample - loss: 1566.9990 - acc: 0.7887 - val_loss: 1940.2423 - val_acc: 0.7300\n",
      "Epoch 5/30\n",
      "60000/60000 [==============================] - 3s 46us/sample - loss: 1525.6621 - acc: 0.7912 - val_loss: 1657.7487 - val_acc: 0.7841\n",
      "Epoch 6/30\n",
      "60000/60000 [==============================] - 3s 46us/sample - loss: 1481.9317 - acc: 0.7954 - val_loss: 1926.4529 - val_acc: 0.7794\n",
      "Epoch 7/30\n",
      "60000/60000 [==============================] - 3s 45us/sample - loss: 1478.6845 - acc: 0.7970 - val_loss: 1379.8758 - val_acc: 0.7856\n",
      "Epoch 8/30\n",
      "60000/60000 [==============================] - 3s 47us/sample - loss: 1477.6822 - acc: 0.7957 - val_loss: 1438.3595 - val_acc: 0.7491\n",
      "Epoch 9/30\n",
      "60000/60000 [==============================] - 3s 47us/sample - loss: 1406.6971 - acc: 0.8003 - val_loss: 1292.2812 - val_acc: 0.7854\n",
      "Epoch 10/30\n",
      "60000/60000 [==============================] - 3s 45us/sample - loss: 1419.5032 - acc: 0.8002 - val_loss: 2389.3822 - val_acc: 0.7512\n",
      "Epoch 11/30\n",
      "60000/60000 [==============================] - 3s 47us/sample - loss: 1439.8028 - acc: 0.8006 - val_loss: 1265.6117 - val_acc: 0.7822\n",
      "Epoch 12/30\n",
      "60000/60000 [==============================] - 3s 46us/sample - loss: 1437.6199 - acc: 0.8009 - val_loss: 1217.3219 - val_acc: 0.7967\n",
      "Epoch 13/30\n",
      "60000/60000 [==============================] - 3s 46us/sample - loss: 1450.4644 - acc: 0.7993 - val_loss: 1094.7470 - val_acc: 0.8224\n",
      "Epoch 14/30\n",
      "60000/60000 [==============================] - 3s 46us/sample - loss: 1374.9429 - acc: 0.8033 - val_loss: 1507.0473 - val_acc: 0.7668\n",
      "Epoch 15/30\n",
      "60000/60000 [==============================] - 3s 46us/sample - loss: 1425.5605 - acc: 0.8027 - val_loss: 1060.0446 - val_acc: 0.7882\n",
      "Epoch 16/30\n",
      "60000/60000 [==============================] - 3s 44us/sample - loss: 1421.5403 - acc: 0.8035 - val_loss: 2498.1549 - val_acc: 0.7564\n",
      "Epoch 17/30\n",
      "60000/60000 [==============================] - 3s 46us/sample - loss: 1346.8525 - acc: 0.8065 - val_loss: 1665.0410 - val_acc: 0.8078\n",
      "Epoch 18/30\n",
      "60000/60000 [==============================] - 3s 44us/sample - loss: 1406.1626 - acc: 0.8034 - val_loss: 1378.9656 - val_acc: 0.7882\n",
      "Epoch 19/30\n",
      "60000/60000 [==============================] - 3s 46us/sample - loss: 1373.0224 - acc: 0.8049 - val_loss: 2518.4160 - val_acc: 0.7579\n",
      "Epoch 20/30\n",
      "60000/60000 [==============================] - 3s 47us/sample - loss: 1404.5057 - acc: 0.8049 - val_loss: 996.5396 - val_acc: 0.8277\n",
      "Epoch 21/30\n",
      "60000/60000 [==============================] - 3s 46us/sample - loss: 1364.0411 - acc: 0.8079 - val_loss: 1601.5789 - val_acc: 0.7928\n",
      "Epoch 22/30\n",
      "60000/60000 [==============================] - 3s 46us/sample - loss: 1398.5660 - acc: 0.8050 - val_loss: 1629.2789 - val_acc: 0.7982\n",
      "Epoch 23/30\n",
      "60000/60000 [==============================] - 3s 45us/sample - loss: 1383.9425 - acc: 0.8053 - val_loss: 1433.2905 - val_acc: 0.8023\n",
      "Epoch 24/30\n",
      "60000/60000 [==============================] - 3s 47us/sample - loss: 1381.4392 - acc: 0.8055 - val_loss: 1601.6862 - val_acc: 0.7932\n",
      "Epoch 25/30\n",
      "60000/60000 [==============================] - 3s 47us/sample - loss: 1410.9555 - acc: 0.8068 - val_loss: 3258.7989 - val_acc: 0.7247\n",
      "Epoch 26/30\n",
      "60000/60000 [==============================] - 3s 46us/sample - loss: 1365.2501 - acc: 0.8073 - val_loss: 1071.8577 - val_acc: 0.8119\n",
      "Epoch 27/30\n",
      "60000/60000 [==============================] - 3s 47us/sample - loss: 1357.2365 - acc: 0.8090 - val_loss: 1301.0610 - val_acc: 0.7884\n",
      "Epoch 28/30\n",
      "60000/60000 [==============================] - 3s 45us/sample - loss: 1370.8157 - acc: 0.8084 - val_loss: 1162.5008 - val_acc: 0.8024\n",
      "Epoch 29/30\n",
      "60000/60000 [==============================] - 3s 46us/sample - loss: 1396.5650 - acc: 0.8077 - val_loss: 1189.3139 - val_acc: 0.8124\n",
      "Epoch 30/30\n",
      "60000/60000 [==============================] - 3s 48us/sample - loss: 1364.3142 - acc: 0.8084 - val_loss: 1098.8853 - val_acc: 0.8119\n"
     ]
    },
    {
     "data": {
      "text/plain": [
       "<tensorflow.python.keras.callbacks.History at 0x7fcdf91e0518>"
      ]
     },
     "execution_count": 42,
     "metadata": {
      "tags": []
     },
     "output_type": "execute_result"
    }
   ],
   "source": [
    "#Fit the model on trainX,trainY and validate using testX,testY\n",
    "\n",
    "model1.fit(trainX, trainY, \n",
    "          validation_data=(testX, testY), \n",
    "          epochs=30,\n",
    "          batch_size=32)"
   ]
  },
  {
   "cell_type": "markdown",
   "metadata": {
    "colab_type": "text",
    "id": "JdzDtGwDOIVF"
   },
   "source": [
    "### In the above Neural Network model add Batch Normalization layer after the input layer and repeat the steps."
   ]
  },
  {
   "cell_type": "code",
   "execution_count": 0,
   "metadata": {
    "colab": {},
    "colab_type": "code",
    "id": "kndfpdidOIVI"
   },
   "outputs": [],
   "source": [
    "#Building a Neural Network with Batch Normalization layer\n",
    "\n",
    "#Initialize Sequential model\n",
    "model2 = tf.keras.models.Sequential()\n",
    "\n",
    "#Reshape input data from 2D to 1D -> 28x28 to 784\n",
    "model2.add(tf.keras.layers.Reshape((784,),input_shape=(28,28,)))\n",
    "\n",
    "#Normalize the data with BatchNormalization layer\n",
    "model2.add(tf.keras.layers.BatchNormalization())\n",
    "\n",
    "#Add Dense Layer which provides 10 Outputs after applying softmax as we have 10 classes\n",
    "model2.add(tf.keras.layers.Dense(10, activation='softmax'))\n",
    "\n",
    "#Compile the model with a cross entropy loss function and sgd optimizer\n",
    "model2.compile(optimizer='sgd', loss='categorical_crossentropy', metrics=['accuracy'])"
   ]
  },
  {
   "cell_type": "markdown",
   "metadata": {
    "colab_type": "text",
    "id": "mwk3T5LJOIVN"
   },
   "source": [
    "### Execute the model"
   ]
  },
  {
   "cell_type": "code",
   "execution_count": 44,
   "metadata": {
    "colab": {
     "base_uri": "https://localhost:8080/",
     "height": 1000
    },
    "colab_type": "code",
    "executionInfo": {
     "elapsed": 202110,
     "status": "ok",
     "timestamp": 1579416325442,
     "user": {
      "displayName": "Dinakar K.B.N",
      "photoUrl": "https://lh3.googleusercontent.com/a-/AAuE7mB6BhFIFQ26CUaEhDl16HhXxqj4NbZegPsO2xKMDQ=s64",
      "userId": "06643686747511876348"
     },
     "user_tz": -330
    },
    "id": "JNLR8tcBOIVP",
    "outputId": "8fc331e3-dfb7-43ef-f0d1-14b8031ae9f7"
   },
   "outputs": [
    {
     "name": "stdout",
     "output_type": "stream",
     "text": [
      "Train on 60000 samples, validate on 10000 samples\n",
      "Epoch 1/30\n",
      "60000/60000 [==============================] - 4s 65us/sample - loss: 0.5995 - acc: 0.7923 - val_loss: 0.5166 - val_acc: 0.8221\n",
      "Epoch 2/30\n",
      "60000/60000 [==============================] - 4s 62us/sample - loss: 0.4891 - acc: 0.8311 - val_loss: 0.4834 - val_acc: 0.8311\n",
      "Epoch 3/30\n",
      "60000/60000 [==============================] - 4s 63us/sample - loss: 0.4689 - acc: 0.8372 - val_loss: 0.4754 - val_acc: 0.8325\n",
      "Epoch 4/30\n",
      "60000/60000 [==============================] - 4s 63us/sample - loss: 0.4561 - acc: 0.8427 - val_loss: 0.4739 - val_acc: 0.8357\n",
      "Epoch 5/30\n",
      "60000/60000 [==============================] - 4s 63us/sample - loss: 0.4490 - acc: 0.8433 - val_loss: 0.4643 - val_acc: 0.8381\n",
      "Epoch 6/30\n",
      "60000/60000 [==============================] - 4s 63us/sample - loss: 0.4465 - acc: 0.8453 - val_loss: 0.4725 - val_acc: 0.8337\n",
      "Epoch 7/30\n",
      "60000/60000 [==============================] - 4s 61us/sample - loss: 0.4397 - acc: 0.8474 - val_loss: 0.4614 - val_acc: 0.8384\n",
      "Epoch 8/30\n",
      "60000/60000 [==============================] - 4s 63us/sample - loss: 0.4369 - acc: 0.8468 - val_loss: 0.4666 - val_acc: 0.8375\n",
      "Epoch 9/30\n",
      "60000/60000 [==============================] - 4s 63us/sample - loss: 0.4302 - acc: 0.8492 - val_loss: 0.4630 - val_acc: 0.8402\n",
      "Epoch 10/30\n",
      "60000/60000 [==============================] - 4s 62us/sample - loss: 0.4290 - acc: 0.8503 - val_loss: 0.4687 - val_acc: 0.8423\n",
      "Epoch 11/30\n",
      "60000/60000 [==============================] - 4s 63us/sample - loss: 0.4303 - acc: 0.8502 - val_loss: 0.4662 - val_acc: 0.8418\n",
      "Epoch 12/30\n",
      "60000/60000 [==============================] - 4s 64us/sample - loss: 0.4250 - acc: 0.8517 - val_loss: 0.4683 - val_acc: 0.8422\n",
      "Epoch 13/30\n",
      "60000/60000 [==============================] - 4s 63us/sample - loss: 0.4226 - acc: 0.8523 - val_loss: 0.4769 - val_acc: 0.8399\n",
      "Epoch 14/30\n",
      "60000/60000 [==============================] - 4s 63us/sample - loss: 0.4252 - acc: 0.8509 - val_loss: 0.4600 - val_acc: 0.8422\n",
      "Epoch 15/30\n",
      "60000/60000 [==============================] - 4s 62us/sample - loss: 0.4230 - acc: 0.8525 - val_loss: 0.4623 - val_acc: 0.8398\n",
      "Epoch 16/30\n",
      "60000/60000 [==============================] - 4s 66us/sample - loss: 0.4218 - acc: 0.8528 - val_loss: 0.4634 - val_acc: 0.8433\n",
      "Epoch 17/30\n",
      "60000/60000 [==============================] - 4s 68us/sample - loss: 0.4187 - acc: 0.8526 - val_loss: 0.4615 - val_acc: 0.8426\n",
      "Epoch 18/30\n",
      "60000/60000 [==============================] - 4s 68us/sample - loss: 0.4177 - acc: 0.8548 - val_loss: 0.4631 - val_acc: 0.8395\n",
      "Epoch 19/30\n",
      "60000/60000 [==============================] - 4s 65us/sample - loss: 0.4153 - acc: 0.8539 - val_loss: 0.4581 - val_acc: 0.8418\n",
      "Epoch 20/30\n",
      "60000/60000 [==============================] - 4s 63us/sample - loss: 0.4172 - acc: 0.8532 - val_loss: 0.4718 - val_acc: 0.8412\n",
      "Epoch 21/30\n",
      "60000/60000 [==============================] - 4s 62us/sample - loss: 0.4149 - acc: 0.8553 - val_loss: 0.4577 - val_acc: 0.8420\n",
      "Epoch 22/30\n",
      "60000/60000 [==============================] - 4s 63us/sample - loss: 0.4176 - acc: 0.8545 - val_loss: 0.4667 - val_acc: 0.8376\n",
      "Epoch 23/30\n",
      "60000/60000 [==============================] - 4s 62us/sample - loss: 0.4160 - acc: 0.8542 - val_loss: 0.4662 - val_acc: 0.8395\n",
      "Epoch 24/30\n",
      "60000/60000 [==============================] - 4s 64us/sample - loss: 0.4149 - acc: 0.8540 - val_loss: 0.4772 - val_acc: 0.8399\n",
      "Epoch 25/30\n",
      "60000/60000 [==============================] - 4s 63us/sample - loss: 0.4153 - acc: 0.8541 - val_loss: 0.4668 - val_acc: 0.8393\n",
      "Epoch 26/30\n",
      "60000/60000 [==============================] - 4s 63us/sample - loss: 0.4149 - acc: 0.8531 - val_loss: 0.4703 - val_acc: 0.8397\n",
      "Epoch 27/30\n",
      "60000/60000 [==============================] - 4s 64us/sample - loss: 0.4131 - acc: 0.8555 - val_loss: 0.4644 - val_acc: 0.8371\n",
      "Epoch 28/30\n",
      "60000/60000 [==============================] - 4s 64us/sample - loss: 0.4115 - acc: 0.8564 - val_loss: 0.4747 - val_acc: 0.8389\n",
      "Epoch 29/30\n",
      "60000/60000 [==============================] - 4s 63us/sample - loss: 0.4111 - acc: 0.8553 - val_loss: 0.4741 - val_acc: 0.8413\n",
      "Epoch 30/30\n",
      "60000/60000 [==============================] - 4s 61us/sample - loss: 0.4115 - acc: 0.8546 - val_loss: 0.4796 - val_acc: 0.8371\n"
     ]
    },
    {
     "data": {
      "text/plain": [
       "<tensorflow.python.keras.callbacks.History at 0x7fcdf8dd6be0>"
      ]
     },
     "execution_count": 44,
     "metadata": {
      "tags": []
     },
     "output_type": "execute_result"
    }
   ],
   "source": [
    "#Fit the model on trainX,trainY and validate using testX,testY\n",
    "\n",
    "model2.fit(trainX, trainY, \n",
    "          validation_data=(testX, testY), \n",
    "          epochs=30,\n",
    "          batch_size=32)"
   ]
  },
  {
   "cell_type": "markdown",
   "metadata": {
    "colab_type": "text",
    "id": "Py-KwkmjOIVU"
   },
   "source": [
    "### Customize the learning rate to 0.001 in sgd optimizer and run the model"
   ]
  },
  {
   "cell_type": "code",
   "execution_count": 0,
   "metadata": {
    "colab": {},
    "colab_type": "code",
    "id": "yLXUE9jWOIVV"
   },
   "outputs": [],
   "source": [
    "#Build a Neural Network with learning rate set to 0.001 in sgd optimizer\n",
    "\n",
    "#Initialize Sequential model\n",
    "model3 = tf.keras.models.Sequential()\n",
    "\n",
    "#Reshape input data from 2D to 1D -> 28x28 to 784\n",
    "model3.add(tf.keras.layers.Reshape((784,), input_shape=(28,28,)))\n",
    "\n",
    "#Normalize the data with BatchNormalization layer\n",
    "model3.add(tf.keras.layers.BatchNormalization())\n",
    "\n",
    "#Add Dense Layer which provides 10 Outputs after applying softmax as we have 10 classes\n",
    "model3.add(tf.keras.layers.Dense(10, activation='softmax'))\n",
    "\n",
    "#Customize the learning rate to 0.001 in sgd optimizer\n",
    "sgd_optimizer = tf.keras.optimizers.SGD(learning_rate=0.001)\n",
    "\n",
    "#Compile the model with a cross entropy loss function and sgd_optimizer with lr=0.001\n",
    "model3.compile(optimizer=sgd_optimizer, loss='categorical_crossentropy', metrics=['accuracy'])"
   ]
  },
  {
   "cell_type": "markdown",
   "metadata": {
    "colab_type": "text",
    "id": "bv63ZySUwUdg"
   },
   "source": [
    "### Execute the model"
   ]
  },
  {
   "cell_type": "code",
   "execution_count": 46,
   "metadata": {
    "colab": {
     "base_uri": "https://localhost:8080/",
     "height": 1000
    },
    "colab_type": "code",
    "executionInfo": {
     "elapsed": 314457,
     "status": "ok",
     "timestamp": 1579416437819,
     "user": {
      "displayName": "Dinakar K.B.N",
      "photoUrl": "https://lh3.googleusercontent.com/a-/AAuE7mB6BhFIFQ26CUaEhDl16HhXxqj4NbZegPsO2xKMDQ=s64",
      "userId": "06643686747511876348"
     },
     "user_tz": -330
    },
    "id": "pJUqA5T4OIVc",
    "outputId": "375ee604-28f8-4519-fa19-46c6911c6413"
   },
   "outputs": [
    {
     "name": "stdout",
     "output_type": "stream",
     "text": [
      "Train on 60000 samples, validate on 10000 samples\n",
      "Epoch 1/30\n",
      "60000/60000 [==============================] - 4s 66us/sample - loss: 0.9395 - acc: 0.6810 - val_loss: 0.7233 - val_acc: 0.7576\n",
      "Epoch 2/30\n",
      "60000/60000 [==============================] - 4s 63us/sample - loss: 0.6527 - acc: 0.7747 - val_loss: 0.6375 - val_acc: 0.7879\n",
      "Epoch 3/30\n",
      "60000/60000 [==============================] - 4s 61us/sample - loss: 0.5959 - acc: 0.7952 - val_loss: 0.5828 - val_acc: 0.8009\n",
      "Epoch 4/30\n",
      "60000/60000 [==============================] - 4s 62us/sample - loss: 0.5628 - acc: 0.8051 - val_loss: 0.5608 - val_acc: 0.8072\n",
      "Epoch 5/30\n",
      "60000/60000 [==============================] - 4s 62us/sample - loss: 0.5430 - acc: 0.8138 - val_loss: 0.5522 - val_acc: 0.8139\n",
      "Epoch 6/30\n",
      "60000/60000 [==============================] - 4s 62us/sample - loss: 0.5282 - acc: 0.8179 - val_loss: 0.5417 - val_acc: 0.8169\n",
      "Epoch 7/30\n",
      "60000/60000 [==============================] - 4s 62us/sample - loss: 0.5163 - acc: 0.8221 - val_loss: 0.5266 - val_acc: 0.8204\n",
      "Epoch 8/30\n",
      "60000/60000 [==============================] - 4s 62us/sample - loss: 0.5080 - acc: 0.8245 - val_loss: 0.5157 - val_acc: 0.8215\n",
      "Epoch 9/30\n",
      "60000/60000 [==============================] - 4s 62us/sample - loss: 0.5022 - acc: 0.8261 - val_loss: 0.5164 - val_acc: 0.8230\n",
      "Epoch 10/30\n",
      "60000/60000 [==============================] - 4s 63us/sample - loss: 0.4963 - acc: 0.8280 - val_loss: 0.5100 - val_acc: 0.8247\n",
      "Epoch 11/30\n",
      "60000/60000 [==============================] - 4s 62us/sample - loss: 0.4912 - acc: 0.8316 - val_loss: 0.5154 - val_acc: 0.8270\n",
      "Epoch 12/30\n",
      "60000/60000 [==============================] - 4s 61us/sample - loss: 0.4863 - acc: 0.8343 - val_loss: 0.4923 - val_acc: 0.8286\n",
      "Epoch 13/30\n",
      "60000/60000 [==============================] - 4s 63us/sample - loss: 0.4794 - acc: 0.8353 - val_loss: 0.4949 - val_acc: 0.8294\n",
      "Epoch 14/30\n",
      "60000/60000 [==============================] - 4s 64us/sample - loss: 0.4807 - acc: 0.8355 - val_loss: 0.4915 - val_acc: 0.8293\n",
      "Epoch 15/30\n",
      "60000/60000 [==============================] - 4s 66us/sample - loss: 0.4731 - acc: 0.8371 - val_loss: 0.4896 - val_acc: 0.8310\n",
      "Epoch 16/30\n",
      "60000/60000 [==============================] - 4s 61us/sample - loss: 0.4711 - acc: 0.8376 - val_loss: 0.4912 - val_acc: 0.8329\n",
      "Epoch 17/30\n",
      "60000/60000 [==============================] - 4s 63us/sample - loss: 0.4681 - acc: 0.8389 - val_loss: 0.4862 - val_acc: 0.8320\n",
      "Epoch 18/30\n",
      "60000/60000 [==============================] - 4s 63us/sample - loss: 0.4653 - acc: 0.8406 - val_loss: 0.4868 - val_acc: 0.8334\n",
      "Epoch 19/30\n",
      "60000/60000 [==============================] - 4s 61us/sample - loss: 0.4651 - acc: 0.8408 - val_loss: 0.4808 - val_acc: 0.8352\n",
      "Epoch 20/30\n",
      "60000/60000 [==============================] - 4s 62us/sample - loss: 0.4619 - acc: 0.8411 - val_loss: 0.4805 - val_acc: 0.8354\n",
      "Epoch 21/30\n",
      "60000/60000 [==============================] - 4s 62us/sample - loss: 0.4605 - acc: 0.8432 - val_loss: 0.4764 - val_acc: 0.8366\n",
      "Epoch 22/30\n",
      "60000/60000 [==============================] - 4s 63us/sample - loss: 0.4585 - acc: 0.8406 - val_loss: 0.4811 - val_acc: 0.8363\n",
      "Epoch 23/30\n",
      "60000/60000 [==============================] - 4s 61us/sample - loss: 0.4573 - acc: 0.8424 - val_loss: 0.4751 - val_acc: 0.8364\n",
      "Epoch 24/30\n",
      "60000/60000 [==============================] - 4s 61us/sample - loss: 0.4571 - acc: 0.8434 - val_loss: 0.4830 - val_acc: 0.8353\n",
      "Epoch 25/30\n",
      "60000/60000 [==============================] - 4s 61us/sample - loss: 0.4538 - acc: 0.8429 - val_loss: 0.4786 - val_acc: 0.8362\n",
      "Epoch 26/30\n",
      "60000/60000 [==============================] - 4s 62us/sample - loss: 0.4517 - acc: 0.8444 - val_loss: 0.4757 - val_acc: 0.8362\n",
      "Epoch 27/30\n",
      "60000/60000 [==============================] - 4s 62us/sample - loss: 0.4524 - acc: 0.8446 - val_loss: 0.4759 - val_acc: 0.8368\n",
      "Epoch 28/30\n",
      "60000/60000 [==============================] - 4s 61us/sample - loss: 0.4514 - acc: 0.8442 - val_loss: 0.4772 - val_acc: 0.8384\n",
      "Epoch 29/30\n",
      "60000/60000 [==============================] - 4s 64us/sample - loss: 0.4492 - acc: 0.8452 - val_loss: 0.4736 - val_acc: 0.8383\n",
      "Epoch 30/30\n",
      "60000/60000 [==============================] - 4s 63us/sample - loss: 0.4470 - acc: 0.8457 - val_loss: 0.4677 - val_acc: 0.8375\n"
     ]
    },
    {
     "data": {
      "text/plain": [
       "<tensorflow.python.keras.callbacks.History at 0x7fcdf916fcf8>"
      ]
     },
     "execution_count": 46,
     "metadata": {
      "tags": []
     },
     "output_type": "execute_result"
    }
   ],
   "source": [
    "#Fit the model on trainX,trainY and validate using testX,testY\n",
    "\n",
    "model3.fit(trainX, trainY, \n",
    "           validation_data=(testX,testY),\n",
    "           epochs=30, \n",
    "           batch_size=32)"
   ]
  },
  {
   "cell_type": "markdown",
   "metadata": {
    "colab_type": "text",
    "id": "j9CSqKvpOIVk"
   },
   "source": [
    "### Build the Neural Network model with 3 Dense layers with 100,100,10 neurons respectively in each layer. Use cross entropy loss function and sigmoid as activation in the hidden layers and softmax as activation function in the output layer. Use sgd optimizer with learning rate 0.03."
   ]
  },
  {
   "cell_type": "code",
   "execution_count": 0,
   "metadata": {
    "colab": {},
    "colab_type": "code",
    "id": "GGAad54JOIVm"
   },
   "outputs": [],
   "source": [
    "#Build a Neural Network model with 3 Dense layers with 100,100,10 neurons respectively in each layer\n",
    "#Use cross entropy loss function and sigmoid as activation in the hidden layers\n",
    "#Use softmax as activation function in the output layer\n",
    "#Use sgd optimizer with learning rate 0.03\n",
    "\n",
    "#Initialize Sequential model\n",
    "model4 = tf.keras.models.Sequential()\n",
    "\n",
    "#Reshape input data from 2D to 1D -> 28x28 to 784\n",
    "model4.add(tf.keras.layers.Reshape(target_shape=(784,), input_shape=(28,28)))\n",
    "\n",
    "#Normalize the data with BatchNormalization layer()\n",
    "model4.add(tf.keras.layers.BatchNormalization())\n",
    "\n",
    "#Add Dense Layer, Hidden Layer 1 with 100 neurons and activation function as sigmoid \n",
    "model4.add(tf.keras.layers.Dense(100, activation='sigmoid'))\n",
    "\n",
    "#Add Dense Layer, Hidden Layer 2 with 100 neurons and activation function as sigmoid\n",
    "model4.add(tf.keras.layers.Dense(100, activation='sigmoid'))\n",
    "\n",
    "#Add Dense Layer, Hidden Layer 3 with 10 neurons and activation function as sigmoid\n",
    "model4.add(tf.keras.layers.Dense(10, activation='sigmoid'))\n",
    "\n",
    "#Add Dense Layer which provides 10 Outputs as we have 10 classes after 3 Hidden layers by applying activation function as softmax \n",
    "model4.add(tf.keras.layers.Dense(10, activation='softmax'))\n"
   ]
  },
  {
   "cell_type": "markdown",
   "metadata": {
    "colab_type": "text",
    "id": "MQ7oIymROIVp"
   },
   "source": [
    "### Compile the model"
   ]
  },
  {
   "cell_type": "code",
   "execution_count": 0,
   "metadata": {
    "colab": {},
    "colab_type": "code",
    "id": "X-O-fFxnOIVt"
   },
   "outputs": [],
   "source": [
    "#Use cross entropy loss function\n",
    "#Use sgd optimizer with learning rate 0.03\n",
    "\n",
    "sgd_optimizer2 = tf.keras.optimizers.SGD(learning_rate=0.03)\n",
    "model4.compile(optimizer=sgd_optimizer2, loss='categorical_crossentropy', metrics=['accuracy'])"
   ]
  },
  {
   "cell_type": "markdown",
   "metadata": {
    "colab_type": "text",
    "id": "BS7L5Z2c7U-J"
   },
   "source": [
    "### Execute the model"
   ]
  },
  {
   "cell_type": "code",
   "execution_count": 49,
   "metadata": {
    "colab": {
     "base_uri": "https://localhost:8080/",
     "height": 1000
    },
    "colab_type": "code",
    "executionInfo": {
     "elapsed": 474795,
     "status": "ok",
     "timestamp": 1579416598191,
     "user": {
      "displayName": "Dinakar K.B.N",
      "photoUrl": "https://lh3.googleusercontent.com/a-/AAuE7mB6BhFIFQ26CUaEhDl16HhXxqj4NbZegPsO2xKMDQ=s64",
      "userId": "06643686747511876348"
     },
     "user_tz": -330
    },
    "id": "BiP7IL52OIVw",
    "outputId": "c71109e8-d48d-449c-9010-745cb197506c"
   },
   "outputs": [
    {
     "name": "stdout",
     "output_type": "stream",
     "text": [
      "Train on 60000 samples, validate on 10000 samples\n",
      "Epoch 1/30\n",
      "60000/60000 [==============================] - 6s 94us/sample - loss: 1.8242 - acc: 0.4076 - val_loss: 1.3360 - val_acc: 0.6290\n",
      "Epoch 2/30\n",
      "60000/60000 [==============================] - 5s 88us/sample - loss: 1.0853 - acc: 0.6483 - val_loss: 0.8786 - val_acc: 0.7220\n",
      "Epoch 3/30\n",
      "60000/60000 [==============================] - 5s 89us/sample - loss: 0.7865 - acc: 0.7376 - val_loss: 0.6891 - val_acc: 0.7689\n",
      "Epoch 4/30\n",
      "60000/60000 [==============================] - 5s 88us/sample - loss: 0.6628 - acc: 0.7712 - val_loss: 0.6096 - val_acc: 0.7890\n",
      "Epoch 5/30\n",
      "60000/60000 [==============================] - 5s 87us/sample - loss: 0.5975 - acc: 0.7934 - val_loss: 0.5580 - val_acc: 0.8082\n",
      "Epoch 6/30\n",
      "60000/60000 [==============================] - 5s 87us/sample - loss: 0.5479 - acc: 0.8141 - val_loss: 0.5222 - val_acc: 0.8223\n",
      "Epoch 7/30\n",
      "60000/60000 [==============================] - 5s 85us/sample - loss: 0.5104 - acc: 0.8270 - val_loss: 0.4951 - val_acc: 0.8309\n",
      "Epoch 8/30\n",
      "60000/60000 [==============================] - 5s 87us/sample - loss: 0.4849 - acc: 0.8372 - val_loss: 0.4738 - val_acc: 0.8377\n",
      "Epoch 9/30\n",
      "60000/60000 [==============================] - 5s 89us/sample - loss: 0.4647 - acc: 0.8422 - val_loss: 0.4573 - val_acc: 0.8404\n",
      "Epoch 10/30\n",
      "60000/60000 [==============================] - 5s 87us/sample - loss: 0.4428 - acc: 0.8499 - val_loss: 0.4453 - val_acc: 0.8478\n",
      "Epoch 11/30\n",
      "60000/60000 [==============================] - 5s 91us/sample - loss: 0.4279 - acc: 0.8543 - val_loss: 0.4337 - val_acc: 0.8491\n",
      "Epoch 12/30\n",
      "60000/60000 [==============================] - 5s 88us/sample - loss: 0.4115 - acc: 0.8590 - val_loss: 0.4164 - val_acc: 0.8557\n",
      "Epoch 13/30\n",
      "60000/60000 [==============================] - 5s 87us/sample - loss: 0.3993 - acc: 0.8631 - val_loss: 0.4043 - val_acc: 0.8583\n",
      "Epoch 14/30\n",
      "60000/60000 [==============================] - 5s 91us/sample - loss: 0.3870 - acc: 0.8668 - val_loss: 0.4035 - val_acc: 0.8593\n",
      "Epoch 15/30\n",
      "60000/60000 [==============================] - 5s 87us/sample - loss: 0.3766 - acc: 0.8706 - val_loss: 0.3961 - val_acc: 0.8623\n",
      "Epoch 16/30\n",
      "60000/60000 [==============================] - 5s 88us/sample - loss: 0.3654 - acc: 0.8740 - val_loss: 0.3871 - val_acc: 0.8656\n",
      "Epoch 17/30\n",
      "60000/60000 [==============================] - 5s 88us/sample - loss: 0.3544 - acc: 0.8773 - val_loss: 0.3888 - val_acc: 0.8643\n",
      "Epoch 18/30\n",
      "60000/60000 [==============================] - 5s 86us/sample - loss: 0.3466 - acc: 0.8810 - val_loss: 0.3827 - val_acc: 0.8665\n",
      "Epoch 19/30\n",
      "60000/60000 [==============================] - 5s 86us/sample - loss: 0.3388 - acc: 0.8821 - val_loss: 0.3749 - val_acc: 0.8693\n",
      "Epoch 20/30\n",
      "60000/60000 [==============================] - 5s 89us/sample - loss: 0.3301 - acc: 0.8854 - val_loss: 0.3704 - val_acc: 0.8719\n",
      "Epoch 21/30\n",
      "60000/60000 [==============================] - 5s 88us/sample - loss: 0.3236 - acc: 0.8869 - val_loss: 0.3662 - val_acc: 0.8728\n",
      "Epoch 22/30\n",
      "60000/60000 [==============================] - 5s 90us/sample - loss: 0.3161 - acc: 0.8899 - val_loss: 0.3678 - val_acc: 0.8702\n",
      "Epoch 23/30\n",
      "60000/60000 [==============================] - 5s 88us/sample - loss: 0.3087 - acc: 0.8917 - val_loss: 0.3628 - val_acc: 0.8738\n",
      "Epoch 24/30\n",
      "60000/60000 [==============================] - 5s 87us/sample - loss: 0.3053 - acc: 0.8920 - val_loss: 0.3580 - val_acc: 0.8749\n",
      "Epoch 25/30\n",
      "60000/60000 [==============================] - 5s 90us/sample - loss: 0.2992 - acc: 0.8949 - val_loss: 0.3581 - val_acc: 0.8745\n",
      "Epoch 26/30\n",
      "60000/60000 [==============================] - 5s 87us/sample - loss: 0.2929 - acc: 0.8982 - val_loss: 0.3554 - val_acc: 0.8768\n",
      "Epoch 27/30\n",
      "60000/60000 [==============================] - 5s 89us/sample - loss: 0.2876 - acc: 0.8992 - val_loss: 0.3589 - val_acc: 0.8742\n",
      "Epoch 28/30\n",
      "60000/60000 [==============================] - 6s 97us/sample - loss: 0.2837 - acc: 0.9005 - val_loss: 0.3572 - val_acc: 0.8768\n",
      "Epoch 29/30\n",
      "60000/60000 [==============================] - 6s 94us/sample - loss: 0.2777 - acc: 0.9029 - val_loss: 0.3557 - val_acc: 0.8764\n",
      "Epoch 30/30\n",
      "60000/60000 [==============================] - 5s 88us/sample - loss: 0.2738 - acc: 0.9026 - val_loss: 0.3522 - val_acc: 0.8800\n"
     ]
    },
    {
     "data": {
      "text/plain": [
       "<tensorflow.python.keras.callbacks.History at 0x7fcdf8caf898>"
      ]
     },
     "execution_count": 49,
     "metadata": {
      "tags": []
     },
     "output_type": "execute_result"
    }
   ],
   "source": [
    "#Fit the model on trainX,trainY and validate using testX,testY\n",
    "\n",
    "model4.fit(trainX, trainY,\n",
    "           validation_data=(testX, testY),\n",
    "           epochs=30,\n",
    "           batch_size=32)"
   ]
  },
  {
   "cell_type": "markdown",
   "metadata": {
    "colab_type": "text",
    "id": "Nr2YsZV0OIV0"
   },
   "source": [
    "## Review model"
   ]
  },
  {
   "cell_type": "code",
   "execution_count": 50,
   "metadata": {
    "colab": {
     "base_uri": "https://localhost:8080/",
     "height": 357
    },
    "colab_type": "code",
    "executionInfo": {
     "elapsed": 474752,
     "status": "ok",
     "timestamp": 1579416598198,
     "user": {
      "displayName": "Dinakar K.B.N",
      "photoUrl": "https://lh3.googleusercontent.com/a-/AAuE7mB6BhFIFQ26CUaEhDl16HhXxqj4NbZegPsO2xKMDQ=s64",
      "userId": "06643686747511876348"
     },
     "user_tz": -330
    },
    "id": "h4ojW6-oOIV2",
    "outputId": "cfbdfb30-6fcb-45a6-934a-7c4b3f824613"
   },
   "outputs": [
    {
     "name": "stdout",
     "output_type": "stream",
     "text": [
      "Model: \"sequential_7\"\n",
      "_________________________________________________________________\n",
      "Layer (type)                 Output Shape              Param #   \n",
      "=================================================================\n",
      "reshape_7 (Reshape)          (None, 784)               0         \n",
      "_________________________________________________________________\n",
      "batch_normalization_5 (Batch (None, 784)               3136      \n",
      "_________________________________________________________________\n",
      "dense_10 (Dense)             (None, 100)               78500     \n",
      "_________________________________________________________________\n",
      "dense_11 (Dense)             (None, 100)               10100     \n",
      "_________________________________________________________________\n",
      "dense_12 (Dense)             (None, 10)                1010      \n",
      "_________________________________________________________________\n",
      "dense_13 (Dense)             (None, 10)                110       \n",
      "=================================================================\n",
      "Total params: 92,856\n",
      "Trainable params: 91,288\n",
      "Non-trainable params: 1,568\n",
      "_________________________________________________________________\n"
     ]
    }
   ],
   "source": [
    "model4.summary()"
   ]
  },
  {
   "cell_type": "code",
   "execution_count": 0,
   "metadata": {
    "colab": {},
    "colab_type": "code",
    "id": "wjmDJbvomwGw"
   },
   "outputs": [],
   "source": [
    "all_weights= model4.get_weights()"
   ]
  },
  {
   "cell_type": "markdown",
   "metadata": {
    "colab_type": "text",
    "id": "gfFGmbZLOIV5"
   },
   "source": [
    "### Run the model"
   ]
  },
  {
   "cell_type": "code",
   "execution_count": 52,
   "metadata": {
    "colab": {
     "base_uri": "https://localhost:8080/",
     "height": 34
    },
    "colab_type": "code",
    "executionInfo": {
     "elapsed": 1459,
     "status": "ok",
     "timestamp": 1579417573338,
     "user": {
      "displayName": "Dinakar K.B.N",
      "photoUrl": "https://lh3.googleusercontent.com/a-/AAuE7mB6BhFIFQ26CUaEhDl16HhXxqj4NbZegPsO2xKMDQ=s64",
      "userId": "06643686747511876348"
     },
     "user_tz": -330
    },
    "id": "bIkbMEN5OIV7",
    "outputId": "1f58a973-57df-4d5a-8500-8b75afe46a97"
   },
   "outputs": [
    {
     "data": {
      "text/plain": [
       "(1, 28, 28)"
      ]
     },
     "execution_count": 52,
     "metadata": {
      "tags": []
     },
     "output_type": "execute_result"
    }
   ],
   "source": [
    "input_data = np.expand_dims(testX[0], axis=0)\n",
    "input_data.shape"
   ]
  },
  {
   "cell_type": "code",
   "execution_count": 59,
   "metadata": {
    "colab": {
     "base_uri": "https://localhost:8080/",
     "height": 68
    },
    "colab_type": "code",
    "executionInfo": {
     "elapsed": 965,
     "status": "ok",
     "timestamp": 1579417818761,
     "user": {
      "displayName": "Dinakar K.B.N",
      "photoUrl": "https://lh3.googleusercontent.com/a-/AAuE7mB6BhFIFQ26CUaEhDl16HhXxqj4NbZegPsO2xKMDQ=s64",
      "userId": "06643686747511876348"
     },
     "user_tz": -330
    },
    "id": "grWwAthTn5Fu",
    "outputId": "94cdcc25-0a0c-4560-cb49-7c5e824e3c93"
   },
   "outputs": [
    {
     "data": {
      "text/plain": [
       "array([[4.23548263e-05, 4.15228969e-05, 1.02841376e-07, 1.27672974e-03,\n",
       "        6.14521059e-06, 2.28528469e-03, 1.02528793e-05, 1.22581720e-02,\n",
       "        9.91950859e-04, 9.83087480e-01]], dtype=float32)"
      ]
     },
     "execution_count": 59,
     "metadata": {
      "tags": []
     },
     "output_type": "execute_result"
    }
   ],
   "source": [
    "pred = model4.predict(input_data)\n",
    "pred"
   ]
  },
  {
   "cell_type": "code",
   "execution_count": 60,
   "metadata": {
    "colab": {
     "base_uri": "https://localhost:8080/",
     "height": 34
    },
    "colab_type": "code",
    "executionInfo": {
     "elapsed": 1273,
     "status": "ok",
     "timestamp": 1579417849818,
     "user": {
      "displayName": "Dinakar K.B.N",
      "photoUrl": "https://lh3.googleusercontent.com/a-/AAuE7mB6BhFIFQ26CUaEhDl16HhXxqj4NbZegPsO2xKMDQ=s64",
      "userId": "06643686747511876348"
     },
     "user_tz": -330
    },
    "id": "MnZuATpOn8L0",
    "outputId": "02efc77e-2d16-4ef7-e744-23c05f1eb888"
   },
   "outputs": [
    {
     "data": {
      "text/plain": [
       "(1, 10)"
      ]
     },
     "execution_count": 60,
     "metadata": {
      "tags": []
     },
     "output_type": "execute_result"
    }
   ],
   "source": [
    "pred.shape"
   ]
  },
  {
   "cell_type": "code",
   "execution_count": 61,
   "metadata": {
    "colab": {
     "base_uri": "https://localhost:8080/",
     "height": 68
    },
    "colab_type": "code",
    "executionInfo": {
     "elapsed": 1151,
     "status": "ok",
     "timestamp": 1579417989406,
     "user": {
      "displayName": "Dinakar K.B.N",
      "photoUrl": "https://lh3.googleusercontent.com/a-/AAuE7mB6BhFIFQ26CUaEhDl16HhXxqj4NbZegPsO2xKMDQ=s64",
      "userId": "06643686747511876348"
     },
     "user_tz": -330
    },
    "id": "qkWWqeOTo8cB",
    "outputId": "ec50768e-e849-4a6f-9133-5c21bb62932b"
   },
   "outputs": [
    {
     "data": {
      "text/plain": [
       "array([4.23548263e-05, 4.15228969e-05, 1.02841376e-07, 1.27672974e-03,\n",
       "       6.14521059e-06, 2.28528469e-03, 1.02528793e-05, 1.22581720e-02,\n",
       "       9.91950859e-04, 9.83087480e-01], dtype=float32)"
      ]
     },
     "execution_count": 61,
     "metadata": {
      "tags": []
     },
     "output_type": "execute_result"
    }
   ],
   "source": [
    "pred[0]"
   ]
  },
  {
   "cell_type": "code",
   "execution_count": 62,
   "metadata": {
    "colab": {
     "base_uri": "https://localhost:8080/",
     "height": 34
    },
    "colab_type": "code",
    "executionInfo": {
     "elapsed": 1020,
     "status": "ok",
     "timestamp": 1579418027579,
     "user": {
      "displayName": "Dinakar K.B.N",
      "photoUrl": "https://lh3.googleusercontent.com/a-/AAuE7mB6BhFIFQ26CUaEhDl16HhXxqj4NbZegPsO2xKMDQ=s64",
      "userId": "06643686747511876348"
     },
     "user_tz": -330
    },
    "id": "kwQsVa9apew6",
    "outputId": "1c5b9251-5cbf-4374-ef64-60a1db32fcf8"
   },
   "outputs": [
    {
     "data": {
      "text/plain": [
       "9"
      ]
     },
     "execution_count": 62,
     "metadata": {
      "tags": []
     },
     "output_type": "execute_result"
    }
   ],
   "source": [
    "np.argmax(pred[0])"
   ]
  },
  {
   "cell_type": "code",
   "execution_count": 64,
   "metadata": {
    "colab": {
     "base_uri": "https://localhost:8080/",
     "height": 265
    },
    "colab_type": "code",
    "executionInfo": {
     "elapsed": 1296,
     "status": "ok",
     "timestamp": 1579418101918,
     "user": {
      "displayName": "Dinakar K.B.N",
      "photoUrl": "https://lh3.googleusercontent.com/a-/AAuE7mB6BhFIFQ26CUaEhDl16HhXxqj4NbZegPsO2xKMDQ=s64",
      "userId": "06643686747511876348"
     },
     "user_tz": -330
    },
    "id": "oKt8uPMLpoHk",
    "outputId": "75cfcaee-e1a7-47d0-fbbe-2c67529ff433"
   },
   "outputs": [
    {
     "data": {
      "image/png": "[encoded data removed]",
      "text/plain": [
       "<Figure size 432x288 with 1 Axes>"
      ]
     },
     "metadata": {
      "tags": []
     },
     "output_type": "display_data"
    }
   ],
   "source": [
    "#Plot the image\n",
    "plt.imshow(testX[0],cmap='gray')\n",
    "plt.show()"
   ]
  },
  {
   "cell_type": "code",
   "execution_count": 65,
   "metadata": {
    "colab": {
     "base_uri": "https://localhost:8080/",
     "height": 34
    },
    "colab_type": "code",
    "executionInfo": {
     "elapsed": 1197,
     "status": "ok",
     "timestamp": 1579418142889,
     "user": {
      "displayName": "Dinakar K.B.N",
      "photoUrl": "https://lh3.googleusercontent.com/a-/AAuE7mB6BhFIFQ26CUaEhDl16HhXxqj4NbZegPsO2xKMDQ=s64",
      "userId": "06643686747511876348"
     },
     "user_tz": -330
    },
    "id": "PldEwsoxp2uA",
    "outputId": "fed93bea-abd4-4284-a3be-bf53a9f7e003"
   },
   "outputs": [
    {
     "data": {
      "text/plain": [
       "9"
      ]
     },
     "execution_count": 65,
     "metadata": {
      "tags": []
     },
     "output_type": "execute_result"
    }
   ],
   "source": [
    "np.argmax(testY[0])"
   ]
  },
  {
   "cell_type": "code",
   "execution_count": 0,
   "metadata": {
    "colab": {},
    "colab_type": "code",
    "id": "dBEQaDWHqEOg"
   },
   "outputs": [],
   "source": []
  }
 ],
 "metadata": {
  "colab": {
   "collapsed_sections": [],
   "name": "R6_ExternalLab_AIML-1.ipynb",
   "provenance": []
  },
  "kernelspec": {
   "display_name": "Python 3",
   "language": "python",
   "name": "python3"
  },
  "language_info": {
   "codemirror_mode": {
    "name": "ipython",
    "version": 3
   },
   "file_extension": ".py",
   "mimetype": "text/x-python",
   "name": "python",
   "nbconvert_exporter": "python",
   "pygments_lexer": "ipython3",
   "version": "3.7.3"
  }
 },
 "nbformat": 4,
 "nbformat_minor": 1
}

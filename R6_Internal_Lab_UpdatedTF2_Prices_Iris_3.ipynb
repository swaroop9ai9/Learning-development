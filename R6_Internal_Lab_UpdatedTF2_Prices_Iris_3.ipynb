{
 "cells": [
  {
   "cell_type": "markdown",
   "metadata": {
    "colab_type": "text",
    "id": "84Q8JfvaeZZ6"
   },
   "source": [
    "## Linear Classifier in TensorFlow \n",
    "Using Low Level API in Eager Execution mode"
   ]
  },
  {
   "cell_type": "markdown",
   "metadata": {
    "colab_type": "text",
    "id": "sb7Epo0VOB58"
   },
   "source": [
    "### Load tensorflow"
   ]
  },
  {
   "cell_type": "code",
   "execution_count": 1,
   "metadata": {
    "colab": {
     "base_uri": "https://localhost:8080/",
     "height": 63
    },
    "colab_type": "code",
    "id": "fHpCNRv1OB5-",
    "outputId": "7ade0c2e-536d-46fc-eaa0-632e4278828a"
   },
   "outputs": [
    {
     "data": {
      "text/html": [
       "<p style=\"color: red;\">\n",
       "The default version of TensorFlow in Colab will soon switch to TensorFlow 2.x.<br>\n",
       "We recommend you <a href=\"https://www.tensorflow.org/guide/migrate\" target=\"_blank\">upgrade</a> now \n",
       "or ensure your notebook will continue to use TensorFlow 1.x via the <code>%tensorflow_version 1.x</code> magic:\n",
       "<a href=\"https://colab.research.google.com/notebooks/tensorflow_version.ipynb\" target=\"_blank\">more info</a>.</p>\n"
      ],
      "text/plain": [
       "<IPython.core.display.HTML object>"
      ]
     },
     "metadata": {
      "tags": []
     },
     "output_type": "display_data"
    }
   ],
   "source": [
    "import tensorflow as tf"
   ]
  },
  {
   "cell_type": "code",
   "execution_count": 0,
   "metadata": {
    "colab": {},
    "colab_type": "code",
    "id": "fnuQxa38W6nj"
   },
   "outputs": [],
   "source": [
    "tf.enable_eager_execution()"
   ]
  },
  {
   "cell_type": "code",
   "execution_count": 0,
   "metadata": {
    "colab": {},
    "colab_type": "code",
    "id": "Mjtb-EMcm5K0"
   },
   "outputs": [],
   "source": [
    "#Enable Eager Execution if using tensflow version < 2.0\n",
    "#From tensorflow v2.0 onwards, Eager Execution will be enabled by default\n"
   ]
  },
  {
   "cell_type": "markdown",
   "metadata": {
    "colab_type": "text",
    "id": "DxJDmJqqOB6K"
   },
   "source": [
    "### Collect Data"
   ]
  },
  {
   "cell_type": "code",
   "execution_count": 3,
   "metadata": {
    "colab": {
     "base_uri": "https://localhost:8080/",
     "height": 34
    },
    "colab_type": "code",
    "id": "FhllFLyKOB6N",
    "outputId": "fc420ce9-f433-4810-9305-eef5e304d5d4"
   },
   "outputs": [
    {
     "name": "stdout",
     "output_type": "stream",
     "text": [
      "Drive already mounted at /content/drive; to attempt to forcibly remount, call drive.mount(\"/content/drive\", force_remount=True).\n"
     ]
    }
   ],
   "source": [
    "from google.colab import drive\n",
    "drive.mount('/content/drive')"
   ]
  },
  {
   "cell_type": "code",
   "execution_count": 4,
   "metadata": {
    "colab": {
     "base_uri": "https://localhost:8080/",
     "height": 87
    },
    "colab_type": "code",
    "id": "yq4JVCxSCPVF",
    "outputId": "6604e14a-43f8-45d1-af86-fcfe99e6f17e"
   },
   "outputs": [
    {
     "data": {
      "text/plain": [
       "['11_Iris.csv',\n",
       " 'R6_Internal_Lab_UpdatedTF2_Prices_Iris-3.ipynb',\n",
       " 'prices.csv',\n",
       " 'NeuralNetworks_Prices_IRIS.h5']"
      ]
     },
     "execution_count": 4,
     "metadata": {
      "tags": []
     },
     "output_type": "execute_result"
    }
   ],
   "source": [
    "import os\n",
    "os.chdir('/content/drive/My Drive/Neural Networks/R6')\n",
    "os.listdir()"
   ]
  },
  {
   "cell_type": "code",
   "execution_count": 0,
   "metadata": {
    "colab": {},
    "colab_type": "code",
    "id": "KiObW4V4SIOz"
   },
   "outputs": [],
   "source": [
    "import pandas as pd\n",
    "import numpy as np"
   ]
  },
  {
   "cell_type": "code",
   "execution_count": 0,
   "metadata": {
    "colab": {},
    "colab_type": "code",
    "id": "LmaV8wUrDIbq"
   },
   "outputs": [],
   "source": [
    "#from google.colab import drive\n",
    "#drive.mount('/content/drive')"
   ]
  },
  {
   "cell_type": "code",
   "execution_count": 0,
   "metadata": {
    "colab": {},
    "colab_type": "code",
    "id": "yHzhzLstEzap"
   },
   "outputs": [],
   "source": [
    "path_files = '/content/drive/My Drive/Neural Networks/R6/'"
   ]
  },
  {
   "cell_type": "code",
   "execution_count": 0,
   "metadata": {
    "colab": {},
    "colab_type": "code",
    "id": "B4yQKMiJOB6R"
   },
   "outputs": [],
   "source": [
    "data = pd.read_csv(path_files + 'prices.csv')"
   ]
  },
  {
   "cell_type": "markdown",
   "metadata": {
    "colab_type": "text",
    "id": "fgkX6SEqOB6W"
   },
   "source": [
    "### Check all columns in the dataset"
   ]
  },
  {
   "cell_type": "code",
   "execution_count": 9,
   "metadata": {
    "colab": {
     "base_uri": "https://localhost:8080/",
     "height": 34
    },
    "colab_type": "code",
    "id": "7K8pWsNQOB6X",
    "outputId": "b499e381-2a3f-43f0-8b3a-05ee45f43aac"
   },
   "outputs": [
    {
     "data": {
      "text/plain": [
       "Index(['date', 'symbol', 'open', 'close', 'low', 'high', 'volume'], dtype='object')"
      ]
     },
     "execution_count": 9,
     "metadata": {
      "tags": []
     },
     "output_type": "execute_result"
    }
   ],
   "source": [
    "data.columns"
   ]
  },
  {
   "cell_type": "markdown",
   "metadata": {
    "colab_type": "text",
    "id": "7dU6X7MpOB6c"
   },
   "source": [
    "### Drop columns `date` and  `symbol`"
   ]
  },
  {
   "cell_type": "code",
   "execution_count": 0,
   "metadata": {
    "colab": {},
    "colab_type": "code",
    "id": "lh_6spSKOB6e"
   },
   "outputs": [],
   "source": [
    "data.drop(['date', 'symbol'], axis = 1, inplace = True)"
   ]
  },
  {
   "cell_type": "code",
   "execution_count": 11,
   "metadata": {
    "colab": {
     "base_uri": "https://localhost:8080/",
     "height": 195
    },
    "colab_type": "code",
    "id": "xlwbUgTwOB6i",
    "outputId": "2807a45a-31b2-4e5a-cae7-a950a776517a"
   },
   "outputs": [
    {
     "data": {
      "text/html": [
       "<div>\n",
       "<style scoped>\n",
       "    .dataframe tbody tr th:only-of-type {\n",
       "        vertical-align: middle;\n",
       "    }\n",
       "\n",
       "    .dataframe tbody tr th {\n",
       "        vertical-align: top;\n",
       "    }\n",
       "\n",
       "    .dataframe thead th {\n",
       "        text-align: right;\n",
       "    }\n",
       "</style>\n",
       "<table border=\"1\" class=\"dataframe\">\n",
       "  <thead>\n",
       "    <tr style=\"text-align: right;\">\n",
       "      <th></th>\n",
       "      <th>open</th>\n",
       "      <th>close</th>\n",
       "      <th>low</th>\n",
       "      <th>high</th>\n",
       "      <th>volume</th>\n",
       "    </tr>\n",
       "  </thead>\n",
       "  <tbody>\n",
       "    <tr>\n",
       "      <th>0</th>\n",
       "      <td>123.430000</td>\n",
       "      <td>125.839996</td>\n",
       "      <td>122.309998</td>\n",
       "      <td>126.250000</td>\n",
       "      <td>2163600.0</td>\n",
       "    </tr>\n",
       "    <tr>\n",
       "      <th>1</th>\n",
       "      <td>125.239998</td>\n",
       "      <td>119.980003</td>\n",
       "      <td>119.940002</td>\n",
       "      <td>125.540001</td>\n",
       "      <td>2386400.0</td>\n",
       "    </tr>\n",
       "    <tr>\n",
       "      <th>2</th>\n",
       "      <td>116.379997</td>\n",
       "      <td>114.949997</td>\n",
       "      <td>114.930000</td>\n",
       "      <td>119.739998</td>\n",
       "      <td>2489500.0</td>\n",
       "    </tr>\n",
       "    <tr>\n",
       "      <th>3</th>\n",
       "      <td>115.480003</td>\n",
       "      <td>116.620003</td>\n",
       "      <td>113.500000</td>\n",
       "      <td>117.440002</td>\n",
       "      <td>2006300.0</td>\n",
       "    </tr>\n",
       "    <tr>\n",
       "      <th>4</th>\n",
       "      <td>117.010002</td>\n",
       "      <td>114.970001</td>\n",
       "      <td>114.089996</td>\n",
       "      <td>117.330002</td>\n",
       "      <td>1408600.0</td>\n",
       "    </tr>\n",
       "  </tbody>\n",
       "</table>\n",
       "</div>"
      ],
      "text/plain": [
       "         open       close         low        high     volume\n",
       "0  123.430000  125.839996  122.309998  126.250000  2163600.0\n",
       "1  125.239998  119.980003  119.940002  125.540001  2386400.0\n",
       "2  116.379997  114.949997  114.930000  119.739998  2489500.0\n",
       "3  115.480003  116.620003  113.500000  117.440002  2006300.0\n",
       "4  117.010002  114.970001  114.089996  117.330002  1408600.0"
      ]
     },
     "execution_count": 11,
     "metadata": {
      "tags": []
     },
     "output_type": "execute_result"
    }
   ],
   "source": [
    "data.head()"
   ]
  },
  {
   "cell_type": "markdown",
   "metadata": {
    "colab_type": "text",
    "id": "3DBv3WWYOB6q"
   },
   "source": [
    "### Consider only first 1000 rows in the dataset for building feature set and target set\n",
    "Target 'Volume' has very high values. Divide 'Volume' by 1000,000"
   ]
  },
  {
   "cell_type": "code",
   "execution_count": 0,
   "metadata": {
    "colab": {},
    "colab_type": "code",
    "id": "Z_hG9rGBOB6s"
   },
   "outputs": [],
   "source": [
    "data_first_1000 = data.loc[:999,:]"
   ]
  },
  {
   "cell_type": "code",
   "execution_count": 13,
   "metadata": {
    "colab": {
     "base_uri": "https://localhost:8080/",
     "height": 34
    },
    "colab_type": "code",
    "id": "oP6BCqAaF3JM",
    "outputId": "99359485-7979-454c-efa1-d2f52db8c965"
   },
   "outputs": [
    {
     "data": {
      "text/plain": [
       "(1000, 5)"
      ]
     },
     "execution_count": 13,
     "metadata": {
      "tags": []
     },
     "output_type": "execute_result"
    }
   ],
   "source": [
    "data_first_1000.shape"
   ]
  },
  {
   "cell_type": "code",
   "execution_count": 14,
   "metadata": {
    "colab": {
     "base_uri": "https://localhost:8080/",
     "height": 122
    },
    "colab_type": "code",
    "id": "LZz42kBJZd0M",
    "outputId": "ceaeb968-aca3-428b-e1a6-ba6f60c03237"
   },
   "outputs": [
    {
     "name": "stderr",
     "output_type": "stream",
     "text": [
      "/usr/local/lib/python3.6/dist-packages/ipykernel_launcher.py:1: SettingWithCopyWarning: \n",
      "A value is trying to be set on a copy of a slice from a DataFrame.\n",
      "Try using .loc[row_indexer,col_indexer] = value instead\n",
      "\n",
      "See the caveats in the documentation: http://pandas.pydata.org/pandas-docs/stable/user_guide/indexing.html#returning-a-view-versus-a-copy\n",
      "  \"\"\"Entry point for launching an IPython kernel.\n"
     ]
    }
   ],
   "source": [
    "data_first_1000['volume'] = data_first_1000['volume']/1000000"
   ]
  },
  {
   "cell_type": "code",
   "execution_count": 15,
   "metadata": {
    "colab": {
     "base_uri": "https://localhost:8080/",
     "height": 195
    },
    "colab_type": "code",
    "id": "22CTWhYxZ3Gb",
    "outputId": "fea5780e-164c-4252-f2de-fb3a6d1c4478"
   },
   "outputs": [
    {
     "data": {
      "text/html": [
       "<div>\n",
       "<style scoped>\n",
       "    .dataframe tbody tr th:only-of-type {\n",
       "        vertical-align: middle;\n",
       "    }\n",
       "\n",
       "    .dataframe tbody tr th {\n",
       "        vertical-align: top;\n",
       "    }\n",
       "\n",
       "    .dataframe thead th {\n",
       "        text-align: right;\n",
       "    }\n",
       "</style>\n",
       "<table border=\"1\" class=\"dataframe\">\n",
       "  <thead>\n",
       "    <tr style=\"text-align: right;\">\n",
       "      <th></th>\n",
       "      <th>open</th>\n",
       "      <th>close</th>\n",
       "      <th>low</th>\n",
       "      <th>high</th>\n",
       "      <th>volume</th>\n",
       "    </tr>\n",
       "  </thead>\n",
       "  <tbody>\n",
       "    <tr>\n",
       "      <th>0</th>\n",
       "      <td>123.430000</td>\n",
       "      <td>125.839996</td>\n",
       "      <td>122.309998</td>\n",
       "      <td>126.250000</td>\n",
       "      <td>2.1636</td>\n",
       "    </tr>\n",
       "    <tr>\n",
       "      <th>1</th>\n",
       "      <td>125.239998</td>\n",
       "      <td>119.980003</td>\n",
       "      <td>119.940002</td>\n",
       "      <td>125.540001</td>\n",
       "      <td>2.3864</td>\n",
       "    </tr>\n",
       "    <tr>\n",
       "      <th>2</th>\n",
       "      <td>116.379997</td>\n",
       "      <td>114.949997</td>\n",
       "      <td>114.930000</td>\n",
       "      <td>119.739998</td>\n",
       "      <td>2.4895</td>\n",
       "    </tr>\n",
       "    <tr>\n",
       "      <th>3</th>\n",
       "      <td>115.480003</td>\n",
       "      <td>116.620003</td>\n",
       "      <td>113.500000</td>\n",
       "      <td>117.440002</td>\n",
       "      <td>2.0063</td>\n",
       "    </tr>\n",
       "    <tr>\n",
       "      <th>4</th>\n",
       "      <td>117.010002</td>\n",
       "      <td>114.970001</td>\n",
       "      <td>114.089996</td>\n",
       "      <td>117.330002</td>\n",
       "      <td>1.4086</td>\n",
       "    </tr>\n",
       "  </tbody>\n",
       "</table>\n",
       "</div>"
      ],
      "text/plain": [
       "         open       close         low        high  volume\n",
       "0  123.430000  125.839996  122.309998  126.250000  2.1636\n",
       "1  125.239998  119.980003  119.940002  125.540001  2.3864\n",
       "2  116.379997  114.949997  114.930000  119.739998  2.4895\n",
       "3  115.480003  116.620003  113.500000  117.440002  2.0063\n",
       "4  117.010002  114.970001  114.089996  117.330002  1.4086"
      ]
     },
     "execution_count": 15,
     "metadata": {
      "tags": []
     },
     "output_type": "execute_result"
    }
   ],
   "source": [
    "data_first_1000.head()"
   ]
  },
  {
   "cell_type": "markdown",
   "metadata": {
    "colab_type": "text",
    "id": "M3UaApqYOB6x"
   },
   "source": [
    "### Divide the data into train and test sets"
   ]
  },
  {
   "cell_type": "code",
   "execution_count": 0,
   "metadata": {
    "colab": {},
    "colab_type": "code",
    "id": "4LE4U8lTdQJq"
   },
   "outputs": [],
   "source": [
    "from sklearn.model_selection import train_test_split"
   ]
  },
  {
   "cell_type": "code",
   "execution_count": 0,
   "metadata": {
    "colab": {},
    "colab_type": "code",
    "id": "d08S1N-JGPaY"
   },
   "outputs": [],
   "source": [
    "X = data_first_1000.drop('volume', axis = 1)"
   ]
  },
  {
   "cell_type": "code",
   "execution_count": 0,
   "metadata": {
    "colab": {},
    "colab_type": "code",
    "id": "KS2oa7aeGeZH"
   },
   "outputs": [],
   "source": [
    "y = data_first_1000['volume']"
   ]
  },
  {
   "cell_type": "code",
   "execution_count": 0,
   "metadata": {
    "colab": {},
    "colab_type": "code",
    "id": "6SQ9s1w7Gl4K"
   },
   "outputs": [],
   "source": [
    "X_train, X_test, y_train, y_test = train_test_split(X, y, test_size = 0.30, random_state = 5)"
   ]
  },
  {
   "cell_type": "code",
   "execution_count": 20,
   "metadata": {
    "colab": {
     "base_uri": "https://localhost:8080/",
     "height": 34
    },
    "colab_type": "code",
    "id": "AtUTkkK3Gyx4",
    "outputId": "d9fc011b-fd32-43f1-f422-b786d09d5246"
   },
   "outputs": [
    {
     "data": {
      "text/plain": [
       "(700, 4)"
      ]
     },
     "execution_count": 20,
     "metadata": {
      "tags": []
     },
     "output_type": "execute_result"
    }
   ],
   "source": [
    "X_train.shape"
   ]
  },
  {
   "cell_type": "code",
   "execution_count": 21,
   "metadata": {
    "colab": {
     "base_uri": "https://localhost:8080/",
     "height": 34
    },
    "colab_type": "code",
    "id": "HdZPsR8OG2MQ",
    "outputId": "5c424b6c-1fc3-4af9-b636-e895608f3f1c"
   },
   "outputs": [
    {
     "data": {
      "text/plain": [
       "(700,)"
      ]
     },
     "execution_count": 21,
     "metadata": {
      "tags": []
     },
     "output_type": "execute_result"
    }
   ],
   "source": [
    "y_train.shape"
   ]
  },
  {
   "cell_type": "markdown",
   "metadata": {
    "colab_type": "text",
    "id": "oYK-aUuLbrz2"
   },
   "source": [
    "#### Convert Training and Test Data to numpy float32 arrays\n"
   ]
  },
  {
   "cell_type": "code",
   "execution_count": 0,
   "metadata": {
    "colab": {},
    "colab_type": "code",
    "id": "Ao-S0tQGcncz"
   },
   "outputs": [],
   "source": [
    "X_train = np.array(X_train).astype('float32')\n",
    "y_train = np.array(y_train).astype('float32')\n",
    "X_test = np.array(X_test).astype('float32')\n",
    "y_test = np.array(y_test).astype('float32')"
   ]
  },
  {
   "cell_type": "markdown",
   "metadata": {
    "colab_type": "text",
    "id": "im1ZegbDdKgv"
   },
   "source": [
    "### Normalize the data\n",
    "You can use Normalizer from sklearn.preprocessing"
   ]
  },
  {
   "cell_type": "code",
   "execution_count": 0,
   "metadata": {
    "colab": {},
    "colab_type": "code",
    "id": "2EkKAy7fOB6y"
   },
   "outputs": [],
   "source": [
    "from sklearn.preprocessing import Normalizer"
   ]
  },
  {
   "cell_type": "code",
   "execution_count": 0,
   "metadata": {
    "colab": {},
    "colab_type": "code",
    "id": "oULvHQ5-IdDd"
   },
   "outputs": [],
   "source": [
    "transformer = Normalizer()\n",
    "X_train = transformer.fit_transform(X_train)"
   ]
  },
  {
   "cell_type": "code",
   "execution_count": 25,
   "metadata": {
    "colab": {
     "base_uri": "https://localhost:8080/",
     "height": 140
    },
    "colab_type": "code",
    "id": "kcoJ8N7IIjHI",
    "outputId": "7f6b9824-ed19-4883-85fd-17c077b59a07"
   },
   "outputs": [
    {
     "data": {
      "text/plain": [
       "array([[0.5020444 , 0.5008865 , 0.49440256, 0.5026233 ],\n",
       "       [0.50310385, 0.4968752 , 0.49663866, 0.5033404 ],\n",
       "       [0.502044  , 0.5017134 , 0.49196017, 0.50419307],\n",
       "       ...,\n",
       "       [0.49686557, 0.501396  , 0.49621835, 0.5054641 ],\n",
       "       [0.50167567, 0.4976353 , 0.49696192, 0.50369585],\n",
       "       [0.50258434, 0.49776903, 0.49703524, 0.50258434]], dtype=float32)"
      ]
     },
     "execution_count": 25,
     "metadata": {
      "tags": []
     },
     "output_type": "execute_result"
    }
   ],
   "source": [
    "X_train"
   ]
  },
  {
   "cell_type": "code",
   "execution_count": 0,
   "metadata": {
    "colab": {},
    "colab_type": "code",
    "id": "Zp6c-PChIrJv"
   },
   "outputs": [],
   "source": [
    "X_test = transformer.transform(X_test)"
   ]
  },
  {
   "cell_type": "code",
   "execution_count": 27,
   "metadata": {
    "colab": {
     "base_uri": "https://localhost:8080/",
     "height": 140
    },
    "colab_type": "code",
    "id": "EmuFHygEerTP",
    "outputId": "d69ca43d-f358-4ace-aaf0-44f6fda3cb54"
   },
   "outputs": [
    {
     "data": {
      "text/plain": [
       "array([[0.49682367, 0.5021781 , 0.49633688, 0.50461185],\n",
       "       [0.49373037, 0.5076786 , 0.4902433 , 0.5080888 ],\n",
       "       [0.5011712 , 0.49767655, 0.4975626 , 0.5035642 ],\n",
       "       ...,\n",
       "       [0.50243956, 0.500157  , 0.49492624, 0.50243956],\n",
       "       [0.501209  , 0.4976006 , 0.49687892, 0.50427616],\n",
       "       [0.49718228, 0.5036043 , 0.49488866, 0.5042596 ]], dtype=float32)"
      ]
     },
     "execution_count": 27,
     "metadata": {
      "tags": []
     },
     "output_type": "execute_result"
    }
   ],
   "source": [
    "X_test"
   ]
  },
  {
   "cell_type": "markdown",
   "metadata": {
    "colab_type": "text",
    "id": "v6vE4eYCOB62"
   },
   "source": [
    "## Building the Model in tensorflow"
   ]
  },
  {
   "cell_type": "markdown",
   "metadata": {
    "colab_type": "text",
    "id": "297_qja4OB7A"
   },
   "source": [
    "1.Define Weights and Bias, use tf.zeros to initialize weights and Bias"
   ]
  },
  {
   "cell_type": "code",
   "execution_count": 0,
   "metadata": {
    "colab": {},
    "colab_type": "code",
    "id": "L205qPeQOB7B"
   },
   "outputs": [],
   "source": [
    "w = tf.zeros(shape=(4,1))\n",
    "b = tf.zeros(shape=(1))"
   ]
  },
  {
   "cell_type": "markdown",
   "metadata": {
    "colab_type": "text",
    "id": "HgtWA-UIOB7F"
   },
   "source": [
    "2.Define a function to calculate prediction"
   ]
  },
  {
   "cell_type": "code",
   "execution_count": 0,
   "metadata": {
    "colab": {},
    "colab_type": "code",
    "id": "JveGlx25OB7H"
   },
   "outputs": [],
   "source": [
    "def prediction(x, w, b):\n",
    "    \n",
    "    xw_matmul = tf.matmul(x, w)\n",
    "    y = tf.add(xw_matmul, b)\n",
    "    \n",
    "    return y"
   ]
  },
  {
   "cell_type": "markdown",
   "metadata": {
    "colab_type": "text",
    "id": "TL1hIwf_OB7M"
   },
   "source": [
    "3.Loss (Cost) Function [Mean square error]"
   ]
  },
  {
   "cell_type": "code",
   "execution_count": 0,
   "metadata": {
    "colab": {},
    "colab_type": "code",
    "id": "8VSWPiGXOB7P"
   },
   "outputs": [],
   "source": [
    "def loss(y_actual, y_predicted):\n",
    "    \n",
    "    diff = y_actual - y_predicted\n",
    "    sqr = tf.square(diff)\n",
    "    avg = tf.reduce_mean(sqr)\n",
    "    \n",
    "    return avg"
   ]
  },
  {
   "cell_type": "markdown",
   "metadata": {
    "colab_type": "text",
    "id": "jzG85FUlOB7U"
   },
   "source": [
    "4.Function to train the Model\n",
    "\n",
    "1.   Record all the mathematical steps to calculate Loss\n",
    "2.   Calculate Gradients of Loss w.r.t weights and bias\n",
    "3.   Update Weights and Bias based on gradients and learning rate to minimize loss"
   ]
  },
  {
   "cell_type": "code",
   "execution_count": 0,
   "metadata": {
    "colab": {},
    "colab_type": "code",
    "id": "cj802w-3OB7X"
   },
   "outputs": [],
   "source": [
    "def train(x, y_actual, w, b, learning_rate=0.01):\n",
    "    \n",
    "    #Record mathematical operations on 'tape' to calculate loss\n",
    "    with tf.GradientTape() as t:\n",
    "        \n",
    "        t.watch([w,b])\n",
    "        \n",
    "        current_prediction = prediction(x, w, b)\n",
    "        current_loss = loss(y_actual, current_prediction)\n",
    "    \n",
    "    #Calculate Gradients for Loss with respect to Weights and Bias\n",
    "    dw, db = t.gradient(current_loss,[w, b])\n",
    "    \n",
    "    #Update Weights and Bias\n",
    "    w = w - learning_rate*dw\n",
    "    b = b - learning_rate*db\n",
    "    \n",
    "    return w, b"
   ]
  },
  {
   "cell_type": "markdown",
   "metadata": {
    "colab_type": "text",
    "id": "xSypb_u8OB7e"
   },
   "source": [
    "## Train the model for 100 epochs \n",
    "1. Observe the training loss at every iteration\n",
    "2. Observe Train loss at every 5th iteration"
   ]
  },
  {
   "cell_type": "code",
   "execution_count": 32,
   "metadata": {
    "colab": {
     "base_uri": "https://localhost:8080/",
     "height": 1000
    },
    "colab_type": "code",
    "id": "DVvgj7eQOB7f",
    "outputId": "93931c80-8540-43a6-e8bb-68aae73ad408"
   },
   "outputs": [
    {
     "name": "stdout",
     "output_type": "stream",
     "text": [
      "Current Loss on iteration 0 tf.Tensor(255.41042, shape=(), dtype=float32)\n",
      "Current Loss on iteration 1 tf.Tensor(253.51328, shape=(), dtype=float32)\n",
      "Current Loss on iteration 2 tf.Tensor(251.7649, shape=(), dtype=float32)\n",
      "Current Loss on iteration 3 tf.Tensor(250.15358, shape=(), dtype=float32)\n",
      "Current Loss on iteration 4 tf.Tensor(248.66856, shape=(), dtype=float32)\n",
      "Current Loss on iteration 5 tf.Tensor(247.30002, shape=(), dtype=float32)\n",
      "Current Loss on iteration 6 tf.Tensor(246.03874, shape=(), dtype=float32)\n",
      "Current Loss on iteration 7 tf.Tensor(244.87634, shape=(), dtype=float32)\n",
      "Current Loss on iteration 8 tf.Tensor(243.80505, shape=(), dtype=float32)\n",
      "Current Loss on iteration 9 tf.Tensor(242.81778, shape=(), dtype=float32)\n",
      "Current Loss on iteration 10 tf.Tensor(241.90788, shape=(), dtype=float32)\n",
      "Current Loss on iteration 11 tf.Tensor(241.06932, shape=(), dtype=float32)\n",
      "Current Loss on iteration 12 tf.Tensor(240.29652, shape=(), dtype=float32)\n",
      "Current Loss on iteration 13 tf.Tensor(239.58432, shape=(), dtype=float32)\n",
      "Current Loss on iteration 14 tf.Tensor(238.92792, shape=(), dtype=float32)\n",
      "Current Loss on iteration 15 tf.Tensor(238.323, shape=(), dtype=float32)\n",
      "Current Loss on iteration 16 tf.Tensor(237.7655, shape=(), dtype=float32)\n",
      "Current Loss on iteration 17 tf.Tensor(237.25171, shape=(), dtype=float32)\n",
      "Current Loss on iteration 18 tf.Tensor(236.77818, shape=(), dtype=float32)\n",
      "Current Loss on iteration 19 tf.Tensor(236.3418, shape=(), dtype=float32)\n",
      "Current Loss on iteration 20 tf.Tensor(235.93962, shape=(), dtype=float32)\n",
      "Current Loss on iteration 21 tf.Tensor(235.56898, shape=(), dtype=float32)\n",
      "Current Loss on iteration 22 tf.Tensor(235.22736, shape=(), dtype=float32)\n",
      "Current Loss on iteration 23 tf.Tensor(234.91255, shape=(), dtype=float32)\n",
      "Current Loss on iteration 24 tf.Tensor(234.62244, shape=(), dtype=float32)\n",
      "Current Loss on iteration 25 tf.Tensor(234.35504, shape=(), dtype=float32)\n",
      "Current Loss on iteration 26 tf.Tensor(234.10863, shape=(), dtype=float32)\n",
      "Current Loss on iteration 27 tf.Tensor(233.8815, shape=(), dtype=float32)\n",
      "Current Loss on iteration 28 tf.Tensor(233.67223, shape=(), dtype=float32)\n",
      "Current Loss on iteration 29 tf.Tensor(233.47934, shape=(), dtype=float32)\n",
      "Current Loss on iteration 30 tf.Tensor(233.30157, shape=(), dtype=float32)\n",
      "Current Loss on iteration 31 tf.Tensor(233.13774, shape=(), dtype=float32)\n",
      "Current Loss on iteration 32 tf.Tensor(232.98674, shape=(), dtype=float32)\n",
      "Current Loss on iteration 33 tf.Tensor(232.84758, shape=(), dtype=float32)\n",
      "Current Loss on iteration 34 tf.Tensor(232.71935, shape=(), dtype=float32)\n",
      "Current Loss on iteration 35 tf.Tensor(232.60117, shape=(), dtype=float32)\n",
      "Current Loss on iteration 36 tf.Tensor(232.49225, shape=(), dtype=float32)\n",
      "Current Loss on iteration 37 tf.Tensor(232.39188, shape=(), dtype=float32)\n",
      "Current Loss on iteration 38 tf.Tensor(232.29935, shape=(), dtype=float32)\n",
      "Current Loss on iteration 39 tf.Tensor(232.2141, shape=(), dtype=float32)\n",
      "Current Loss on iteration 40 tf.Tensor(232.13551, shape=(), dtype=float32)\n",
      "Current Loss on iteration 41 tf.Tensor(232.06308, shape=(), dtype=float32)\n",
      "Current Loss on iteration 42 tf.Tensor(231.99637, shape=(), dtype=float32)\n",
      "Current Loss on iteration 43 tf.Tensor(231.93488, shape=(), dtype=float32)\n",
      "Current Loss on iteration 44 tf.Tensor(231.87817, shape=(), dtype=float32)\n",
      "Current Loss on iteration 45 tf.Tensor(231.82593, shape=(), dtype=float32)\n",
      "Current Loss on iteration 46 tf.Tensor(231.7778, shape=(), dtype=float32)\n",
      "Current Loss on iteration 47 tf.Tensor(231.73341, shape=(), dtype=float32)\n",
      "Current Loss on iteration 48 tf.Tensor(231.69252, shape=(), dtype=float32)\n",
      "Current Loss on iteration 49 tf.Tensor(231.65485, shape=(), dtype=float32)\n",
      "Current Loss on iteration 50 tf.Tensor(231.62012, shape=(), dtype=float32)\n",
      "Current Loss on iteration 51 tf.Tensor(231.58812, shape=(), dtype=float32)\n",
      "Current Loss on iteration 52 tf.Tensor(231.5586, shape=(), dtype=float32)\n",
      "Current Loss on iteration 53 tf.Tensor(231.53142, shape=(), dtype=float32)\n",
      "Current Loss on iteration 54 tf.Tensor(231.50635, shape=(), dtype=float32)\n",
      "Current Loss on iteration 55 tf.Tensor(231.48326, shape=(), dtype=float32)\n",
      "Current Loss on iteration 56 tf.Tensor(231.46199, shape=(), dtype=float32)\n",
      "Current Loss on iteration 57 tf.Tensor(231.44238, shape=(), dtype=float32)\n",
      "Current Loss on iteration 58 tf.Tensor(231.42432, shape=(), dtype=float32)\n",
      "Current Loss on iteration 59 tf.Tensor(231.40764, shape=(), dtype=float32)\n",
      "Current Loss on iteration 60 tf.Tensor(231.39229, shape=(), dtype=float32)\n",
      "Current Loss on iteration 61 tf.Tensor(231.37816, shape=(), dtype=float32)\n",
      "Current Loss on iteration 62 tf.Tensor(231.3651, shape=(), dtype=float32)\n",
      "Current Loss on iteration 63 tf.Tensor(231.35309, shape=(), dtype=float32)\n",
      "Current Loss on iteration 64 tf.Tensor(231.34201, shape=(), dtype=float32)\n",
      "Current Loss on iteration 65 tf.Tensor(231.33182, shape=(), dtype=float32)\n",
      "Current Loss on iteration 66 tf.Tensor(231.32242, shape=(), dtype=float32)\n",
      "Current Loss on iteration 67 tf.Tensor(231.31374, shape=(), dtype=float32)\n",
      "Current Loss on iteration 68 tf.Tensor(231.30574, shape=(), dtype=float32)\n",
      "Current Loss on iteration 69 tf.Tensor(231.29837, shape=(), dtype=float32)\n",
      "Current Loss on iteration 70 tf.Tensor(231.2916, shape=(), dtype=float32)\n",
      "Current Loss on iteration 71 tf.Tensor(231.28535, shape=(), dtype=float32)\n",
      "Current Loss on iteration 72 tf.Tensor(231.27957, shape=(), dtype=float32)\n",
      "Current Loss on iteration 73 tf.Tensor(231.27429, shape=(), dtype=float32)\n",
      "Current Loss on iteration 74 tf.Tensor(231.26935, shape=(), dtype=float32)\n",
      "Current Loss on iteration 75 tf.Tensor(231.26485, shape=(), dtype=float32)\n",
      "Current Loss on iteration 76 tf.Tensor(231.2607, shape=(), dtype=float32)\n",
      "Current Loss on iteration 77 tf.Tensor(231.25688, shape=(), dtype=float32)\n",
      "Current Loss on iteration 78 tf.Tensor(231.25333, shape=(), dtype=float32)\n",
      "Current Loss on iteration 79 tf.Tensor(231.25008, shape=(), dtype=float32)\n",
      "Current Loss on iteration 80 tf.Tensor(231.24709, shape=(), dtype=float32)\n",
      "Current Loss on iteration 81 tf.Tensor(231.24431, shape=(), dtype=float32)\n",
      "Current Loss on iteration 82 tf.Tensor(231.24176, shape=(), dtype=float32)\n",
      "Current Loss on iteration 83 tf.Tensor(231.23941, shape=(), dtype=float32)\n",
      "Current Loss on iteration 84 tf.Tensor(231.23726, shape=(), dtype=float32)\n",
      "Current Loss on iteration 85 tf.Tensor(231.23526, shape=(), dtype=float32)\n",
      "Current Loss on iteration 86 tf.Tensor(231.23344, shape=(), dtype=float32)\n",
      "Current Loss on iteration 87 tf.Tensor(231.23175, shape=(), dtype=float32)\n",
      "Current Loss on iteration 88 tf.Tensor(231.2302, shape=(), dtype=float32)\n",
      "Current Loss on iteration 89 tf.Tensor(231.22873, shape=(), dtype=float32)\n",
      "Current Loss on iteration 90 tf.Tensor(231.22743, shape=(), dtype=float32)\n",
      "Current Loss on iteration 91 tf.Tensor(231.22617, shape=(), dtype=float32)\n",
      "Current Loss on iteration 92 tf.Tensor(231.22508, shape=(), dtype=float32)\n",
      "Current Loss on iteration 93 tf.Tensor(231.22401, shape=(), dtype=float32)\n",
      "Current Loss on iteration 94 tf.Tensor(231.22305, shape=(), dtype=float32)\n",
      "Current Loss on iteration 95 tf.Tensor(231.22217, shape=(), dtype=float32)\n",
      "Current Loss on iteration 96 tf.Tensor(231.22136, shape=(), dtype=float32)\n",
      "Current Loss on iteration 97 tf.Tensor(231.22064, shape=(), dtype=float32)\n",
      "Current Loss on iteration 98 tf.Tensor(231.21994, shape=(), dtype=float32)\n",
      "Current Loss on iteration 99 tf.Tensor(231.2193, shape=(), dtype=float32)\n"
     ]
    }
   ],
   "source": [
    "for i in range(100):\n",
    "    \n",
    "    w, b = train(X_train, y_train, w, b)\n",
    "    print('Current Loss on iteration', i, loss(y_train, prediction(X_train, w, b)))"
   ]
  },
  {
   "cell_type": "markdown",
   "metadata": {
    "colab_type": "text",
    "id": "DOL2ncA1OB7q"
   },
   "source": [
    "### Get the shapes and values of W and b"
   ]
  },
  {
   "cell_type": "code",
   "execution_count": 33,
   "metadata": {
    "colab": {
     "base_uri": "https://localhost:8080/",
     "height": 34
    },
    "colab_type": "code",
    "id": "ZGvtyTeuOB7r",
    "outputId": "9e9b1bfc-0d24-4217-c84d-145df46a3f6f"
   },
   "outputs": [
    {
     "name": "stdout",
     "output_type": "stream",
     "text": [
      "(4, 1)\n"
     ]
    }
   ],
   "source": [
    "print(w.shape)"
   ]
  },
  {
   "cell_type": "code",
   "execution_count": 34,
   "metadata": {
    "colab": {
     "base_uri": "https://localhost:8080/",
     "height": 34
    },
    "colab_type": "code",
    "id": "vhDtOv5UOB7x",
    "outputId": "9891b245-7c1e-4678-cffc-ed0f11cb0a6a"
   },
   "outputs": [
    {
     "name": "stdout",
     "output_type": "stream",
     "text": [
      "(1,)\n"
     ]
    }
   ],
   "source": [
    "print(b.shape)"
   ]
  },
  {
   "cell_type": "code",
   "execution_count": 35,
   "metadata": {
    "colab": {
     "base_uri": "https://localhost:8080/",
     "height": 87
    },
    "colab_type": "code",
    "id": "8QsMSuJRXKLd",
    "outputId": "2b85bc58-fba2-45eb-de3c-b0b1f4a69b38"
   },
   "outputs": [
    {
     "data": {
      "text/plain": [
       "array([[1.2575908],\n",
       "       [1.2621496],\n",
       "       [1.2447186],\n",
       "       [1.273089 ]], dtype=float32)"
      ]
     },
     "execution_count": 35,
     "metadata": {
      "tags": []
     },
     "output_type": "execute_result"
    }
   ],
   "source": [
    "w.numpy()"
   ]
  },
  {
   "cell_type": "code",
   "execution_count": 36,
   "metadata": {
    "colab": {
     "base_uri": "https://localhost:8080/",
     "height": 34
    },
    "colab_type": "code",
    "id": "swK8rg1-XOWr",
    "outputId": "54a67b73-ea2a-4108-a055-07f3aee1e93c"
   },
   "outputs": [
    {
     "data": {
      "text/plain": [
       "array([2.51892], dtype=float32)"
      ]
     },
     "execution_count": 36,
     "metadata": {
      "tags": []
     },
     "output_type": "execute_result"
    }
   ],
   "source": [
    "b.numpy()"
   ]
  },
  {
   "cell_type": "markdown",
   "metadata": {
    "colab_type": "text",
    "id": "ERq9GOKKciho"
   },
   "source": [
    "### Model Prediction on 1st Examples in Test Dataset"
   ]
  },
  {
   "cell_type": "code",
   "execution_count": 0,
   "metadata": {
    "colab": {},
    "colab_type": "code",
    "id": "gKGvUWahcihp"
   },
   "outputs": [],
   "source": [
    "test_prediction = prediction(X_test[0:1], w, b)"
   ]
  },
  {
   "cell_type": "code",
   "execution_count": 38,
   "metadata": {
    "colab": {
     "base_uri": "https://localhost:8080/",
     "height": 34
    },
    "colab_type": "code",
    "id": "TbYqzcRkbt-2",
    "outputId": "b07f829f-f6ed-498f-851f-429f3851e5e8"
   },
   "outputs": [
    {
     "name": "stdout",
     "output_type": "stream",
     "text": [
      "[[5.03776]]\n"
     ]
    }
   ],
   "source": [
    "print(test_prediction.numpy())"
   ]
  },
  {
   "cell_type": "markdown",
   "metadata": {
    "colab_type": "text",
    "id": "YJRBuqXhOB7_"
   },
   "source": [
    "## Classification using tf.Keras\n",
    "\n",
    "In this exercise, we will build a Deep Neural Network using tf.Keras. We will use Iris Dataset for this exercise."
   ]
  },
  {
   "cell_type": "markdown",
   "metadata": {
    "colab_type": "text",
    "id": "O0g6lorycihf"
   },
   "source": [
    "### Load the given Iris data using pandas (Iris.csv)"
   ]
  },
  {
   "cell_type": "code",
   "execution_count": 0,
   "metadata": {
    "colab": {},
    "colab_type": "code",
    "id": "6xFvb5sRcihg"
   },
   "outputs": [],
   "source": [
    "iris_data = pd.read_csv(path_files + '11_Iris.csv')"
   ]
  },
  {
   "cell_type": "code",
   "execution_count": 40,
   "metadata": {
    "colab": {
     "base_uri": "https://localhost:8080/",
     "height": 195
    },
    "colab_type": "code",
    "id": "N5guvPxSXzOD",
    "outputId": "e12dad68-1121-4ed8-d9e9-5571865f8a4f"
   },
   "outputs": [
    {
     "data": {
      "text/html": [
       "<div>\n",
       "<style scoped>\n",
       "    .dataframe tbody tr th:only-of-type {\n",
       "        vertical-align: middle;\n",
       "    }\n",
       "\n",
       "    .dataframe tbody tr th {\n",
       "        vertical-align: top;\n",
       "    }\n",
       "\n",
       "    .dataframe thead th {\n",
       "        text-align: right;\n",
       "    }\n",
       "</style>\n",
       "<table border=\"1\" class=\"dataframe\">\n",
       "  <thead>\n",
       "    <tr style=\"text-align: right;\">\n",
       "      <th></th>\n",
       "      <th>Id</th>\n",
       "      <th>SepalLengthCm</th>\n",
       "      <th>SepalWidthCm</th>\n",
       "      <th>PetalLengthCm</th>\n",
       "      <th>PetalWidthCm</th>\n",
       "      <th>Species</th>\n",
       "    </tr>\n",
       "  </thead>\n",
       "  <tbody>\n",
       "    <tr>\n",
       "      <th>0</th>\n",
       "      <td>1</td>\n",
       "      <td>5.1</td>\n",
       "      <td>3.5</td>\n",
       "      <td>1.4</td>\n",
       "      <td>0.2</td>\n",
       "      <td>Iris-setosa</td>\n",
       "    </tr>\n",
       "    <tr>\n",
       "      <th>1</th>\n",
       "      <td>2</td>\n",
       "      <td>4.9</td>\n",
       "      <td>3.0</td>\n",
       "      <td>1.4</td>\n",
       "      <td>0.2</td>\n",
       "      <td>Iris-setosa</td>\n",
       "    </tr>\n",
       "    <tr>\n",
       "      <th>2</th>\n",
       "      <td>3</td>\n",
       "      <td>4.7</td>\n",
       "      <td>3.2</td>\n",
       "      <td>1.3</td>\n",
       "      <td>0.2</td>\n",
       "      <td>Iris-setosa</td>\n",
       "    </tr>\n",
       "    <tr>\n",
       "      <th>3</th>\n",
       "      <td>4</td>\n",
       "      <td>4.6</td>\n",
       "      <td>3.1</td>\n",
       "      <td>1.5</td>\n",
       "      <td>0.2</td>\n",
       "      <td>Iris-setosa</td>\n",
       "    </tr>\n",
       "    <tr>\n",
       "      <th>4</th>\n",
       "      <td>5</td>\n",
       "      <td>5.0</td>\n",
       "      <td>3.6</td>\n",
       "      <td>1.4</td>\n",
       "      <td>0.2</td>\n",
       "      <td>Iris-setosa</td>\n",
       "    </tr>\n",
       "  </tbody>\n",
       "</table>\n",
       "</div>"
      ],
      "text/plain": [
       "   Id  SepalLengthCm  SepalWidthCm  PetalLengthCm  PetalWidthCm      Species\n",
       "0   1            5.1           3.5            1.4           0.2  Iris-setosa\n",
       "1   2            4.9           3.0            1.4           0.2  Iris-setosa\n",
       "2   3            4.7           3.2            1.3           0.2  Iris-setosa\n",
       "3   4            4.6           3.1            1.5           0.2  Iris-setosa\n",
       "4   5            5.0           3.6            1.4           0.2  Iris-setosa"
      ]
     },
     "execution_count": 40,
     "metadata": {
      "tags": []
     },
     "output_type": "execute_result"
    }
   ],
   "source": [
    "iris_data.head()"
   ]
  },
  {
   "cell_type": "markdown",
   "metadata": {
    "colab_type": "text",
    "id": "SAB--Qdwcihm"
   },
   "source": [
    "### Target set has different categories. So, Label encode them. And convert into one-hot vectors using get_dummies in pandas."
   ]
  },
  {
   "cell_type": "code",
   "execution_count": 0,
   "metadata": {
    "colab": {},
    "colab_type": "code",
    "id": "IJr5dYnocihm"
   },
   "outputs": [],
   "source": [
    "from sklearn.preprocessing import LabelEncoder"
   ]
  },
  {
   "cell_type": "code",
   "execution_count": 0,
   "metadata": {
    "colab": {},
    "colab_type": "code",
    "id": "OnCxYjOyXplk"
   },
   "outputs": [],
   "source": [
    "le = LabelEncoder()\n",
    "\n",
    "iris_data['Species'] = le.fit_transform(iris_data['Species'])"
   ]
  },
  {
   "cell_type": "code",
   "execution_count": 43,
   "metadata": {
    "colab": {
     "base_uri": "https://localhost:8080/",
     "height": 34
    },
    "colab_type": "code",
    "id": "bV6n6u2KYGH6",
    "outputId": "c4df513a-27fe-4c5c-f3a7-bc4a86768045"
   },
   "outputs": [
    {
     "data": {
      "text/plain": [
       "array([0, 1, 2])"
      ]
     },
     "execution_count": 43,
     "metadata": {
      "tags": []
     },
     "output_type": "execute_result"
    }
   ],
   "source": [
    "iris_data['Species'].unique()"
   ]
  },
  {
   "cell_type": "code",
   "execution_count": 0,
   "metadata": {
    "colab": {},
    "colab_type": "code",
    "id": "ZkF1qzHPYK-S"
   },
   "outputs": [],
   "source": [
    "iris_data = pd.get_dummies(data = iris_data, columns=['Species'])"
   ]
  },
  {
   "cell_type": "code",
   "execution_count": 45,
   "metadata": {
    "colab": {
     "base_uri": "https://localhost:8080/",
     "height": 195
    },
    "colab_type": "code",
    "id": "9kSBhbZXYYda",
    "outputId": "daac4916-4563-4193-a876-a1e5beaebb5a"
   },
   "outputs": [
    {
     "data": {
      "text/html": [
       "<div>\n",
       "<style scoped>\n",
       "    .dataframe tbody tr th:only-of-type {\n",
       "        vertical-align: middle;\n",
       "    }\n",
       "\n",
       "    .dataframe tbody tr th {\n",
       "        vertical-align: top;\n",
       "    }\n",
       "\n",
       "    .dataframe thead th {\n",
       "        text-align: right;\n",
       "    }\n",
       "</style>\n",
       "<table border=\"1\" class=\"dataframe\">\n",
       "  <thead>\n",
       "    <tr style=\"text-align: right;\">\n",
       "      <th></th>\n",
       "      <th>Id</th>\n",
       "      <th>SepalLengthCm</th>\n",
       "      <th>SepalWidthCm</th>\n",
       "      <th>PetalLengthCm</th>\n",
       "      <th>PetalWidthCm</th>\n",
       "      <th>Species_0</th>\n",
       "      <th>Species_1</th>\n",
       "      <th>Species_2</th>\n",
       "    </tr>\n",
       "  </thead>\n",
       "  <tbody>\n",
       "    <tr>\n",
       "      <th>0</th>\n",
       "      <td>1</td>\n",
       "      <td>5.1</td>\n",
       "      <td>3.5</td>\n",
       "      <td>1.4</td>\n",
       "      <td>0.2</td>\n",
       "      <td>1</td>\n",
       "      <td>0</td>\n",
       "      <td>0</td>\n",
       "    </tr>\n",
       "    <tr>\n",
       "      <th>1</th>\n",
       "      <td>2</td>\n",
       "      <td>4.9</td>\n",
       "      <td>3.0</td>\n",
       "      <td>1.4</td>\n",
       "      <td>0.2</td>\n",
       "      <td>1</td>\n",
       "      <td>0</td>\n",
       "      <td>0</td>\n",
       "    </tr>\n",
       "    <tr>\n",
       "      <th>2</th>\n",
       "      <td>3</td>\n",
       "      <td>4.7</td>\n",
       "      <td>3.2</td>\n",
       "      <td>1.3</td>\n",
       "      <td>0.2</td>\n",
       "      <td>1</td>\n",
       "      <td>0</td>\n",
       "      <td>0</td>\n",
       "    </tr>\n",
       "    <tr>\n",
       "      <th>3</th>\n",
       "      <td>4</td>\n",
       "      <td>4.6</td>\n",
       "      <td>3.1</td>\n",
       "      <td>1.5</td>\n",
       "      <td>0.2</td>\n",
       "      <td>1</td>\n",
       "      <td>0</td>\n",
       "      <td>0</td>\n",
       "    </tr>\n",
       "    <tr>\n",
       "      <th>4</th>\n",
       "      <td>5</td>\n",
       "      <td>5.0</td>\n",
       "      <td>3.6</td>\n",
       "      <td>1.4</td>\n",
       "      <td>0.2</td>\n",
       "      <td>1</td>\n",
       "      <td>0</td>\n",
       "      <td>0</td>\n",
       "    </tr>\n",
       "  </tbody>\n",
       "</table>\n",
       "</div>"
      ],
      "text/plain": [
       "   Id  SepalLengthCm  SepalWidthCm  ...  Species_0  Species_1  Species_2\n",
       "0   1            5.1           3.5  ...          1          0          0\n",
       "1   2            4.9           3.0  ...          1          0          0\n",
       "2   3            4.7           3.2  ...          1          0          0\n",
       "3   4            4.6           3.1  ...          1          0          0\n",
       "4   5            5.0           3.6  ...          1          0          0\n",
       "\n",
       "[5 rows x 8 columns]"
      ]
     },
     "execution_count": 45,
     "metadata": {
      "tags": []
     },
     "output_type": "execute_result"
    }
   ],
   "source": [
    "iris_data.head()"
   ]
  },
  {
   "cell_type": "markdown",
   "metadata": {
    "colab_type": "text",
    "id": "D95nY5ILcihj"
   },
   "source": [
    "### Splitting the data into feature set and target set"
   ]
  },
  {
   "cell_type": "code",
   "execution_count": 0,
   "metadata": {
    "colab": {},
    "colab_type": "code",
    "id": "RyMQoLMucihj"
   },
   "outputs": [],
   "source": [
    "X = iris_data.drop(['Species_0','Species_1', 'Species_2','Id'], axis = 1)\n",
    "\n",
    "y = iris_data[['Species_0','Species_1', 'Species_2']]"
   ]
  },
  {
   "cell_type": "markdown",
   "metadata": {
    "colab_type": "text",
    "id": "b22qpC5xcihr"
   },
   "source": [
    "###  Building Model in tf.keras\n",
    "\n",
    "Build a Linear Classifier model  <br>\n",
    "1.  Use Dense Layer  with input shape of 4 (according to the feature set) and number of outputs set to 3<br> \n",
    "2. Apply Softmax on Dense Layer outputs <br>\n",
    "3. Use SGD as Optimizer\n",
    "4. Use categorical_crossentropy as loss function "
   ]
  },
  {
   "cell_type": "code",
   "execution_count": 0,
   "metadata": {
    "colab": {},
    "colab_type": "code",
    "id": "Hov_UFnUciht"
   },
   "outputs": [],
   "source": [
    "model = tf.keras.Sequential()\n",
    "\n",
    "#Add Dense layer for prediction - Keras declares weights and bias automatically\n",
    "model.add(tf.keras.layers.Dense(3, input_shape=(4,), activation='softmax'))\n",
    "\n",
    "#Compile the model - add Loss and Gradient Descent optimizer\n",
    "model.compile(optimizer='sgd', loss='categorical_crossentropy', \n",
    "              metrics=['accuracy'])"
   ]
  },
  {
   "cell_type": "code",
   "execution_count": 0,
   "metadata": {
    "colab": {},
    "colab_type": "code",
    "id": "q1r1xkyTgaId"
   },
   "outputs": [],
   "source": [
    "X_train, X_test, y_train, y_test = train_test_split(X,y, test_size = 0.30, random_state = 5)"
   ]
  },
  {
   "cell_type": "markdown",
   "metadata": {
    "colab_type": "text",
    "id": "T5FdzqIKcihw"
   },
   "source": [
    "### Model Training "
   ]
  },
  {
   "cell_type": "code",
   "execution_count": 49,
   "metadata": {
    "colab": {
     "base_uri": "https://localhost:8080/",
     "height": 1000
    },
    "colab_type": "code",
    "id": "4qLEdHPscihx",
    "outputId": "2e8ebc3a-4f93-4a0e-e940-37e58fe5c5cf"
   },
   "outputs": [
    {
     "name": "stdout",
     "output_type": "stream",
     "text": [
      "WARNING:tensorflow:Falling back from v2 loop because of error: Failed to find data adapter that can handle input: <class 'pandas.core.frame.DataFrame'>, <class 'NoneType'>\n",
      "WARNING:tensorflow:From /usr/local/lib/python3.6/dist-packages/tensorflow_core/python/ops/math_grad.py:1424: where (from tensorflow.python.ops.array_ops) is deprecated and will be removed in a future version.\n",
      "Instructions for updating:\n",
      "Use tf.where in 2.0, which has the same broadcast rule as np.where\n",
      "Train on 105 samples, validate on 45 samples\n",
      "Epoch 1/100\n",
      "105/105 [==============================] - 0s 723us/sample - loss: 3.1314 - acc: 0.3238 - val_loss: 2.6450 - val_acc: 0.3556\n",
      "Epoch 2/100\n",
      "105/105 [==============================] - 0s 55us/sample - loss: 2.7526 - acc: 0.3238 - val_loss: 2.3168 - val_acc: 0.3556\n",
      "Epoch 3/100\n",
      "105/105 [==============================] - 0s 49us/sample - loss: 2.4019 - acc: 0.3238 - val_loss: 2.0312 - val_acc: 0.3556\n",
      "Epoch 4/100\n",
      "105/105 [==============================] - 0s 50us/sample - loss: 2.0952 - acc: 0.3238 - val_loss: 1.8018 - val_acc: 0.3556\n",
      "Epoch 5/100\n",
      "105/105 [==============================] - 0s 48us/sample - loss: 1.8467 - acc: 0.3238 - val_loss: 1.6313 - val_acc: 0.3778\n",
      "Epoch 6/100\n",
      "105/105 [==============================] - 0s 55us/sample - loss: 1.6604 - acc: 0.3238 - val_loss: 1.5092 - val_acc: 0.4444\n",
      "Epoch 7/100\n",
      "105/105 [==============================] - 0s 52us/sample - loss: 1.5260 - acc: 0.3810 - val_loss: 1.4190 - val_acc: 0.5778\n",
      "Epoch 8/100\n",
      "105/105 [==============================] - 0s 52us/sample - loss: 1.4269 - acc: 0.5048 - val_loss: 1.3473 - val_acc: 0.5778\n",
      "Epoch 9/100\n",
      "105/105 [==============================] - 0s 49us/sample - loss: 1.3487 - acc: 0.5429 - val_loss: 1.2857 - val_acc: 0.4889\n",
      "Epoch 10/100\n",
      "105/105 [==============================] - 0s 55us/sample - loss: 1.2828 - acc: 0.5238 - val_loss: 1.2302 - val_acc: 0.4889\n",
      "Epoch 11/100\n",
      "105/105 [==============================] - 0s 51us/sample - loss: 1.2242 - acc: 0.4762 - val_loss: 1.1788 - val_acc: 0.4667\n",
      "Epoch 12/100\n",
      "105/105 [==============================] - 0s 52us/sample - loss: 1.1707 - acc: 0.4286 - val_loss: 1.1309 - val_acc: 0.4667\n",
      "Epoch 13/100\n",
      "105/105 [==============================] - 0s 46us/sample - loss: 1.1212 - acc: 0.4095 - val_loss: 1.0861 - val_acc: 0.4000\n",
      "Epoch 14/100\n",
      "105/105 [==============================] - 0s 54us/sample - loss: 1.0755 - acc: 0.4095 - val_loss: 1.0446 - val_acc: 0.3778\n",
      "Epoch 15/100\n",
      "105/105 [==============================] - 0s 43us/sample - loss: 1.0333 - acc: 0.4000 - val_loss: 1.0065 - val_acc: 0.3556\n",
      "Epoch 16/100\n",
      "105/105 [==============================] - 0s 51us/sample - loss: 0.9947 - acc: 0.4000 - val_loss: 0.9718 - val_acc: 0.3556\n",
      "Epoch 17/100\n",
      "105/105 [==============================] - 0s 45us/sample - loss: 0.9598 - acc: 0.3905 - val_loss: 0.9407 - val_acc: 0.3556\n",
      "Epoch 18/100\n",
      "105/105 [==============================] - 0s 66us/sample - loss: 0.9285 - acc: 0.3905 - val_loss: 0.9131 - val_acc: 0.3556\n",
      "Epoch 19/100\n",
      "105/105 [==============================] - 0s 51us/sample - loss: 0.9008 - acc: 0.3905 - val_loss: 0.8889 - val_acc: 0.3556\n",
      "Epoch 20/100\n",
      "105/105 [==============================] - 0s 51us/sample - loss: 0.8766 - acc: 0.3905 - val_loss: 0.8679 - val_acc: 0.3556\n",
      "Epoch 21/100\n",
      "105/105 [==============================] - 0s 38us/sample - loss: 0.8556 - acc: 0.3905 - val_loss: 0.8499 - val_acc: 0.3556\n",
      "Epoch 22/100\n",
      "105/105 [==============================] - 0s 41us/sample - loss: 0.8376 - acc: 0.4095 - val_loss: 0.8346 - val_acc: 0.3778\n",
      "Epoch 23/100\n",
      "105/105 [==============================] - 0s 53us/sample - loss: 0.8223 - acc: 0.4190 - val_loss: 0.8215 - val_acc: 0.4000\n",
      "Epoch 24/100\n",
      "105/105 [==============================] - 0s 49us/sample - loss: 0.8093 - acc: 0.4476 - val_loss: 0.8105 - val_acc: 0.4444\n",
      "Epoch 25/100\n",
      "105/105 [==============================] - 0s 51us/sample - loss: 0.7984 - acc: 0.4762 - val_loss: 0.8012 - val_acc: 0.5111\n",
      "Epoch 26/100\n",
      "105/105 [==============================] - 0s 43us/sample - loss: 0.7891 - acc: 0.5048 - val_loss: 0.7933 - val_acc: 0.5778\n",
      "Epoch 27/100\n",
      "105/105 [==============================] - 0s 51us/sample - loss: 0.7813 - acc: 0.5619 - val_loss: 0.7865 - val_acc: 0.6000\n",
      "Epoch 28/100\n",
      "105/105 [==============================] - 0s 47us/sample - loss: 0.7746 - acc: 0.6190 - val_loss: 0.7807 - val_acc: 0.6222\n",
      "Epoch 29/100\n",
      "105/105 [==============================] - 0s 56us/sample - loss: 0.7688 - acc: 0.6476 - val_loss: 0.7756 - val_acc: 0.6222\n",
      "Epoch 30/100\n",
      "105/105 [==============================] - 0s 45us/sample - loss: 0.7638 - acc: 0.6571 - val_loss: 0.7711 - val_acc: 0.6444\n",
      "Epoch 31/100\n",
      "105/105 [==============================] - 0s 57us/sample - loss: 0.7593 - acc: 0.6571 - val_loss: 0.7670 - val_acc: 0.6444\n",
      "Epoch 32/100\n",
      "105/105 [==============================] - 0s 42us/sample - loss: 0.7552 - acc: 0.6762 - val_loss: 0.7633 - val_acc: 0.6667\n",
      "Epoch 33/100\n",
      "105/105 [==============================] - 0s 40us/sample - loss: 0.7516 - acc: 0.6857 - val_loss: 0.7599 - val_acc: 0.6667\n",
      "Epoch 34/100\n",
      "105/105 [==============================] - 0s 45us/sample - loss: 0.7482 - acc: 0.7143 - val_loss: 0.7566 - val_acc: 0.6889\n",
      "Epoch 35/100\n",
      "105/105 [==============================] - 0s 38us/sample - loss: 0.7450 - acc: 0.7238 - val_loss: 0.7536 - val_acc: 0.6889\n",
      "Epoch 36/100\n",
      "105/105 [==============================] - 0s 40us/sample - loss: 0.7420 - acc: 0.7238 - val_loss: 0.7507 - val_acc: 0.6889\n",
      "Epoch 37/100\n",
      "105/105 [==============================] - 0s 59us/sample - loss: 0.7391 - acc: 0.7333 - val_loss: 0.7479 - val_acc: 0.6889\n",
      "Epoch 38/100\n",
      "105/105 [==============================] - 0s 41us/sample - loss: 0.7363 - acc: 0.7333 - val_loss: 0.7452 - val_acc: 0.6889\n",
      "Epoch 39/100\n",
      "105/105 [==============================] - 0s 40us/sample - loss: 0.7336 - acc: 0.7333 - val_loss: 0.7425 - val_acc: 0.6889\n",
      "Epoch 40/100\n",
      "105/105 [==============================] - 0s 54us/sample - loss: 0.7310 - acc: 0.7333 - val_loss: 0.7400 - val_acc: 0.6889\n",
      "Epoch 41/100\n",
      "105/105 [==============================] - 0s 62us/sample - loss: 0.7284 - acc: 0.7333 - val_loss: 0.7374 - val_acc: 0.6889\n",
      "Epoch 42/100\n",
      "105/105 [==============================] - 0s 75us/sample - loss: 0.7259 - acc: 0.7429 - val_loss: 0.7350 - val_acc: 0.7111\n",
      "Epoch 43/100\n",
      "105/105 [==============================] - 0s 50us/sample - loss: 0.7234 - acc: 0.7429 - val_loss: 0.7325 - val_acc: 0.7111\n",
      "Epoch 44/100\n",
      "105/105 [==============================] - 0s 65us/sample - loss: 0.7210 - acc: 0.7429 - val_loss: 0.7301 - val_acc: 0.7111\n",
      "Epoch 45/100\n",
      "105/105 [==============================] - 0s 52us/sample - loss: 0.7186 - acc: 0.7429 - val_loss: 0.7278 - val_acc: 0.7111\n",
      "Epoch 46/100\n",
      "105/105 [==============================] - 0s 48us/sample - loss: 0.7163 - acc: 0.7429 - val_loss: 0.7254 - val_acc: 0.7111\n",
      "Epoch 47/100\n",
      "105/105 [==============================] - 0s 59us/sample - loss: 0.7140 - acc: 0.7429 - val_loss: 0.7231 - val_acc: 0.7111\n",
      "Epoch 48/100\n",
      "105/105 [==============================] - 0s 54us/sample - loss: 0.7117 - acc: 0.7429 - val_loss: 0.7209 - val_acc: 0.7111\n",
      "Epoch 49/100\n",
      "105/105 [==============================] - 0s 62us/sample - loss: 0.7094 - acc: 0.7429 - val_loss: 0.7186 - val_acc: 0.7111\n",
      "Epoch 50/100\n",
      "105/105 [==============================] - 0s 55us/sample - loss: 0.7072 - acc: 0.7429 - val_loss: 0.7164 - val_acc: 0.7111\n",
      "Epoch 51/100\n",
      "105/105 [==============================] - 0s 53us/sample - loss: 0.7050 - acc: 0.7429 - val_loss: 0.7142 - val_acc: 0.7111\n",
      "Epoch 52/100\n",
      "105/105 [==============================] - 0s 56us/sample - loss: 0.7028 - acc: 0.7429 - val_loss: 0.7121 - val_acc: 0.7111\n",
      "Epoch 53/100\n",
      "105/105 [==============================] - 0s 67us/sample - loss: 0.7006 - acc: 0.7429 - val_loss: 0.7099 - val_acc: 0.7333\n",
      "Epoch 54/100\n",
      "105/105 [==============================] - 0s 78us/sample - loss: 0.6985 - acc: 0.7429 - val_loss: 0.7078 - val_acc: 0.7333\n",
      "Epoch 55/100\n",
      "105/105 [==============================] - 0s 68us/sample - loss: 0.6964 - acc: 0.7429 - val_loss: 0.7057 - val_acc: 0.7333\n",
      "Epoch 56/100\n",
      "105/105 [==============================] - 0s 65us/sample - loss: 0.6943 - acc: 0.7429 - val_loss: 0.7036 - val_acc: 0.7333\n",
      "Epoch 57/100\n",
      "105/105 [==============================] - 0s 40us/sample - loss: 0.6923 - acc: 0.7429 - val_loss: 0.7016 - val_acc: 0.7333\n",
      "Epoch 58/100\n",
      "105/105 [==============================] - 0s 50us/sample - loss: 0.6902 - acc: 0.7429 - val_loss: 0.6996 - val_acc: 0.7333\n",
      "Epoch 59/100\n",
      "105/105 [==============================] - 0s 40us/sample - loss: 0.6882 - acc: 0.7429 - val_loss: 0.6976 - val_acc: 0.7556\n",
      "Epoch 60/100\n",
      "105/105 [==============================] - 0s 57us/sample - loss: 0.6862 - acc: 0.7429 - val_loss: 0.6956 - val_acc: 0.7556\n",
      "Epoch 61/100\n",
      "105/105 [==============================] - 0s 63us/sample - loss: 0.6842 - acc: 0.7429 - val_loss: 0.6936 - val_acc: 0.7556\n",
      "Epoch 62/100\n",
      "105/105 [==============================] - 0s 58us/sample - loss: 0.6823 - acc: 0.7429 - val_loss: 0.6917 - val_acc: 0.7556\n",
      "Epoch 63/100\n",
      "105/105 [==============================] - 0s 71us/sample - loss: 0.6804 - acc: 0.7429 - val_loss: 0.6898 - val_acc: 0.7556\n",
      "Epoch 64/100\n",
      "105/105 [==============================] - 0s 60us/sample - loss: 0.6785 - acc: 0.7429 - val_loss: 0.6879 - val_acc: 0.7556\n",
      "Epoch 65/100\n",
      "105/105 [==============================] - 0s 62us/sample - loss: 0.6766 - acc: 0.7429 - val_loss: 0.6860 - val_acc: 0.7556\n",
      "Epoch 66/100\n",
      "105/105 [==============================] - 0s 67us/sample - loss: 0.6747 - acc: 0.7429 - val_loss: 0.6841 - val_acc: 0.7778\n",
      "Epoch 67/100\n",
      "105/105 [==============================] - 0s 49us/sample - loss: 0.6729 - acc: 0.7429 - val_loss: 0.6823 - val_acc: 0.7778\n",
      "Epoch 68/100\n",
      "105/105 [==============================] - 0s 76us/sample - loss: 0.6710 - acc: 0.7429 - val_loss: 0.6805 - val_acc: 0.7778\n",
      "Epoch 69/100\n",
      "105/105 [==============================] - 0s 63us/sample - loss: 0.6692 - acc: 0.7429 - val_loss: 0.6787 - val_acc: 0.7778\n",
      "Epoch 70/100\n",
      "105/105 [==============================] - 0s 43us/sample - loss: 0.6674 - acc: 0.7429 - val_loss: 0.6769 - val_acc: 0.7778\n",
      "Epoch 71/100\n",
      "105/105 [==============================] - 0s 57us/sample - loss: 0.6657 - acc: 0.7429 - val_loss: 0.6751 - val_acc: 0.7778\n",
      "Epoch 72/100\n",
      "105/105 [==============================] - 0s 56us/sample - loss: 0.6639 - acc: 0.7429 - val_loss: 0.6734 - val_acc: 0.7778\n",
      "Epoch 73/100\n",
      "105/105 [==============================] - 0s 54us/sample - loss: 0.6622 - acc: 0.7429 - val_loss: 0.6717 - val_acc: 0.7778\n",
      "Epoch 74/100\n",
      "105/105 [==============================] - 0s 44us/sample - loss: 0.6605 - acc: 0.7333 - val_loss: 0.6700 - val_acc: 0.7778\n",
      "Epoch 75/100\n",
      "105/105 [==============================] - 0s 56us/sample - loss: 0.6588 - acc: 0.7333 - val_loss: 0.6683 - val_acc: 0.7778\n",
      "Epoch 76/100\n",
      "105/105 [==============================] - 0s 62us/sample - loss: 0.6571 - acc: 0.7429 - val_loss: 0.6666 - val_acc: 0.7778\n",
      "Epoch 77/100\n",
      "105/105 [==============================] - 0s 63us/sample - loss: 0.6554 - acc: 0.7429 - val_loss: 0.6649 - val_acc: 0.7778\n",
      "Epoch 78/100\n",
      "105/105 [==============================] - 0s 56us/sample - loss: 0.6538 - acc: 0.7429 - val_loss: 0.6633 - val_acc: 0.7778\n",
      "Epoch 79/100\n",
      "105/105 [==============================] - 0s 59us/sample - loss: 0.6522 - acc: 0.7429 - val_loss: 0.6617 - val_acc: 0.7778\n",
      "Epoch 80/100\n",
      "105/105 [==============================] - 0s 49us/sample - loss: 0.6506 - acc: 0.7429 - val_loss: 0.6601 - val_acc: 0.7778\n",
      "Epoch 81/100\n",
      "105/105 [==============================] - 0s 75us/sample - loss: 0.6490 - acc: 0.7429 - val_loss: 0.6585 - val_acc: 0.7778\n",
      "Epoch 82/100\n",
      "105/105 [==============================] - 0s 78us/sample - loss: 0.6474 - acc: 0.7429 - val_loss: 0.6569 - val_acc: 0.7778\n",
      "Epoch 83/100\n",
      "105/105 [==============================] - 0s 45us/sample - loss: 0.6458 - acc: 0.7429 - val_loss: 0.6553 - val_acc: 0.7778\n",
      "Epoch 84/100\n",
      "105/105 [==============================] - 0s 62us/sample - loss: 0.6443 - acc: 0.7429 - val_loss: 0.6538 - val_acc: 0.7778\n",
      "Epoch 85/100\n",
      "105/105 [==============================] - 0s 74us/sample - loss: 0.6427 - acc: 0.7429 - val_loss: 0.6522 - val_acc: 0.7778\n",
      "Epoch 86/100\n",
      "105/105 [==============================] - 0s 52us/sample - loss: 0.6412 - acc: 0.7429 - val_loss: 0.6507 - val_acc: 0.7778\n",
      "Epoch 87/100\n",
      "105/105 [==============================] - 0s 39us/sample - loss: 0.6397 - acc: 0.7429 - val_loss: 0.6492 - val_acc: 0.7778\n",
      "Epoch 88/100\n",
      "105/105 [==============================] - 0s 52us/sample - loss: 0.6382 - acc: 0.7429 - val_loss: 0.6477 - val_acc: 0.7778\n",
      "Epoch 89/100\n",
      "105/105 [==============================] - 0s 99us/sample - loss: 0.6367 - acc: 0.7429 - val_loss: 0.6463 - val_acc: 0.7778\n",
      "Epoch 90/100\n",
      "105/105 [==============================] - 0s 51us/sample - loss: 0.6353 - acc: 0.7429 - val_loss: 0.6448 - val_acc: 0.7778\n",
      "Epoch 91/100\n",
      "105/105 [==============================] - 0s 54us/sample - loss: 0.6338 - acc: 0.7429 - val_loss: 0.6433 - val_acc: 0.7778\n",
      "Epoch 92/100\n",
      "105/105 [==============================] - 0s 84us/sample - loss: 0.6324 - acc: 0.7429 - val_loss: 0.6419 - val_acc: 0.7778\n",
      "Epoch 93/100\n",
      "105/105 [==============================] - 0s 89us/sample - loss: 0.6310 - acc: 0.7429 - val_loss: 0.6405 - val_acc: 0.7778\n",
      "Epoch 94/100\n",
      "105/105 [==============================] - 0s 78us/sample - loss: 0.6296 - acc: 0.7429 - val_loss: 0.6391 - val_acc: 0.7778\n",
      "Epoch 95/100\n",
      "105/105 [==============================] - 0s 59us/sample - loss: 0.6282 - acc: 0.7429 - val_loss: 0.6377 - val_acc: 0.7778\n",
      "Epoch 96/100\n",
      "105/105 [==============================] - 0s 53us/sample - loss: 0.6268 - acc: 0.7429 - val_loss: 0.6363 - val_acc: 0.7778\n",
      "Epoch 97/100\n",
      "105/105 [==============================] - 0s 77us/sample - loss: 0.6254 - acc: 0.7429 - val_loss: 0.6349 - val_acc: 0.7778\n",
      "Epoch 98/100\n",
      "105/105 [==============================] - 0s 76us/sample - loss: 0.6241 - acc: 0.7429 - val_loss: 0.6336 - val_acc: 0.7778\n",
      "Epoch 99/100\n",
      "105/105 [==============================] - 0s 46us/sample - loss: 0.6227 - acc: 0.7429 - val_loss: 0.6322 - val_acc: 0.7778\n",
      "Epoch 100/100\n",
      "105/105 [==============================] - 0s 59us/sample - loss: 0.6214 - acc: 0.7429 - val_loss: 0.6309 - val_acc: 0.7778\n"
     ]
    },
    {
     "data": {
      "text/plain": [
       "<tensorflow.python.keras.callbacks.History at 0x7f19199aa278>"
      ]
     },
     "execution_count": 49,
     "metadata": {
      "tags": []
     },
     "output_type": "execute_result"
    }
   ],
   "source": [
    "model.fit(X_train, y_train, \n",
    "          validation_data=(X_test, y_test), \n",
    "          epochs=100,\n",
    "          batch_size=X_train.shape[0])"
   ]
  },
  {
   "cell_type": "code",
   "execution_count": 50,
   "metadata": {
    "colab": {
     "base_uri": "https://localhost:8080/",
     "height": 105
    },
    "colab_type": "code",
    "id": "4_7w9f4hhjRM",
    "outputId": "7c2dfa09-cff2-47d9-ab36-4a440cded222"
   },
   "outputs": [
    {
     "data": {
      "text/plain": [
       "[array([[-0.3581699 , -0.18571015,  0.07758212],\n",
       "        [ 0.9849658 ,  0.21411744, -0.37168783],\n",
       "        [-0.13432586,  0.6393134 ,  0.17132826],\n",
       "        [ 0.22336312, -0.5739029 ,  0.99934065]], dtype=float32),\n",
       " array([ 0.10058332, -0.06767137, -0.03291184], dtype=float32)]"
      ]
     },
     "execution_count": 50,
     "metadata": {
      "tags": []
     },
     "output_type": "execute_result"
    }
   ],
   "source": [
    "model.get_weights()"
   ]
  },
  {
   "cell_type": "code",
   "execution_count": 51,
   "metadata": {
    "colab": {
     "base_uri": "https://localhost:8080/",
     "height": 193
    },
    "colab_type": "code",
    "id": "AOvhSFxXhlXs",
    "outputId": "187e82ac-bf16-48b4-ec65-b99e60c102c7"
   },
   "outputs": [
    {
     "name": "stdout",
     "output_type": "stream",
     "text": [
      "Model: \"sequential\"\n",
      "_________________________________________________________________\n",
      "Layer (type)                 Output Shape              Param #   \n",
      "=================================================================\n",
      "dense (Dense)                (None, 3)                 15        \n",
      "=================================================================\n",
      "Total params: 15\n",
      "Trainable params: 15\n",
      "Non-trainable params: 0\n",
      "_________________________________________________________________\n"
     ]
    }
   ],
   "source": [
    "model.summary()"
   ]
  },
  {
   "cell_type": "markdown",
   "metadata": {
    "colab_type": "text",
    "id": "y-SgSSdRcih5"
   },
   "source": [
    "### Model Prediction"
   ]
  },
  {
   "cell_type": "code",
   "execution_count": 52,
   "metadata": {
    "colab": {
     "base_uri": "https://localhost:8080/",
     "height": 52
    },
    "colab_type": "code",
    "id": "GBgKZkhkcih6",
    "outputId": "3486c30c-f051-433a-c313-7fdb771478bf"
   },
   "outputs": [
    {
     "name": "stdout",
     "output_type": "stream",
     "text": [
      "WARNING:tensorflow:Falling back from v2 loop because of error: Failed to find data adapter that can handle input: <class 'pandas.core.frame.DataFrame'>, <class 'NoneType'>\n"
     ]
    },
    {
     "data": {
      "text/plain": [
       "array([[0.17857409, 0.4018982 , 0.41952774]], dtype=float32)"
      ]
     },
     "execution_count": 52,
     "metadata": {
      "tags": []
     },
     "output_type": "execute_result"
    }
   ],
   "source": [
    "model.predict(X_test[0:1])"
   ]
  },
  {
   "cell_type": "markdown",
   "metadata": {
    "colab_type": "text",
    "id": "P32ASP1Vjt0a"
   },
   "source": [
    "### Save the Model"
   ]
  },
  {
   "cell_type": "code",
   "execution_count": 0,
   "metadata": {
    "colab": {},
    "colab_type": "code",
    "id": "n8rd0jjAjyTR"
   },
   "outputs": [],
   "source": [
    "model.save('NeuralNetworks_Prices_IRIS.h5')"
   ]
  },
  {
   "cell_type": "markdown",
   "metadata": {
    "colab_type": "text",
    "id": "XiipRpe7rbVh"
   },
   "source": [
    "### Build and Train a Deep Neural network with 2 hidden layer  - Optional - For Practice\n",
    "\n",
    "Does it perform better than Linear Classifier? What could be the reason for difference in performance?"
   ]
  },
  {
   "cell_type": "code",
   "execution_count": 0,
   "metadata": {
    "colab": {},
    "colab_type": "code",
    "id": "v5Du3lubr4sA"
   },
   "outputs": [],
   "source": []
  }
 ],
 "metadata": {
  "accelerator": "GPU",
  "colab": {
   "name": "R6_Internal_Lab_UpdatedTF2_Prices_Iris-3.ipynb",
   "provenance": []
  },
  "kernelspec": {
   "display_name": "Python 3",
   "language": "python",
   "name": "python3"
  },
  "language_info": {
   "codemirror_mode": {
    "name": "ipython",
    "version": 3
   },
   "file_extension": ".py",
   "mimetype": "text/x-python",
   "name": "python",
   "nbconvert_exporter": "python",
   "pygments_lexer": "ipython3",
   "version": "3.7.3"
  }
 },
 "nbformat": 4,
 "nbformat_minor": 1
}

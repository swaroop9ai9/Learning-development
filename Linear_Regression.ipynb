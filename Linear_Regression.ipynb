{
  "nbformat": 4,
  "nbformat_minor": 0,
  "metadata": {
    "colab": {
      "name": "Linear_Regression.ipynb",
      "provenance": [],
      "collapsed_sections": []
    },
    "kernelspec": {
      "name": "python3",
      "display_name": "Python 3"
    }
  },
  "cells": [
    {
      "cell_type": "code",
      "metadata": {
        "id": "_8dZmzVx47Fl",
        "colab_type": "code",
        "outputId": "660dc809-958d-4d08-dd52-ab509601fdf5",
        "colab": {
          "base_uri": "https://localhost:8080/",
          "height": 91
        }
      },
      "source": [
        "# We will learn the theory of Linear Regression and partly Model Validation & Hyperparameter tunning. \n",
        "# Finally we will predict adjusted stock price of Amazon for 30 days using previous adjusted price. (Univariate linear Regression)\n",
        " \n",
        "%matplotlib inline\n",
        "import matplotlib.pyplot as plt\n",
        "import seaborn as sns; sns.set()\n",
        "import numpy as np"
      ],
      "execution_count": 39,
      "outputs": [
        {
          "output_type": "stream",
          "text": [
            "/usr/local/lib/python3.6/dist-packages/statsmodels/tools/_testing.py:19: FutureWarning: pandas.util.testing is deprecated. Use the functions in the public API at pandas.testing instead.\n",
            "  import pandas.util.testing as tm\n"
          ],
          "name": "stderr"
        }
      ]
    },
    {
      "cell_type": "code",
      "metadata": {
        "id": "r63YNu3QLYta",
        "colab_type": "code",
        "outputId": "59bc3e79-43bf-44e4-cea6-a9dd1e7f7b9f",
        "colab": {
          "base_uri": "https://localhost:8080/",
          "height": 268
        }
      },
      "source": [
        "# y = a*x + b, is the simplest form of linear regression\n",
        "rng = np.random.RandomState(1)\n",
        "x = 10 * rng.rand(50)\n",
        "y = 2 * x - 5 + rng.randn(50)\n",
        "plt.scatter(x, y);"
      ],
      "execution_count": 0,
      "outputs": [
        {
          "output_type": "display_data",
          "data": {
            "image/png": "[encoded data removed]",
            "text/plain": [
              "<Figure size 432x288 with 1 Axes>"
            ]
          },
          "metadata": {
            "tags": [],
            "needs_background": "light"
          }
        }
      ]
    },
    {
      "cell_type": "code",
      "metadata": {
        "id": "uogrZin3LiRO",
        "colab_type": "code",
        "outputId": "1cd95cce-65c0-4948-c950-b15893b97864",
        "colab": {
          "base_uri": "https://localhost:8080/",
          "height": 268
        }
      },
      "source": [
        "from sklearn.linear_model import LinearRegression\n",
        "model = LinearRegression(fit_intercept=True)\n",
        "\n",
        "model.fit(x[:, np.newaxis], y)\n",
        "\n",
        "xfit = np.linspace(0, 10, 1000)\n",
        "yfit = model.predict(xfit[:, np.newaxis])\n",
        "\n",
        "plt.scatter(x, y)\n",
        "plt.plot(xfit, yfit);"
      ],
      "execution_count": 0,
      "outputs": [
        {
          "output_type": "display_data",
          "data": {
            "image/png": "[encoded data removed]",
            "text/plain": [
              "<Figure size 432x288 with 1 Axes>"
            ]
          },
          "metadata": {
            "tags": [],
            "needs_background": "light"
          }
        }
      ]
    },
    {
      "cell_type": "code",
      "metadata": {
        "id": "S2rzXbdDLuyn",
        "colab_type": "code",
        "outputId": "f6c84d26-845a-41f4-e0c1-660657cb1614",
        "colab": {
          "base_uri": "https://localhost:8080/",
          "height": 51
        }
      },
      "source": [
        "# Slope and Intercept are model's fit parameters\n",
        "print(\"Model slope:    \", model.coef_[0])\n",
        "print(\"Model intercept:\", model.intercept_)"
      ],
      "execution_count": 0,
      "outputs": [
        {
          "output_type": "stream",
          "text": [
            "Model slope:     2.0272088103606953\n",
            "Model intercept: -4.998577085553204\n"
          ],
          "name": "stdout"
        }
      ]
    },
    {
      "cell_type": "code",
      "metadata": {
        "id": "NBRUmpp4L6SX",
        "colab_type": "code",
        "outputId": "f118203a-6a80-46da-e46d-be3da844bff3",
        "colab": {
          "base_uri": "https://localhost:8080/",
          "height": 51
        }
      },
      "source": [
        "# We can scale linear Regression to many dimensions, In a multi dimensional space we can use \"Hyperplane\" to predict the target variable\n",
        "rng = np.random.RandomState(1)\n",
        "X = 10 * rng.rand(100, 3)\n",
        "y = 0.5 + np.dot(X, [1.5, -2., 1.])\n",
        "# Y is being modelled from 3 X variables\n",
        "model.fit(X, y)\n",
        "print(model.intercept_)\n",
        "print(model.coef_)"
      ],
      "execution_count": 0,
      "outputs": [
        {
          "output_type": "stream",
          "text": [
            "0.50000000000001\n",
            "[ 1.5 -2.   1. ]\n"
          ],
          "name": "stdout"
        }
      ]
    },
    {
      "cell_type": "code",
      "metadata": {
        "id": "aSwN3HMsMY_K",
        "colab_type": "code",
        "colab": {}
      },
      "source": [
        "# Model Validation Using Holdout Technique\n",
        "\n",
        "''' We need to do model validation using holdout sets, we hold back some subset of the data from the training of the model, \n",
        "and then use this holdout set to check the model performance. This splitting can be done using the train_test_split utility in\n",
        " Scikit-Learn: (Example code)\n",
        "\n",
        "from sklearn.cross_validation import train_test_split\n",
        "# split the data with 50% in each set\n",
        "X1, X2, y1, y2 = train_test_split(X, y, random_state=0,\n",
        "                                  train_size=0.5)\n",
        "\n",
        "# fit the model on one set of data\n",
        "model.fit(X1, y1)\n",
        "\n",
        "# evaluate the model on the second set of data\n",
        "y2_model = model.predict(X2) # Predicting the holdout data using the model\n",
        "accuracy_score(y2, y2_model) # Checking the accuracy score b/w predicted and actual lables of holdout data.\n",
        "'''\n",
        "# One disadvantage in holding data is it maybe reduce the amount of available data.This is not optimal, and can\n",
        "# cause problems – especially if the initial set of training data is small.\n",
        "\n",
        "# Model Validation using Cross Validation technique.\n",
        "'''\n",
        "One way to address this is to use cross-validation; that is, to do a sequence of fits where each subset of the data is used both \n",
        "as a training set and as a validation set. Visually, it might look something like this:\n",
        "\n",
        "trail 1 : 50% Training, 50% Validation\n",
        "trail 2 : 50% Validation, 50% Training\n",
        "\n",
        "y2_model = model.fit(X1, y1).predict(X2) # We are using model to fit both parts of data and validate it both ways.\n",
        "y1_model = model.fit(X2, y2).predict(X1)\n",
        "accuracy_score(y1, y1_model), accuracy_score(y2, y2_model) # We can combine these accuracies to observe global performance.\n",
        "# We can use 2fold (like above), or 5fold cross validation technique.\n",
        "\n",
        "from sklearn.cross_validation import cross_val_score\n",
        "cross_val_score(model, X, y, cv=5)\n",
        "\n",
        "#Repeating the validation across different subsets of the data gives us an even better idea of the performance of the algorithm.\n",
        "\n",
        "'''\n",
        "# Cross Validation using leave-one-out Method\n",
        "'''\n",
        "scikit-Learn implements a number of useful cross-validation schemes that are useful in particular situations; these are implemented via \n",
        "iterators in the cross_validation module. For example, we might wish to go to the extreme case in which our number of folds is equal to \n",
        "the number of data points: that is, we train on all points but one in each trial. This type of cross-validation is known as \n",
        "leave-one-out cross validation.\n",
        "\n",
        "from sklearn.cross_validation import LeaveOneOut\n",
        "scores = cross_val_score(model, X, y, cv=LeaveOneOut(len(X)))'''\n"
      ],
      "execution_count": 0,
      "outputs": []
    },
    {
      "cell_type": "code",
      "metadata": {
        "id": "vXdjgHahvv8E",
        "colab_type": "code",
        "outputId": "db6cc6d5-40cc-4f06-9d0f-982304b60eb3",
        "colab": {
          "base_uri": "https://localhost:8080/",
          "height": 74
        }
      },
      "source": [
        "# Model Selection \n",
        "'''\n",
        "Sometimes using a simple model yields better results than a complex model. Reducing unimportant parameters also helps very much it creating an efficient model\n",
        "'''\n",
        "# Bias-Varience Tradeoff\n",
        "'''\n",
        "  High Bias - Underfits the model (Performance on Training is similar to Test data)\n",
        "  High Varience - Overfits the model (Captures a lot of noise), (Performace of traning is far better than test data)\n",
        "'''\n",
        "# The score here is the  𝑅2  score, or coefficient of determination, which measures how well a model performs relative to a simple mean\n",
        "# of the target values.\n",
        "''' \n",
        "  sqr(R) = 1, perfect model\n",
        "  sqr(R) = 0, Means the model does no better than simply taking the mean of the data.\n",
        "A best model usually will perform optimally when the complexity of the model is medium and the accuracy is at its peak, but is the model \n",
        "has too high bias then it will underfit and be very generalized'''\n",
        "\n",
        "# Validation Curve for deciding on the model\n",
        "'''\n",
        "from sklearn.learning_curve import validation_curve\n",
        "degree = np.arange(0, 21)\n",
        "train_score, val_score = validation_curve(PolynomialRegression(), X, y,\n",
        "                                          'polynomialfeatures__degree', degree, cv=7)\n",
        "\n",
        "plt.plot(degree, np.median(train_score, 1), color='blue', label='training score')\n",
        "plt.plot(degree, np.median(val_score, 1), color='red', label='validation score')\n",
        "plt.legend(loc='best')\n",
        "plt.ylim(0, 1)\n",
        "plt.xlabel('degree')\n",
        "plt.ylabel('score');  '''\n",
        "\n",
        "# Learning Curve General Behavior\n",
        "# * A model of a given complexity will overfit a small dataset: this means the training score will be relatively high, \n",
        "#       while the validation score will be relatively low.\n",
        "# * A model of a given complexity will underfit a large dataset: this means that the training score\n",
        "#       will decrease, but the validation score will increase.\n",
        "# * A model will never, except by chance, give a better score to the validation set than the training set: \n",
        "#        this means the curves should keep getting closer together but never cross.\n",
        "\n",
        "''' This is a valuable diagnostic, because it gives us a visual depiction of how our model responds to increasing training data. \n",
        "In particular, when your learning curve has already converged (i.e., when the training and validation curves are already close \n",
        "to each other) adding more training data will not significantly improve the fit! This situation is seen in the left panel, with the \n",
        "learning curve for the degree-2 model.'''\n",
        "\n",
        "'''\n",
        "The only way to increase the converged score is to use a different (usually more complicated) model. We see this in the right panel: \n",
        "by moving to a much more complicated model, we increase the score of convergence (indicated by the dashed line), but at the expense \n",
        "of higher model variance (indicated by the difference between the training and validation scores). If we were to add even more data \n",
        "points, the learning curve for the more complicated model would eventually converge.\n",
        "'''\n",
        "\n",
        "# Validation in practice\n",
        "'''\n",
        "In practice, models generally have more than one knob to turn, and thus plots of validation and learning curves change from lines to\n",
        " multi-dimensional surfaces. In these cases, such visualizations are difficult and we would rather simply find the particular model \n",
        " that maximizes the validation score.\n",
        "\n",
        "Scikit-Learn provides automated tools to do this in the grid search module. \n",
        "\n",
        "from sklearn.grid_search import GridSearchCV\n",
        "\n",
        "param_grid = {'polynomialfeatures__degree': np.arange(21),\n",
        "              'linearregression__fit_intercept': [True, False],\n",
        "              'linearregression__normalize': [True, False]}\n",
        "\n",
        "grid = GridSearchCV(PolynomialRegression(), param_grid, cv=7)\n",
        "grid.fit(X, y);\n",
        "grid.best_params_'''\n"
      ],
      "execution_count": 0,
      "outputs": [
        {
          "output_type": "execute_result",
          "data": {
            "text/plain": [
              "\"\\nIn practice, models generally have more than one knob to turn, and thus plots of validation and learning curves change from lines to\\n multi-dimensional surfaces. In these cases, such visualizations are difficult and we would rather simply find the particular model \\n that maximizes the validation score.\\n\\nScikit-Learn provides automated tools to do this in the grid search module. \\n\\nfrom sklearn.grid_search import GridSearchCV\\n\\nparam_grid = {'polynomialfeatures__degree': np.arange(21),\\n              'linearregression__fit_intercept': [True, False],\\n              'linearregression__normalize': [True, False]}\\n\\ngrid = GridSearchCV(PolynomialRegression(), param_grid, cv=7)\\ngrid.fit(X, y);\\ngrid.best_params_\""
            ]
          },
          "metadata": {
            "tags": []
          },
          "execution_count": 2
        }
      ]
    },
    {
      "cell_type": "code",
      "metadata": {
        "id": "EjvUxIov2A-_",
        "colab_type": "code",
        "outputId": "85b2a918-dd85-413d-ef1a-39a1455f0d12",
        "colab": {
          "base_uri": "https://localhost:8080/",
          "height": 54
        }
      },
      "source": [
        "# Feature Engineering\n",
        "'''\n",
        "Real World data is very messy, its not very welcoming at first sight, so we use feature engineering techiniques to make our model efficient and efficient\n",
        "We usually build our feature matrix, lets understand feature engineering for different aspect of data.'''\n",
        "\n",
        "#  1) Categorical Data\n",
        "# Consider data of house pricing and we have neighbourhood data which is categorical\n",
        "# Inorder to effectively represent the categorical data mathematically, we can use One-hot Encoding, which create additional columns\n",
        "# It indicate the presence or absence of a category by encoding it with 1 or 0\n",
        "'''\n",
        "  data = [\n",
        "    {'price': 850000, 'rooms': 4, 'neighborhood': 'Queen Anne'},\n",
        "    {'price': 700000, 'rooms': 3, 'neighborhood': 'Fremont'},\n",
        "    {'price': 650000, 'rooms': 3, 'neighborhood': 'Wallingford'},\n",
        "    {'price': 600000, 'rooms': 2, 'neighborhood': 'Fremont'}\n",
        "] '''\n",
        "# When data comes as dictionary datatype, we can use DictVectorizer to apply one-hot encoding\n",
        "'''from sklearn.feature_extraction import DictVectorizer\n",
        "vec = DictVectorizer(sparse=False, dtype=int)\n",
        "vec.fit_transform(data) '''\n",
        "\n",
        "''' O/P :\n",
        "array([[     0,      1,      0, 850000,      4],\n",
        "       [     1,      0,      0, 700000,      3],\n",
        "       [     0,      0,      1, 650000,      3],\n",
        "       [     1,      0,      0, 600000,      2]], dtype=int64)  \n",
        "  \n",
        "Notice that the 'neighborhood' column has been expanded into three separate columns, representing the three neighborhood labels,\n",
        "and that each row has a 1 in the column associated with its neighborhood. With these categorical features thus encoded,\n",
        "you can proceed as normal with fitting a Scikit-Learn model.'''\n",
        "\n",
        "# To get the names of actual features:\n",
        "# vec.get_feature_names()\n",
        "# Although it looks exhausting, we can use sparse option as majority of it has zeroes\n",
        "'''\n",
        "vec = DictVectorizer(sparse=True, dtype=int)\n",
        "vec.fit_transform(data) # We can use 'One hot Encoder' or 'Feature Hasher' to handle feature data '''\n",
        "\n",
        " \n",
        "# 2) Textual Data\n",
        "# The simplest Idea to convert text data to numerical data is to bucket each word into its word counts\n",
        "'''\n",
        "sample = ['problem of evil',\n",
        "          'evil queen',\n",
        "          'horizon problem']\n",
        "# We can use CountVectorizer to convert the above sample text in to buckets\n",
        "from sklearn.feature_extraction.text import CountVectorizer\n",
        "\n",
        "vec = CountVectorizer()\n",
        "X = vec.fit_transform(sample)\n",
        "import pandas as pd\n",
        "pd.DataFrame(X.toarray(), columns=vec.get_feature_names())\n",
        "\n",
        "Output:   \n",
        "    evil\thorizon\tof\tproblem\tqueen\n",
        "0\t    1\t    0\t     1\t  1\t      0\n",
        "1\t    1\t    0\t     0\t  0\t      1\n",
        "2\t    0\t    1\t     0\t  1\t      0\n",
        "\n",
        "There are some issues with this approach, however: the raw word counts lead to features which put too much weight on words that \n",
        "appear very frequently, and this can be sub-optimal in some classification algorithms. One approach to fix this is known as \n",
        "term frequency-inverse document frequency (TF–IDF) which weights the word counts by a measure of how often they appear in the documents. \n",
        "'''\n",
        "# Term-Frequency-Inverse-Document-Frequency (TF-IDF)\n",
        "'''\n",
        "from sklearn.feature_extraction.text import TfidfVectorizer\n",
        "vec = TfidfVectorizer()\n",
        "X = vec.fit_transform(sample)\n",
        "pd.DataFrame(X.toarray(), columns=vec.get_feature_names())\n",
        "'''\n",
        "\n",
        "# Image Features\n",
        "# Usually the best ideal way is to perform computations on Pixel Values, But depending on the application this approach might not be optimal\n",
        "\n",
        "# Derived Features\n",
        "# Usually converting polynomial features by transforming the input\n",
        "'''%matplotlib inline\n",
        "import numpy as np\n",
        "import matplotlib.pyplot as plt\n",
        "\n",
        "x = np.array([1, 2, 3, 4, 5])\n",
        "y = np.array([4, 2, 1, 3, 7])\n",
        "plt.scatter(x, y);'''\n",
        "\n",
        "# Fitting it to linear regression \n",
        "'''\n",
        "from sklearn.linear_model import LinearRegression\n",
        "X = x[:, np.newaxis]\n",
        "model = LinearRegression().fit(X, y)\n",
        "yfit = model.predict(X)\n",
        "plt.scatter(x, y)\n",
        "plt.plot(x, yfit);  '''\n",
        "\n",
        "# Insearch for a more sophisticated model we can add extra column with polynomial features of input data\n",
        "'''\n",
        "from sklearn.preprocessing import PolynomialFeatures\n",
        "poly = PolynomialFeatures(degree=3, include_bias=False)\n",
        "X2 = poly.fit_transform(X)\n",
        "print(X2)\n",
        "\n",
        "model = LinearRegression().fit(X2, y)\n",
        "yfit = model.predict(X2)\n",
        "plt.scatter(x, y)\n",
        "plt.plot(x, yfit);\n",
        "'''\n"
      ],
      "execution_count": 0,
      "outputs": [
        {
          "output_type": "execute_result",
          "data": {
            "text/plain": [
              "'\\nfrom sklearn.preprocessing import PolynomialFeatures\\npoly = PolynomialFeatures(degree=3, include_bias=False)\\nX2 = poly.fit_transform(X)\\nprint(X2)\\n\\nmodel = LinearRegression().fit(X2, y)\\nyfit = model.predict(X2)\\nplt.scatter(x, y)\\nplt.plot(x, yfit);\\n'"
            ]
          },
          "metadata": {
            "tags": []
          },
          "execution_count": 3
        }
      ]
    },
    {
      "cell_type": "code",
      "metadata": {
        "id": "9qlBDCyA8GCI",
        "colab_type": "code",
        "colab": {}
      },
      "source": [
        "# Imputting Missing data using Feature Engineering\n",
        "from numpy import nan\n",
        "import numpy as np\n",
        "X = np.array([[ nan, 0,   3  ],\n",
        "              [ 3,   7,   9  ],\n",
        "              [ 3,   5,   2  ],\n",
        "              [ 4,   nan, 6  ],\n",
        "              [ 8,   8,   1  ]])\n",
        "y = np.array([14, 16, -1,  8, -5])"
      ],
      "execution_count": 0,
      "outputs": []
    },
    {
      "cell_type": "code",
      "metadata": {
        "id": "QhInWsv98OIU",
        "colab_type": "code",
        "outputId": "f9adc911-ca5a-47d9-b782-44255260197a",
        "colab": {
          "base_uri": "https://localhost:8080/",
          "height": 34
        }
      },
      "source": [
        "# We can replace these missing values by simply replacing it with mean of the column or use more sophisticated approach of using domain \n",
        "# knowledge to replace the missing data\n",
        "# Inorder to impute mean, median, mode we can use 'Imputer' class\n",
        "'''\n",
        "from sklearn.preprocessing import Imputer\n",
        "imp = Imputer(strategy='mean')\n",
        "X2 = imp.fit_transform(X)\n",
        "X2'''"
      ],
      "execution_count": 0,
      "outputs": [
        {
          "output_type": "execute_result",
          "data": {
            "text/plain": [
              "\"\\nfrom sklearn.preprocessing import Imputer\\nimp = Imputer(strategy='mean')\\nX2 = imp.fit_transform(X)\\nX2\""
            ]
          },
          "metadata": {
            "tags": []
          },
          "execution_count": 4
        }
      ]
    },
    {
      "cell_type": "code",
      "metadata": {
        "id": "95vnpbbG860H",
        "colab_type": "code",
        "outputId": "3b3f7e44-9e8a-4bef-f2a4-56c1172e54c9",
        "colab": {
          "base_uri": "https://localhost:8080/",
          "height": 74
        }
      },
      "source": [
        "# It seems very tedious task to replace the missing values or perform feature engineering by hand, so in order to streamline such process\n",
        "# we can use a processing pipeline for such tasks \n",
        "'''\n",
        "from sklearn.pipeline import make_pipeline\n",
        "\n",
        "model = make_pipeline(Imputer(strategy='mean'),\n",
        "                      PolynomialFeatures(degree=2),\n",
        "                      LinearRegression())\n",
        "model.fit(X, y)  # X with missing values, from above\n",
        "print(y)\n",
        "print(model.predict(X))'''"
      ],
      "execution_count": 0,
      "outputs": [
        {
          "output_type": "execute_result",
          "data": {
            "text/plain": [
              "\"\\nfrom sklearn.pipeline import make_pipeline\\n\\nmodel = make_pipeline(Imputer(strategy='mean'),\\n                      PolynomialFeatures(degree=2),\\n                      LinearRegression())\\nmodel.fit(X, y)  # X with missing values, from above\\nprint(y)\\nprint(model.predict(X))\""
            ]
          },
          "metadata": {
            "tags": []
          },
          "execution_count": 5
        }
      ]
    },
    {
      "cell_type": "code",
      "metadata": {
        "id": "DchAeMwP-BOF",
        "colab_type": "code",
        "outputId": "815068bf-e4b5-4921-8c50-bfaed24f53a3",
        "colab": {
          "base_uri": "https://localhost:8080/",
          "height": 74
        }
      },
      "source": [
        "# Gaussian Basic Functions\n",
        "# one useful pattern is to fit a model that is not a sum of polynomial bases, but a sum of Gaussian bases. ( Adding the bases of normal distributions and combining them)\n",
        "'''from sklearn.base import BaseEstimator, TransformerMixin\n",
        "\n",
        "class GaussianFeatures(BaseEstimator, TransformerMixin):\n",
        "    \"\"\"Uniformly spaced Gaussian features for one-dimensional input\"\"\"\n",
        "    \n",
        "    def __init__(self, N, width_factor=2.0):\n",
        "        self.N = N\n",
        "        self.width_factor = width_factor\n",
        "    \n",
        "    @staticmethod\n",
        "    def _gauss_basis(x, y, width, axis=None):\n",
        "        arg = (x - y) / width\n",
        "        return np.exp(-0.5 * np.sum(arg ** 2, axis))\n",
        "        \n",
        "    def fit(self, X, y=None):\n",
        "        # create N centers spread along the data range\n",
        "        self.centers_ = np.linspace(X.min(), X.max(), self.N)\n",
        "        self.width_ = self.width_factor * (self.centers_[1] - self.centers_[0])\n",
        "        return self\n",
        "        \n",
        "    def transform(self, X):\n",
        "        return self._gauss_basis(X[:, :, np.newaxis], self.centers_,\n",
        "                                 self.width_, axis=1)\n",
        "    \n",
        "gauss_model = make_pipeline(GaussianFeatures(20),\n",
        "                            LinearRegression())\n",
        "gauss_model.fit(x[:, np.newaxis], y)\n",
        "yfit = gauss_model.predict(xfit[:, np.newaxis])\n",
        "\n",
        "plt.scatter(x, y)\n",
        "plt.plot(xfit, yfit)\n",
        "plt.xlim(0, 10);'''"
      ],
      "execution_count": 0,
      "outputs": [
        {
          "output_type": "execute_result",
          "data": {
            "text/plain": [
              "'from sklearn.base import BaseEstimator, TransformerMixin\\n\\nclass GaussianFeatures(BaseEstimator, TransformerMixin):\\n    \"\"\"Uniformly spaced Gaussian features for one-dimensional input\"\"\"\\n    \\n    def __init__(self, N, width_factor=2.0):\\n        self.N = N\\n        self.width_factor = width_factor\\n    \\n    @staticmethod\\n    def _gauss_basis(x, y, width, axis=None):\\n        arg = (x - y) / width\\n        return np.exp(-0.5 * np.sum(arg ** 2, axis))\\n        \\n    def fit(self, X, y=None):\\n        # create N centers spread along the data range\\n        self.centers_ = np.linspace(X.min(), X.max(), self.N)\\n        self.width_ = self.width_factor * (self.centers_[1] - self.centers_[0])\\n        return self\\n        \\n    def transform(self, X):\\n        return self._gauss_basis(X[:, :, np.newaxis], self.centers_,\\n                                 self.width_, axis=1)\\n    \\ngauss_model = make_pipeline(GaussianFeatures(20),\\n                            LinearRegression())\\ngauss_model.fit(x[:, np.newaxis], y)\\nyfit = gauss_model.predict(xfit[:, np.newaxis])\\n\\nplt.scatter(x, y)\\nplt.plot(xfit, yfit)\\nplt.xlim(0, 10);'"
            ]
          },
          "metadata": {
            "tags": []
          },
          "execution_count": 7
        }
      ]
    },
    {
      "cell_type": "code",
      "metadata": {
        "id": "r44c-lKj_LPA",
        "colab_type": "code",
        "outputId": "1f8c4bc9-9bc3-44a1-b12f-69c87c61a567",
        "colab": {
          "base_uri": "https://localhost:8080/",
          "height": 54
        }
      },
      "source": [
        "# Regularization \n",
        "# Sometimes basic functions can also overfit the data, ex: too many gaussian bases might also overfit the data\n",
        "'''model = make_pipeline(GaussianFeatures(30),\n",
        "                      LinearRegression())\n",
        "model.fit(x[:, np.newaxis], y)\n",
        "\n",
        "plt.scatter(x, y)\n",
        "plt.plot(xfit, model.predict(xfit[:, np.newaxis]))\n",
        "\n",
        "plt.xlim(0, 10)\n",
        "plt.ylim(-1.5, 1.5);'''\n",
        "\n",
        "'''\n",
        "# Basis_polt gives the deviation of curve from reality or amplitude of basis function at each location\n",
        "def basis_plot(model, title=None):\n",
        "    fig, ax = plt.subplots(2, sharex=True)\n",
        "    model.fit(x[:, np.newaxis], y)\n",
        "    ax[0].scatter(x, y)\n",
        "    ax[0].plot(xfit, model.predict(xfit[:, np.newaxis]))\n",
        "    ax[0].set(xlabel='x', ylabel='y', ylim=(-1.5, 1.5))\n",
        "    \n",
        "    if title:\n",
        "        ax[0].set_title(title)\n",
        "\n",
        "    ax[1].plot(model.steps[0][1].centers_,\n",
        "               model.steps[1][1].coef_)\n",
        "    ax[1].set(xlabel='basis location',\n",
        "              ylabel='coefficient',\n",
        "              xlim=(0, 10))\n",
        "    \n",
        "model = make_pipeline(GaussianFeatures(30), LinearRegression())\n",
        "basis_plot(model) '''"
      ],
      "execution_count": 0,
      "outputs": [
        {
          "output_type": "execute_result",
          "data": {
            "text/plain": [
              "\"\\n# Basis_polt gives the deviation of curve from reality or amplitude of basis function at each location\\ndef basis_plot(model, title=None):\\n    fig, ax = plt.subplots(2, sharex=True)\\n    model.fit(x[:, np.newaxis], y)\\n    ax[0].scatter(x, y)\\n    ax[0].plot(xfit, model.predict(xfit[:, np.newaxis]))\\n    ax[0].set(xlabel='x', ylabel='y', ylim=(-1.5, 1.5))\\n    \\n    if title:\\n        ax[0].set_title(title)\\n\\n    ax[1].plot(model.steps[0][1].centers_,\\n               model.steps[1][1].coef_)\\n    ax[1].set(xlabel='basis location',\\n              ylabel='coefficient',\\n              xlim=(0, 10))\\n    \\nmodel = make_pipeline(GaussianFeatures(30), LinearRegression())\\nbasis_plot(model) \""
            ]
          },
          "metadata": {
            "tags": []
          },
          "execution_count": 8
        }
      ]
    },
    {
      "cell_type": "code",
      "metadata": {
        "id": "bv2AnmSkVTs-",
        "colab_type": "code",
        "outputId": "b0e154bd-9b6f-4f58-e58f-cecf7c37f6ab",
        "colab": {
          "base_uri": "https://localhost:8080/",
          "height": 54
        }
      },
      "source": [
        "# Ridge regression ( 𝐿2  Regularization)\n",
        "'''\n",
        "Perhaps the most common form of regularization is known as ridge regression or  𝐿2  regularization, sometimes also called Tikhonov \n",
        "regularization. This proceeds by penalizing the sum of squares (2-norms) of the model coefficients; in this case, the penalty on the \n",
        "model fit would be\n",
        "                      𝑃=𝛼 ∑ sqr(𝜃) (from n=1 to N)\n",
        "\n",
        "where 𝛼 is a free parameter that controls the strength of the penalty. This type of penalized model is built into Scikit-Learn with the Ridge estimator:\n",
        "\n",
        "from sklearn.linear_model import Ridge\n",
        "model = make_pipeline(GaussianFeatures(30), Ridge(alpha=0.1))\n",
        "basis_plot(model, title='Ridge Regression') '''\n",
        "\n",
        "# 𝛼 Parameter\n",
        "''' \n",
        "The  𝛼  parameter is essentially a knob controlling the complexity of the resulting model.\n",
        "In the limit  𝛼→0 , we recover the standard linear regression result; in the limit  𝛼→∞ , all model responses will be suppressed.\n",
        "One advantage of ridge regression in particular is that it can be computed very efficiently—at hardly more computational cost \n",
        "than the original linear regression model.  '''\n"
      ],
      "execution_count": 0,
      "outputs": [
        {
          "output_type": "execute_result",
          "data": {
            "text/plain": [
              "' \\nThe  𝛼  parameter is essentially a knob controlling the complexity of the resulting model.\\nIn the limit  𝛼→0 , we recover the standard linear regression result; in the limit  𝛼→∞ , all model responses will be suppressed.\\nOne advantage of ridge regression in particular is that it can be computed very efficiently—at hardly more computational cost \\nthan the original linear regression model.  '"
            ]
          },
          "metadata": {
            "tags": []
          },
          "execution_count": 9
        }
      ]
    },
    {
      "cell_type": "code",
      "metadata": {
        "id": "u4Ez6vX2V-3z",
        "colab_type": "code",
        "outputId": "e619fb7f-5df1-431b-b56b-d1383525e940",
        "colab": {
          "base_uri": "https://localhost:8080/",
          "height": 74
        }
      },
      "source": [
        "# Lasso regression ( 𝐿1  regularization)\n",
        "'''\n",
        "Another very common type of regularization is known as lasso, and involves penalizing the sum of absolute values (1-norms) of regression coefficients:\n",
        "        \n",
        "                                  𝑃=𝛼 ∑ |𝜃𝑛|  (from n=1 to N)\n",
        "Though this is conceptually very similar to ridge regression, the results can differ surprisingly: \n",
        "for example, due to geometric reasons lasso regression tends to favor sparse models where possible: that is, it preferentially sets model coefficients to exactly zero.\n",
        "\n",
        "from sklearn.linear_model import Lasso\n",
        "model = make_pipeline(GaussianFeatures(30), Lasso(alpha=0.001))\n",
        "basis_plot(model, title='Lasso Regression')\n",
        "\n",
        "With the lasso regression penalty, the majority of the coefficients are exactly zero, with the functional behavior being modeled \n",
        "by a small subset of the available basis functions. As with ridge regularization, the  𝛼  parameter tunes the strength of the \n",
        "penalty, and should be determined via, for example, cross-validation.'''\n",
        "\n"
      ],
      "execution_count": 21,
      "outputs": [
        {
          "output_type": "execute_result",
          "data": {
            "text/plain": [
              "\"\\nAnother very common type of regularization is known as lasso, and involves penalizing the sum of absolute values (1-norms) of regression coefficients:\\n        \\n                                  𝑃=𝛼 ∑ |𝜃𝑛|  (from n=1 to N)\\nThough this is conceptually very similar to ridge regression, the results can differ surprisingly: \\nfor example, due to geometric reasons lasso regression tends to favor sparse models where possible: that is, it preferentially sets model coefficients to exactly zero.\\n\\nfrom sklearn.linear_model import Lasso\\nmodel = make_pipeline(GaussianFeatures(30), Lasso(alpha=0.001))\\nbasis_plot(model, title='Lasso Regression')\\n\\nWith the lasso regression penalty, the majority of the coefficients are exactly zero, with the functional behavior being modeled \\nby a small subset of the available basis functions. As with ridge regularization, the  𝛼  parameter tunes the strength of the \\npenalty, and should be determined via, for example, cross-validation.\""
            ]
          },
          "metadata": {
            "tags": []
          },
          "execution_count": 21
        }
      ]
    },
    {
      "cell_type": "code",
      "metadata": {
        "id": "B1wydtCSYm5-",
        "colab_type": "code",
        "colab": {}
      },
      "source": [
        "# Predict the prices for stock 30 days by the current Adjusted Close price.\n",
        "#Install the dependencies\n",
        "#!pip3 install quandl\n",
        "import quandl\n",
        "import numpy as np \n",
        "from sklearn.linear_model import LinearRegression\n",
        "from sklearn.svm import SVR\n",
        "from sklearn.model_selection import train_test_split"
      ],
      "execution_count": 0,
      "outputs": []
    },
    {
      "cell_type": "code",
      "metadata": {
        "id": "yyAmwproZI7L",
        "colab_type": "code",
        "colab": {
          "base_uri": "https://localhost:8080/",
          "height": 170
        },
        "outputId": "75c3f56b-f13b-42a5-99df-98a889ad19dc"
      },
      "source": [
        "# Get the stock data\n",
        "df = quandl.get(\"WIKI/AMZN\")\n",
        "# Take a look at the data\n",
        "print(df.head())"
      ],
      "execution_count": 17,
      "outputs": [
        {
          "output_type": "stream",
          "text": [
            "             Open   High    Low  ...  Adj. Low  Adj. Close  Adj. Volume\n",
            "Date                             ...                                   \n",
            "1997-05-16  22.38  23.75  20.50  ...  1.708333    1.729167   14700000.0\n",
            "1997-05-19  20.50  21.25  19.50  ...  1.625000    1.708333    6106800.0\n",
            "1997-05-20  20.75  21.00  19.63  ...  1.635833    1.635833    5467200.0\n",
            "1997-05-21  19.25  19.75  16.50  ...  1.375000    1.427500   18853200.0\n",
            "1997-05-22  17.25  17.38  15.75  ...  1.312500    1.395833   11776800.0\n",
            "\n",
            "[5 rows x 12 columns]\n"
          ],
          "name": "stdout"
        }
      ]
    },
    {
      "cell_type": "code",
      "metadata": {
        "id": "IIoSapF3ZfHF",
        "colab_type": "code",
        "colab": {
          "base_uri": "https://localhost:8080/",
          "height": 425
        },
        "outputId": "7e38c30a-696f-40bb-c076-d2cc39ddc75c"
      },
      "source": [
        "# Lets use Adjusted Close column to predict the Adjusted close for the next 30 days\n",
        "# Get the Adjusted Close Price \n",
        "df = df[['Adj. Close']] \n",
        "# Take a look at the new data \n",
        "print(df.head(10))\n",
        "print(df.tail(10))"
      ],
      "execution_count": 27,
      "outputs": [
        {
          "output_type": "stream",
          "text": [
            "            Adj. Close\n",
            "Date                  \n",
            "1997-05-16    1.729167\n",
            "1997-05-19    1.708333\n",
            "1997-05-20    1.635833\n",
            "1997-05-21    1.427500\n",
            "1997-05-22    1.395833\n",
            "1997-05-23    1.500000\n",
            "1997-05-27    1.583333\n",
            "1997-05-28    1.531667\n",
            "1997-05-29    1.505000\n",
            "1997-05-30    1.500000\n",
            "            Adj. Close\n",
            "Date                  \n",
            "2018-03-14     1591.00\n",
            "2018-03-15     1582.32\n",
            "2018-03-16     1571.68\n",
            "2018-03-19     1544.93\n",
            "2018-03-20     1586.51\n",
            "2018-03-21     1581.86\n",
            "2018-03-22     1544.10\n",
            "2018-03-23     1495.56\n",
            "2018-03-26     1555.86\n",
            "2018-03-27     1497.05\n"
          ],
          "name": "stdout"
        }
      ]
    },
    {
      "cell_type": "code",
      "metadata": {
        "id": "lfW_fvRvZz4o",
        "colab_type": "code",
        "colab": {
          "base_uri": "https://localhost:8080/",
          "height": 646
        },
        "outputId": "296c5747-344b-423e-b520-32098073d3fd"
      },
      "source": [
        "# A variable for predicting 'n' days out into the future\n",
        "forecast_out = 30 #'n=30' days\n",
        "#Create another column (the target ) shifted 'n' units up\n",
        "df['Prediction'] = df[['Adj. Close']].shift(-forecast_out) # used to shift rows or columns data by certain number.\n",
        "#print the new data set\n",
        "print(df.tail(35)) # We can see that the prediction column has shifted by 30 spaces up and now has the Adj. Close values"
      ],
      "execution_count": 30,
      "outputs": [
        {
          "output_type": "stream",
          "text": [
            "            Adj. Close  Prediction\n",
            "Date                              \n",
            "2018-02-06     1442.84     1581.86\n",
            "2018-02-07     1416.78     1544.10\n",
            "2018-02-08     1350.47     1495.56\n",
            "2018-02-09     1338.99     1555.86\n",
            "2018-02-12     1386.23     1497.05\n",
            "2018-02-13     1414.51         NaN\n",
            "2018-02-14     1451.05         NaN\n",
            "2018-02-15     1461.76         NaN\n",
            "2018-02-16     1448.69         NaN\n",
            "2018-02-20     1468.35         NaN\n",
            "2018-02-21     1482.92         NaN\n",
            "2018-02-22     1484.76         NaN\n",
            "2018-02-23     1500.00         NaN\n",
            "2018-02-26     1521.95         NaN\n",
            "2018-02-27     1511.98         NaN\n",
            "2018-02-28     1512.45         NaN\n",
            "2018-03-01     1493.45         NaN\n",
            "2018-03-02     1500.25         NaN\n",
            "2018-03-05     1523.61         NaN\n",
            "2018-03-06     1537.64         NaN\n",
            "2018-03-07     1545.00         NaN\n",
            "2018-03-08     1551.86         NaN\n",
            "2018-03-09     1578.89         NaN\n",
            "2018-03-12     1598.39         NaN\n",
            "2018-03-13     1588.18         NaN\n",
            "2018-03-14     1591.00         NaN\n",
            "2018-03-15     1582.32         NaN\n",
            "2018-03-16     1571.68         NaN\n",
            "2018-03-19     1544.93         NaN\n",
            "2018-03-20     1586.51         NaN\n",
            "2018-03-21     1581.86         NaN\n",
            "2018-03-22     1544.10         NaN\n",
            "2018-03-23     1495.56         NaN\n",
            "2018-03-26     1555.86         NaN\n",
            "2018-03-27     1497.05         NaN\n"
          ],
          "name": "stdout"
        }
      ]
    },
    {
      "cell_type": "code",
      "metadata": {
        "id": "VKc2jS9uaRka",
        "colab_type": "code",
        "colab": {
          "base_uri": "https://localhost:8080/",
          "height": 136
        },
        "outputId": "a9355801-0bc6-4c3b-e919-1962d1001346"
      },
      "source": [
        "### Create the independent data set (X)  #######\n",
        "# Convert the dataframe to a numpy array\n",
        "X = np.array(df.drop(['Prediction'],1))\n",
        "#Remove the last '30' rows\n",
        "X = X[:-forecast_out]\n",
        "print(X) # We removed these 30 days to check if we are able to predict corretly for those 30 days"
      ],
      "execution_count": 25,
      "outputs": [
        {
          "output_type": "stream",
          "text": [
            "[[   1.72916667]\n",
            " [   1.70833333]\n",
            " [   1.63583333]\n",
            " ...\n",
            " [1350.47      ]\n",
            " [1338.99      ]\n",
            " [1386.23      ]]\n"
          ],
          "name": "stdout"
        }
      ]
    },
    {
      "cell_type": "code",
      "metadata": {
        "id": "6XLJ4nKebDsG",
        "colab_type": "code",
        "colab": {
          "base_uri": "https://localhost:8080/",
          "height": 51
        },
        "outputId": "bf835f9f-5706-40d0-d719-1f19f382144d"
      },
      "source": [
        "### Create the dependent data set (y)  #####\n",
        "# Convert the dataframe to a numpy array \n",
        "y = np.array(df['Prediction'])\n",
        "# Get all of the y values except the last '30' rows\n",
        "y = y[:-forecast_out] # In order to train the data, we have the target variable ready\n",
        "print(y)"
      ],
      "execution_count": 32,
      "outputs": [
        {
          "output_type": "stream",
          "text": [
            "[1.54166667e+00 1.51583333e+00 1.58833333e+00 ... 1.49556000e+03\n",
            " 1.55586000e+03 1.49705000e+03]\n"
          ],
          "name": "stdout"
        }
      ]
    },
    {
      "cell_type": "code",
      "metadata": {
        "id": "ou6-jp8sdPCc",
        "colab_type": "code",
        "colab": {}
      },
      "source": [
        "# Split the data into 80% training and 20% testing\n",
        "x_train, x_test, y_train, y_test = train_test_split(X, y, test_size=0.2)"
      ],
      "execution_count": 0,
      "outputs": []
    },
    {
      "cell_type": "code",
      "metadata": {
        "id": "o4FftJq-d9bL",
        "colab_type": "code",
        "colab": {
          "base_uri": "https://localhost:8080/",
          "height": 34
        },
        "outputId": "ca3ee023-d4f4-4c9f-e6df-352ed3d085d5"
      },
      "source": [
        "# Create and train the Linear Regression  Model\n",
        "lr = LinearRegression()\n",
        "# Train the model\n",
        "lr.fit(x_train, y_train)"
      ],
      "execution_count": 34,
      "outputs": [
        {
          "output_type": "execute_result",
          "data": {
            "text/plain": [
              "LinearRegression(copy_X=True, fit_intercept=True, n_jobs=None, normalize=False)"
            ]
          },
          "metadata": {
            "tags": []
          },
          "execution_count": 34
        }
      ]
    },
    {
      "cell_type": "code",
      "metadata": {
        "id": "oSVb-cpVeDcO",
        "colab_type": "code",
        "colab": {
          "base_uri": "https://localhost:8080/",
          "height": 34
        },
        "outputId": "fe6acf9b-9545-4e6f-808b-1cd48cec38c3"
      },
      "source": [
        "# Testing Model: Score returns the coefficient of determination R^2 of the prediction. \n",
        "# The best possible score is 1.0\n",
        "lr_confidence = lr.score(x_test, y_test)\n",
        "print(\"lr confidence: \", lr_confidence)"
      ],
      "execution_count": 35,
      "outputs": [
        {
          "output_type": "stream",
          "text": [
            "lr confidence:  0.9871644663794275\n"
          ],
          "name": "stdout"
        }
      ]
    },
    {
      "cell_type": "code",
      "metadata": {
        "id": "Z-aIfXGNeH6A",
        "colab_type": "code",
        "colab": {
          "base_uri": "https://localhost:8080/",
          "height": 527
        },
        "outputId": "f8d424f4-6fed-49ed-c33d-6e8b9ad5f4d8"
      },
      "source": [
        "# Set x_forecast equal to the last 30 rows of the original data set from Adj. Close column\n",
        "x_forecast = np.array(df.drop(['Prediction'],1))[-forecast_out:]\n",
        "print(x_forecast)"
      ],
      "execution_count": 36,
      "outputs": [
        {
          "output_type": "stream",
          "text": [
            "[[1414.51]\n",
            " [1451.05]\n",
            " [1461.76]\n",
            " [1448.69]\n",
            " [1468.35]\n",
            " [1482.92]\n",
            " [1484.76]\n",
            " [1500.  ]\n",
            " [1521.95]\n",
            " [1511.98]\n",
            " [1512.45]\n",
            " [1493.45]\n",
            " [1500.25]\n",
            " [1523.61]\n",
            " [1537.64]\n",
            " [1545.  ]\n",
            " [1551.86]\n",
            " [1578.89]\n",
            " [1598.39]\n",
            " [1588.18]\n",
            " [1591.  ]\n",
            " [1582.32]\n",
            " [1571.68]\n",
            " [1544.93]\n",
            " [1586.51]\n",
            " [1581.86]\n",
            " [1544.1 ]\n",
            " [1495.56]\n",
            " [1555.86]\n",
            " [1497.05]]\n"
          ],
          "name": "stdout"
        }
      ]
    },
    {
      "cell_type": "code",
      "metadata": {
        "id": "vZWOpMr8eO8N",
        "colab_type": "code",
        "colab": {
          "base_uri": "https://localhost:8080/",
          "height": 119
        },
        "outputId": "1495fab2-677c-466e-d205-acbe448a7930"
      },
      "source": [
        "# Print linear regression model predictions for the next '30' days\n",
        "lr_prediction = lr.predict(x_forecast)\n",
        "print(lr_prediction)"
      ],
      "execution_count": 37,
      "outputs": [
        {
          "output_type": "stream",
          "text": [
            "[1499.59778631 1538.42227341 1549.80186446 1535.9147258  1556.80387239\n",
            " 1572.2847913  1574.23982842 1590.43263585 1613.75495363 1603.16162751\n",
            " 1603.66101199 1583.47312872 1590.69826589 1615.51873712 1630.42589513\n",
            " 1638.2460436  1645.53493198 1674.25485224 1694.9739956  1684.12566464\n",
            " 1687.12197153 1677.89929643 1666.5940818  1638.17166719 1682.35125596\n",
            " 1677.41053716 1637.28977545 1585.71504628 1649.78501267 1587.29820134]\n"
          ],
          "name": "stdout"
        }
      ]
    },
    {
      "cell_type": "code",
      "metadata": {
        "id": "bVlX14nbeXBg",
        "colab_type": "code",
        "colab": {}
      },
      "source": [
        "# So, we are able to predict the adjusted cost for the stock of amazon for 30 days using previous 30 days as input."
      ],
      "execution_count": 0,
      "outputs": []
    },
    {
      "cell_type": "code",
      "metadata": {
        "id": "vtJij1Mfevfo",
        "colab_type": "code",
        "colab": {}
      },
      "source": [
        ""
      ],
      "execution_count": 0,
      "outputs": []
    }
  ]
}